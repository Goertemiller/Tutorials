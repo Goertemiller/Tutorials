{
 "cells": [
  {
   "cell_type": "markdown",
   "metadata": {
    "collapsed": true,
    "nbpresent": {
     "id": "d7340bc1-a3c6-47f6-99e5-28b969c775da"
    },
    "slideshow": {
     "slide_type": "slide"
    }
   },
   "source": [
    "# Pandas : Chewing through a bamboo forest of data"
   ]
  },
  {
   "cell_type": "markdown",
   "metadata": {
    "nbpresent": {
     "id": "d5f21140-4029-423a-b34e-60438ff1150c"
    },
    "slideshow": {
     "slide_type": "subslide"
    }
   },
   "source": [
    "# Anne Regel \n",
    "### *Twitter: @RegelAr*\n",
    "### *GitHub: mtchem*\n",
    "### *Linkedin: https://www.linkedin.com/in/anne-regel-phd-2943a061/ *"
   ]
  },
  {
   "cell_type": "markdown",
   "metadata": {
    "nbpresent": {
     "id": "fbf6e340-44fe-4bc0-91e6-3a3ebc03aaf9"
    },
    "slideshow": {
     "slide_type": "slide"
    }
   },
   "source": [
    "### Outline\n",
    "1. Some Background\n",
    "2. Anatomy of a Pandas Dataframe\n",
    "3. Importing Data\n",
    "4. Selecting and Smushing Dataframes\n",
    "5. Accessing Info in Dataframes\n",
    "6. Dataframe Methods for Cleaning/Analyzing Data"
   ]
  },
  {
   "cell_type": "markdown",
   "metadata": {
    "collapsed": true,
    "nbpresent": {
     "id": "a90e5b97-fe23-479a-b287-13fb13e78f07"
    },
    "slideshow": {
     "slide_type": "slide"
    }
   },
   "source": [
    "## Background\n",
    "### Pandas is an open source library (https://github.com/pandas-dev/pandas) being developed with the goal of being *the most powerful and flexible open source data analysis / manipulation tool available in any language.*  It's primary functionality revolves around the dataframe object, and it has many of the data manipulation and analysis functionality of R dataframes. "
   ]
  },
  {
   "cell_type": "markdown",
   "metadata": {
    "nbpresent": {
     "id": "e8af2a92-0108-41f0-8ae4-025adb797bbc"
    },
    "slideshow": {
     "slide_type": "slide"
    }
   },
   "source": [
    "## Anatomy of a Pandas Dataframe"
   ]
  },
  {
   "cell_type": "markdown",
   "metadata": {
    "collapsed": true,
    "nbpresent": {
     "id": "76552077-e2d2-43fe-9807-00e0d9bbf8e5"
    },
    "slideshow": {
     "slide_type": "subslide"
    }
   },
   "source": [
    "![title](images/dataframe_anatomy.png)"
   ]
  },
  {
   "cell_type": "markdown",
   "metadata": {
    "nbpresent": {
     "id": "5712b201-477d-42c4-bf56-4eb74bb4032c"
    },
    "slideshow": {
     "slide_type": "slide"
    }
   },
   "source": [
    "## Import Pandas Library"
   ]
  },
  {
   "cell_type": "code",
   "execution_count": 19,
   "metadata": {
    "collapsed": true,
    "nbpresent": {
     "id": "697e0c8d-c720-494c-bba0-1118431e6d06"
    },
    "slideshow": {
     "slide_type": "fragment"
    }
   },
   "outputs": [],
   "source": [
    "import pandas as pd"
   ]
  },
  {
   "cell_type": "code",
   "execution_count": 20,
   "metadata": {
    "collapsed": true,
    "nbpresent": {
     "id": "25e7f1f4-af60-41fe-929c-3f952e662f4a"
    }
   },
   "outputs": [],
   "source": [
    "# other imports\n",
    "import sqlite3 as sql\n",
    "import numpy as np"
   ]
  },
  {
   "cell_type": "markdown",
   "metadata": {
    "nbpresent": {
     "id": "dbb18d01-1633-476e-88fd-68934f581dbf"
    }
   },
   "source": [
    "## Importing Data"
   ]
  },
  {
   "cell_type": "code",
   "execution_count": 21,
   "metadata": {
    "collapsed": true,
    "nbpresent": {
     "id": "3f83a70c-f176-4ed8-b38b-df7a0dbd4b9a"
    }
   },
   "outputs": [],
   "source": [
    "# dictionary\n",
    "dictionary = {'AAA' : [4,5,6,7], 'BBB' : [10,20,30,40],'CCC' : [100,50,-30,-50]}\n",
    "\n",
    "# Dataframe from a dictionary\n",
    "df_dict = pd.DataFrame(dictionary)"
   ]
  },
  {
   "cell_type": "code",
   "execution_count": 22,
   "metadata": {
    "collapsed": true,
    "nbpresent": {
     "id": "d3f09bbb-cb92-4f68-b8b1-55fbf2808c77"
    }
   },
   "outputs": [],
   "source": [
    "# numpy array\n",
    "numpy_arr = np.array([(1,2.,'Hello'), (2,3.,\"World\")], dtype=[('foo', 'i4'),('bar', 'f4'), ('baz', 'S10')])\n",
    "\n",
    "# dataframe from a numpy array\n",
    "df_numpy = pd.DataFrame(numpy_arr)"
   ]
  },
  {
   "cell_type": "code",
   "execution_count": 23,
   "metadata": {
    "collapsed": false,
    "nbpresent": {
     "id": "98a41f7c-412a-4cd0-bfb9-d8cd23527ca6"
    }
   },
   "outputs": [],
   "source": [
    "# file path to a csv\n",
    "file_path_csv = r'C:\\Users\\aregel\\Documents\\Tutorials\\Pandas\\data\\Iris.csv'\n",
    "\n",
    "# dataframe from a csv\n",
    "df_csv = pd.read_csv(file_path_csv)"
   ]
  },
  {
   "cell_type": "code",
   "execution_count": 26,
   "metadata": {
    "collapsed": true,
    "nbpresent": {
     "id": "523bf0ac-967a-4532-a825-4989eb905f45"
    }
   },
   "outputs": [],
   "source": [
    "# file path to excel workbook\n",
    "file_path_excel = r'C:\\Users\\aregel\\Documents\\Tutorials\\Pandas\\data\\2012_games.xlsm'\n",
    "\n",
    "# dataframe from an excel workbook\n",
    "df_excel = pd.read_excel(file_path_excel)"
   ]
  },
  {
   "cell_type": "code",
   "execution_count": 29,
   "metadata": {
    "collapsed": false,
    "nbpresent": {
     "id": "07af0f3e-d4fe-459c-99c6-21f0a627d302"
    }
   },
   "outputs": [],
   "source": [
    "# list of dataframes from a website\n",
    "list_of_df_website = pd.read_html('https://www.msn.com/en-us/sports/nfl/standings') #returns a list of dataframes\n",
    "\n",
    "# first dataframe in list\n",
    "df_html = list_of_df_website[0]"
   ]
  },
  {
   "cell_type": "code",
   "execution_count": 30,
   "metadata": {
    "collapsed": false,
    "nbpresent": {
     "id": "c1ec0b1c-e2e7-4257-8145-268c57f802c0"
    }
   },
   "outputs": [],
   "source": [
    "# From SQL database\n",
    "db = r'C:\\Users\\aregel\\Documents\\kaggle\\NCAA-project\\ETL-MarchMadness-data\\data_to_SQLite_DB.db' # make a variable containing the file path (as a raw string) to your data.db file, below is an example\n",
    "conn = sql.connect(db) # make a connection to the database\n",
    "SQL_str = 'SELECT *  FROM RegularSeasonDetailedResults' #create a SQL query\n",
    "df_sql= pd.read_sql_query(SQL_str, conn) # read data into dataframe\n",
    "conn.close() #close connection"
   ]
  },
  {
   "cell_type": "raw",
   "metadata": {
    "nbpresent": {
     "id": "be1bcc8c-aae3-45cd-abe1-fa6bc54dc5e0"
    }
   },
   "source": [
    "# From HDF5 (Hierarchical Data Format)\n",
    "pd.read_hdf('foo.h5','df_HDF')"
   ]
  },
  {
   "cell_type": "markdown",
   "metadata": {},
   "source": [
    "## Selecting and Smushing Dataframes"
   ]
  },
  {
   "cell_type": "markdown",
   "metadata": {},
   "source": [
    "### *Looking around*"
   ]
  },
  {
   "cell_type": "code",
   "execution_count": 31,
   "metadata": {
    "collapsed": false,
    "nbpresent": {
     "id": "f7161c34-2d45-41eb-9ce9-155bdb2f5f99"
    }
   },
   "outputs": [
    {
     "data": {
      "text/html": [
       "<div>\n",
       "<style>\n",
       "    .dataframe thead tr:only-child th {\n",
       "        text-align: right;\n",
       "    }\n",
       "\n",
       "    .dataframe thead th {\n",
       "        text-align: left;\n",
       "    }\n",
       "\n",
       "    .dataframe tbody tr th {\n",
       "        vertical-align: top;\n",
       "    }\n",
       "</style>\n",
       "<table border=\"1\" class=\"dataframe\">\n",
       "  <thead>\n",
       "    <tr style=\"text-align: right;\">\n",
       "      <th></th>\n",
       "      <th>Id</th>\n",
       "      <th>SepalLengthCm</th>\n",
       "      <th>SepalWidthCm</th>\n",
       "      <th>PetalLengthCm</th>\n",
       "      <th>PetalWidthCm</th>\n",
       "      <th>Species</th>\n",
       "    </tr>\n",
       "  </thead>\n",
       "  <tbody>\n",
       "    <tr>\n",
       "      <th>0</th>\n",
       "      <td>1</td>\n",
       "      <td>5.1</td>\n",
       "      <td>3.5</td>\n",
       "      <td>1.4</td>\n",
       "      <td>0.2</td>\n",
       "      <td>Iris-setosa</td>\n",
       "    </tr>\n",
       "    <tr>\n",
       "      <th>1</th>\n",
       "      <td>2</td>\n",
       "      <td>4.9</td>\n",
       "      <td>3.0</td>\n",
       "      <td>1.4</td>\n",
       "      <td>0.2</td>\n",
       "      <td>Iris-setosa</td>\n",
       "    </tr>\n",
       "    <tr>\n",
       "      <th>2</th>\n",
       "      <td>3</td>\n",
       "      <td>4.7</td>\n",
       "      <td>3.2</td>\n",
       "      <td>1.3</td>\n",
       "      <td>0.2</td>\n",
       "      <td>Iris-setosa</td>\n",
       "    </tr>\n",
       "    <tr>\n",
       "      <th>3</th>\n",
       "      <td>4</td>\n",
       "      <td>4.6</td>\n",
       "      <td>3.1</td>\n",
       "      <td>1.5</td>\n",
       "      <td>0.2</td>\n",
       "      <td>Iris-setosa</td>\n",
       "    </tr>\n",
       "    <tr>\n",
       "      <th>4</th>\n",
       "      <td>5</td>\n",
       "      <td>5.0</td>\n",
       "      <td>3.6</td>\n",
       "      <td>1.4</td>\n",
       "      <td>0.2</td>\n",
       "      <td>Iris-setosa</td>\n",
       "    </tr>\n",
       "  </tbody>\n",
       "</table>\n",
       "</div>"
      ],
      "text/plain": [
       "   Id  SepalLengthCm  SepalWidthCm  PetalLengthCm  PetalWidthCm      Species\n",
       "0   1            5.1           3.5            1.4           0.2  Iris-setosa\n",
       "1   2            4.9           3.0            1.4           0.2  Iris-setosa\n",
       "2   3            4.7           3.2            1.3           0.2  Iris-setosa\n",
       "3   4            4.6           3.1            1.5           0.2  Iris-setosa\n",
       "4   5            5.0           3.6            1.4           0.2  Iris-setosa"
      ]
     },
     "execution_count": 31,
     "metadata": {},
     "output_type": "execute_result"
    }
   ],
   "source": [
    "# prints the first 5 rows\n",
    "df_csv.head()"
   ]
  },
  {
   "cell_type": "code",
   "execution_count": 32,
   "metadata": {
    "collapsed": false
   },
   "outputs": [
    {
     "data": {
      "text/html": [
       "<div>\n",
       "<style>\n",
       "    .dataframe thead tr:only-child th {\n",
       "        text-align: right;\n",
       "    }\n",
       "\n",
       "    .dataframe thead th {\n",
       "        text-align: left;\n",
       "    }\n",
       "\n",
       "    .dataframe tbody tr th {\n",
       "        vertical-align: top;\n",
       "    }\n",
       "</style>\n",
       "<table border=\"1\" class=\"dataframe\">\n",
       "  <thead>\n",
       "    <tr style=\"text-align: right;\">\n",
       "      <th></th>\n",
       "      <th>date</th>\n",
       "      <th>H_team</th>\n",
       "      <th>A_team</th>\n",
       "      <th>arena</th>\n",
       "      <th>H_score</th>\n",
       "      <th>A_score</th>\n",
       "      <th>winner</th>\n",
       "      <th>loser</th>\n",
       "      <th>g_type</th>\n",
       "      <th>conf</th>\n",
       "      <th>...</th>\n",
       "      <th>A_foul</th>\n",
       "      <th>H_of</th>\n",
       "      <th>H_df</th>\n",
       "      <th>A_of</th>\n",
       "      <th>H_oR</th>\n",
       "      <th>H_dR</th>\n",
       "      <th>A_oR</th>\n",
       "      <th>A_dR</th>\n",
       "      <th>H_Tf</th>\n",
       "      <th>A_Tu</th>\n",
       "    </tr>\n",
       "  </thead>\n",
       "  <tbody>\n",
       "    <tr>\n",
       "      <th>10194</th>\n",
       "      <td>2012-01-08</td>\n",
       "      <td>Yale Bulldogs</td>\n",
       "      <td>St. Joseph's (NY)</td>\n",
       "      <td>NaN</td>\n",
       "      <td>101</td>\n",
       "      <td>86</td>\n",
       "      <td>Yale Bulldogs</td>\n",
       "      <td>St. Joseph's (NY)</td>\n",
       "      <td>REG</td>\n",
       "      <td>NaN</td>\n",
       "      <td>...</td>\n",
       "      <td>NaN</td>\n",
       "      <td>NaN</td>\n",
       "      <td>NaN</td>\n",
       "      <td>NaN</td>\n",
       "      <td>NaN</td>\n",
       "      <td>NaN</td>\n",
       "      <td>NaN</td>\n",
       "      <td>NaN</td>\n",
       "      <td>NaN</td>\n",
       "      <td>NaN</td>\n",
       "    </tr>\n",
       "    <tr>\n",
       "      <th>3615</th>\n",
       "      <td>2012-01-27</td>\n",
       "      <td>Yale Bulldogs</td>\n",
       "      <td>Harvard</td>\n",
       "      <td>John J. Lee Ampitheater</td>\n",
       "      <td>35</td>\n",
       "      <td>65</td>\n",
       "      <td>Harvard</td>\n",
       "      <td>Yale Bulldogs</td>\n",
       "      <td>REG</td>\n",
       "      <td>John J. Lee Ampitheater</td>\n",
       "      <td>...</td>\n",
       "      <td>NaN</td>\n",
       "      <td>NaN</td>\n",
       "      <td>NaN</td>\n",
       "      <td>NaN</td>\n",
       "      <td>NaN</td>\n",
       "      <td>NaN</td>\n",
       "      <td>NaN</td>\n",
       "      <td>NaN</td>\n",
       "      <td>NaN</td>\n",
       "      <td>NaN</td>\n",
       "    </tr>\n",
       "    <tr>\n",
       "      <th>5979</th>\n",
       "      <td>2012-02-11</td>\n",
       "      <td>Columbia</td>\n",
       "      <td>Yale Bulldogs</td>\n",
       "      <td>Levien Gym</td>\n",
       "      <td>58</td>\n",
       "      <td>59</td>\n",
       "      <td>Yale Bulldogs</td>\n",
       "      <td>Columbia</td>\n",
       "      <td>REG</td>\n",
       "      <td>Levien Gym</td>\n",
       "      <td>...</td>\n",
       "      <td>NaN</td>\n",
       "      <td>NaN</td>\n",
       "      <td>NaN</td>\n",
       "      <td>NaN</td>\n",
       "      <td>NaN</td>\n",
       "      <td>NaN</td>\n",
       "      <td>NaN</td>\n",
       "      <td>NaN</td>\n",
       "      <td>NaN</td>\n",
       "      <td>NaN</td>\n",
       "    </tr>\n",
       "    <tr>\n",
       "      <th>6955</th>\n",
       "      <td>2011-12-06</td>\n",
       "      <td>Youngstown State Penguins</td>\n",
       "      <td>Fredonia State</td>\n",
       "      <td>Beeghly Center</td>\n",
       "      <td>69</td>\n",
       "      <td>35</td>\n",
       "      <td>Youngstown State Penguins</td>\n",
       "      <td>Fredonia State</td>\n",
       "      <td>REG</td>\n",
       "      <td>Beeghly Center</td>\n",
       "      <td>...</td>\n",
       "      <td>NaN</td>\n",
       "      <td>NaN</td>\n",
       "      <td>NaN</td>\n",
       "      <td>NaN</td>\n",
       "      <td>NaN</td>\n",
       "      <td>NaN</td>\n",
       "      <td>NaN</td>\n",
       "      <td>NaN</td>\n",
       "      <td>NaN</td>\n",
       "      <td>NaN</td>\n",
       "    </tr>\n",
       "    <tr>\n",
       "      <th>7171</th>\n",
       "      <td>2012-01-07</td>\n",
       "      <td>Youngstown State Penguins</td>\n",
       "      <td>Illinois-Chicago</td>\n",
       "      <td>Beeghly Center</td>\n",
       "      <td>71</td>\n",
       "      <td>50</td>\n",
       "      <td>Youngstown State Penguins</td>\n",
       "      <td>Illinois-Chicago</td>\n",
       "      <td>REG</td>\n",
       "      <td>Beeghly Center</td>\n",
       "      <td>...</td>\n",
       "      <td>NaN</td>\n",
       "      <td>NaN</td>\n",
       "      <td>NaN</td>\n",
       "      <td>NaN</td>\n",
       "      <td>NaN</td>\n",
       "      <td>NaN</td>\n",
       "      <td>NaN</td>\n",
       "      <td>NaN</td>\n",
       "      <td>NaN</td>\n",
       "      <td>NaN</td>\n",
       "    </tr>\n",
       "  </tbody>\n",
       "</table>\n",
       "<p>5 rows × 22 columns</p>\n",
       "</div>"
      ],
      "text/plain": [
       "            date                     H_team             A_team  \\\n",
       "10194 2012-01-08              Yale Bulldogs  St. Joseph's (NY)   \n",
       "3615  2012-01-27              Yale Bulldogs            Harvard   \n",
       "5979  2012-02-11                   Columbia      Yale Bulldogs   \n",
       "6955  2011-12-06  Youngstown State Penguins     Fredonia State   \n",
       "7171  2012-01-07  Youngstown State Penguins   Illinois-Chicago   \n",
       "\n",
       "                         arena  H_score  A_score                     winner  \\\n",
       "10194                      NaN      101       86              Yale Bulldogs   \n",
       "3615   John J. Lee Ampitheater       35       65                    Harvard   \n",
       "5979                Levien Gym       58       59              Yale Bulldogs   \n",
       "6955            Beeghly Center       69       35  Youngstown State Penguins   \n",
       "7171            Beeghly Center       71       50  Youngstown State Penguins   \n",
       "\n",
       "                   loser g_type                     conf  ...   A_foul  H_of  \\\n",
       "10194  St. Joseph's (NY)    REG                      NaN  ...      NaN   NaN   \n",
       "3615       Yale Bulldogs    REG  John J. Lee Ampitheater  ...      NaN   NaN   \n",
       "5979            Columbia    REG               Levien Gym  ...      NaN   NaN   \n",
       "6955      Fredonia State    REG           Beeghly Center  ...      NaN   NaN   \n",
       "7171    Illinois-Chicago    REG           Beeghly Center  ...      NaN   NaN   \n",
       "\n",
       "       H_df  A_of  H_oR  H_dR  A_oR  A_dR  H_Tf  A_Tu  \n",
       "10194   NaN   NaN   NaN   NaN   NaN   NaN   NaN   NaN  \n",
       "3615    NaN   NaN   NaN   NaN   NaN   NaN   NaN   NaN  \n",
       "5979    NaN   NaN   NaN   NaN   NaN   NaN   NaN   NaN  \n",
       "6955    NaN   NaN   NaN   NaN   NaN   NaN   NaN   NaN  \n",
       "7171    NaN   NaN   NaN   NaN   NaN   NaN   NaN   NaN  \n",
       "\n",
       "[5 rows x 22 columns]"
      ]
     },
     "execution_count": 32,
     "metadata": {},
     "output_type": "execute_result"
    }
   ],
   "source": [
    "df_excel.tail() # shows you the last 5 rows"
   ]
  },
  {
   "cell_type": "code",
   "execution_count": 33,
   "metadata": {
    "collapsed": false
   },
   "outputs": [
    {
     "data": {
      "text/html": [
       "<div>\n",
       "<style>\n",
       "    .dataframe thead tr:only-child th {\n",
       "        text-align: right;\n",
       "    }\n",
       "\n",
       "    .dataframe thead th {\n",
       "        text-align: left;\n",
       "    }\n",
       "\n",
       "    .dataframe tbody tr th {\n",
       "        vertical-align: top;\n",
       "    }\n",
       "</style>\n",
       "<table border=\"1\" class=\"dataframe\">\n",
       "  <thead>\n",
       "    <tr style=\"text-align: right;\">\n",
       "      <th></th>\n",
       "      <th>AFC North</th>\n",
       "      <th>W</th>\n",
       "      <th>L</th>\n",
       "      <th>T</th>\n",
       "      <th>PCT</th>\n",
       "      <th>GB</th>\n",
       "      <th>PF</th>\n",
       "      <th>PA</th>\n",
       "      <th>Home</th>\n",
       "      <th>Away</th>\n",
       "      <th>Conf</th>\n",
       "      <th>Div</th>\n",
       "      <th>STRK</th>\n",
       "      <th>Unnamed: 13</th>\n",
       "      <th>Unnamed: 14</th>\n",
       "    </tr>\n",
       "  </thead>\n",
       "  <tbody>\n",
       "    <tr>\n",
       "      <th>0</th>\n",
       "      <td>NaN</td>\n",
       "      <td>Baltimore Ravens</td>\n",
       "      <td>Ravens</td>\n",
       "      <td>2</td>\n",
       "      <td>0</td>\n",
       "      <td>0</td>\n",
       "      <td>1.0</td>\n",
       "      <td>-</td>\n",
       "      <td>44</td>\n",
       "      <td>10</td>\n",
       "      <td>1-0-0</td>\n",
       "      <td>1-0-0</td>\n",
       "      <td>2-0-0</td>\n",
       "      <td>2-0-0</td>\n",
       "      <td>W2</td>\n",
       "    </tr>\n",
       "    <tr>\n",
       "      <th>1</th>\n",
       "      <td>NaN</td>\n",
       "      <td>Pittsburgh Steelers</td>\n",
       "      <td>Steelers</td>\n",
       "      <td>2</td>\n",
       "      <td>0</td>\n",
       "      <td>0</td>\n",
       "      <td>1.0</td>\n",
       "      <td>-</td>\n",
       "      <td>47</td>\n",
       "      <td>27</td>\n",
       "      <td>1-0-0</td>\n",
       "      <td>1-0-0</td>\n",
       "      <td>1-0-0</td>\n",
       "      <td>1-0-0</td>\n",
       "      <td>W2</td>\n",
       "    </tr>\n",
       "    <tr>\n",
       "      <th>2</th>\n",
       "      <td>NaN</td>\n",
       "      <td>Cincinnati Bengals</td>\n",
       "      <td>Bengals</td>\n",
       "      <td>0</td>\n",
       "      <td>2</td>\n",
       "      <td>0</td>\n",
       "      <td>0.0</td>\n",
       "      <td>2.0</td>\n",
       "      <td>9</td>\n",
       "      <td>33</td>\n",
       "      <td>0-2-0</td>\n",
       "      <td>0-0-0</td>\n",
       "      <td>0-2-0</td>\n",
       "      <td>0-1-0</td>\n",
       "      <td>L2</td>\n",
       "    </tr>\n",
       "    <tr>\n",
       "      <th>3</th>\n",
       "      <td>NaN</td>\n",
       "      <td>Cleveland Browns</td>\n",
       "      <td>Browns</td>\n",
       "      <td>0</td>\n",
       "      <td>2</td>\n",
       "      <td>0</td>\n",
       "      <td>0.0</td>\n",
       "      <td>2.0</td>\n",
       "      <td>28</td>\n",
       "      <td>45</td>\n",
       "      <td>0-1-0</td>\n",
       "      <td>0-1-0</td>\n",
       "      <td>0-2-0</td>\n",
       "      <td>0-2-0</td>\n",
       "      <td>L2</td>\n",
       "    </tr>\n",
       "  </tbody>\n",
       "</table>\n",
       "</div>"
      ],
      "text/plain": [
       "   AFC North                    W         L  T  PCT  GB   PF   PA  Home  Away  \\\n",
       "0        NaN     Baltimore Ravens    Ravens  2    0   0  1.0    -    44    10   \n",
       "1        NaN  Pittsburgh Steelers  Steelers  2    0   0  1.0    -    47    27   \n",
       "2        NaN   Cincinnati Bengals   Bengals  0    2   0  0.0  2.0     9    33   \n",
       "3        NaN     Cleveland Browns    Browns  0    2   0  0.0  2.0    28    45   \n",
       "\n",
       "    Conf    Div   STRK Unnamed: 13 Unnamed: 14  \n",
       "0  1-0-0  1-0-0  2-0-0       2-0-0          W2  \n",
       "1  1-0-0  1-0-0  1-0-0       1-0-0          W2  \n",
       "2  0-2-0  0-0-0  0-2-0       0-1-0          L2  \n",
       "3  0-1-0  0-1-0  0-2-0       0-2-0          L2  "
      ]
     },
     "execution_count": 33,
     "metadata": {},
     "output_type": "execute_result"
    }
   ],
   "source": [
    "df_html.head(10) # returns the first 10 rows\n",
    "#df_csv.head(-10) # returns all rows UNTIL the -10th row\n",
    "#df_html.tail(10) # returns last 10 rows"
   ]
  },
  {
   "cell_type": "code",
   "execution_count": 34,
   "metadata": {
    "collapsed": false,
    "nbpresent": {
     "id": "ac5116bd-4775-4719-ba7d-8c365680d9da"
    }
   },
   "outputs": [
    {
     "data": {
      "text/plain": [
       "Index(['Id', 'SepalLengthCm', 'SepalWidthCm', 'PetalLengthCm', 'PetalWidthCm',\n",
       "       'Species'],\n",
       "      dtype='object')"
      ]
     },
     "execution_count": 34,
     "metadata": {},
     "output_type": "execute_result"
    }
   ],
   "source": [
    "# lists the columns\n",
    "df_csv.columns"
   ]
  },
  {
   "cell_type": "markdown",
   "metadata": {},
   "source": [
    "### *Selecting and Adding Columns*"
   ]
  },
  {
   "cell_type": "code",
   "execution_count": 35,
   "metadata": {
    "collapsed": false
   },
   "outputs": [
    {
     "name": "stdout",
     "output_type": "stream",
     "text": [
      "0    Iris-setosa\n",
      "1    Iris-setosa\n",
      "2    Iris-setosa\n",
      "3    Iris-setosa\n",
      "4    Iris-setosa\n",
      "Name: Species, dtype: object\n",
      "<class 'pandas.core.series.Series'>\n"
     ]
    }
   ],
   "source": [
    "# select one column from a dataframe using\n",
    "species = df_csv.Species # dot notation\n",
    "# species = df_csv['Species] # bracket notation\n",
    "print(species[:5])\n",
    "print(type(species))\n",
    "\n",
    "# Both result in an iterable series"
   ]
  },
  {
   "cell_type": "code",
   "execution_count": 36,
   "metadata": {
    "collapsed": false
   },
   "outputs": [
    {
     "name": "stdout",
     "output_type": "stream",
     "text": [
      "       Species  Id\n",
      "0  Iris-setosa   1\n",
      "1  Iris-setosa   2\n",
      "2  Iris-setosa   3\n",
      "3  Iris-setosa   4\n",
      "4  Iris-setosa   5\n",
      "<class 'pandas.core.frame.DataFrame'>\n"
     ]
    }
   ],
   "source": [
    "# select multiple columns from a dataframe\n",
    "two_columns = df_csv[['Species', 'Id']] #double brackets\n",
    "print(two_columns.head())\n",
    "print(type(two_columns)) # returns a pandas dataframe"
   ]
  },
  {
   "cell_type": "code",
   "execution_count": 37,
   "metadata": {
    "collapsed": false
   },
   "outputs": [
    {
     "data": {
      "text/html": [
       "<div>\n",
       "<style>\n",
       "    .dataframe thead tr:only-child th {\n",
       "        text-align: right;\n",
       "    }\n",
       "\n",
       "    .dataframe thead th {\n",
       "        text-align: left;\n",
       "    }\n",
       "\n",
       "    .dataframe tbody tr th {\n",
       "        vertical-align: top;\n",
       "    }\n",
       "</style>\n",
       "<table border=\"1\" class=\"dataframe\">\n",
       "  <thead>\n",
       "    <tr style=\"text-align: right;\">\n",
       "      <th></th>\n",
       "      <th>Id</th>\n",
       "      <th>SepalLengthCm</th>\n",
       "      <th>SepalWidthCm</th>\n",
       "      <th>PetalLengthCm</th>\n",
       "      <th>PetalWidthCm</th>\n",
       "      <th>Species</th>\n",
       "      <th>SepalWidthM</th>\n",
       "    </tr>\n",
       "  </thead>\n",
       "  <tbody>\n",
       "    <tr>\n",
       "      <th>0</th>\n",
       "      <td>1</td>\n",
       "      <td>5.1</td>\n",
       "      <td>3.5</td>\n",
       "      <td>1.4</td>\n",
       "      <td>0.2</td>\n",
       "      <td>Iris-setosa</td>\n",
       "      <td>0.035</td>\n",
       "    </tr>\n",
       "    <tr>\n",
       "      <th>1</th>\n",
       "      <td>2</td>\n",
       "      <td>4.9</td>\n",
       "      <td>3.0</td>\n",
       "      <td>1.4</td>\n",
       "      <td>0.2</td>\n",
       "      <td>Iris-setosa</td>\n",
       "      <td>0.030</td>\n",
       "    </tr>\n",
       "    <tr>\n",
       "      <th>2</th>\n",
       "      <td>3</td>\n",
       "      <td>4.7</td>\n",
       "      <td>3.2</td>\n",
       "      <td>1.3</td>\n",
       "      <td>0.2</td>\n",
       "      <td>Iris-setosa</td>\n",
       "      <td>0.032</td>\n",
       "    </tr>\n",
       "    <tr>\n",
       "      <th>3</th>\n",
       "      <td>4</td>\n",
       "      <td>4.6</td>\n",
       "      <td>3.1</td>\n",
       "      <td>1.5</td>\n",
       "      <td>0.2</td>\n",
       "      <td>Iris-setosa</td>\n",
       "      <td>0.031</td>\n",
       "    </tr>\n",
       "    <tr>\n",
       "      <th>4</th>\n",
       "      <td>5</td>\n",
       "      <td>5.0</td>\n",
       "      <td>3.6</td>\n",
       "      <td>1.4</td>\n",
       "      <td>0.2</td>\n",
       "      <td>Iris-setosa</td>\n",
       "      <td>0.036</td>\n",
       "    </tr>\n",
       "  </tbody>\n",
       "</table>\n",
       "</div>"
      ],
      "text/plain": [
       "   Id  SepalLengthCm  SepalWidthCm  PetalLengthCm  PetalWidthCm      Species  \\\n",
       "0   1            5.1           3.5            1.4           0.2  Iris-setosa   \n",
       "1   2            4.9           3.0            1.4           0.2  Iris-setosa   \n",
       "2   3            4.7           3.2            1.3           0.2  Iris-setosa   \n",
       "3   4            4.6           3.1            1.5           0.2  Iris-setosa   \n",
       "4   5            5.0           3.6            1.4           0.2  Iris-setosa   \n",
       "\n",
       "   SepalWidthM  \n",
       "0        0.035  \n",
       "1        0.030  \n",
       "2        0.032  \n",
       "3        0.031  \n",
       "4        0.036  "
      ]
     },
     "execution_count": 37,
     "metadata": {},
     "output_type": "execute_result"
    }
   ],
   "source": [
    "# adding another column to a dataframe\n",
    "df_csv['SepalWidthM'] = df_csv.SepalWidthCm/100\n",
    "df_csv.head()"
   ]
  },
  {
   "cell_type": "markdown",
   "metadata": {},
   "source": [
    "### *Smushing Dataframes Together*"
   ]
  },
  {
   "cell_type": "code",
   "execution_count": 38,
   "metadata": {
    "collapsed": false
   },
   "outputs": [],
   "source": [
    "# create some example dataframes (these examples are from pandas documentation https://pandas.pydata.org/pandas-docs/stable/merging.html)\n",
    "df1 = pd.DataFrame({'A': ['A0', 'A1', 'A2', 'A3'],\n",
    "                    'B': ['B0', 'B1', 'B2', 'B3'],\n",
    "                    'C': ['C0', 'C1', 'C2', 'C3'],\n",
    "                   'D': ['D0', 'D1', 'D2', 'D3']})\n",
    "df2 = pd.DataFrame({'A': ['A4', 'A5', 'A6', 'A7'],\n",
    "                    'B': ['B4', 'B5', 'B6', 'B7'],\n",
    "                    'C': ['C4', 'C5', 'C6', 'C7'],\n",
    "                   'D': ['D0', 'D1', 'D2', 'D3']})\n",
    "df3 = pd.DataFrame({'A': ['A8', 'A9', 'A10', 'A11'],\n",
    "                    'B': ['B8', 'B9', 'B10', 'B11'],\n",
    "                    'C': ['C8', 'C9', 'C10', 'C11'],\n",
    "                   'D': ['D8', 'D9', 'D10', 'D11']})"
   ]
  },
  {
   "cell_type": "markdown",
   "metadata": {},
   "source": [
    "#### Concatenate"
   ]
  },
  {
   "cell_type": "code",
   "execution_count": 39,
   "metadata": {
    "collapsed": false
   },
   "outputs": [
    {
     "data": {
      "text/html": [
       "<div>\n",
       "<style>\n",
       "    .dataframe thead tr:only-child th {\n",
       "        text-align: right;\n",
       "    }\n",
       "\n",
       "    .dataframe thead th {\n",
       "        text-align: left;\n",
       "    }\n",
       "\n",
       "    .dataframe tbody tr th {\n",
       "        vertical-align: top;\n",
       "    }\n",
       "</style>\n",
       "<table border=\"1\" class=\"dataframe\">\n",
       "  <thead>\n",
       "    <tr style=\"text-align: right;\">\n",
       "      <th></th>\n",
       "      <th>A</th>\n",
       "      <th>B</th>\n",
       "      <th>C</th>\n",
       "      <th>D</th>\n",
       "    </tr>\n",
       "  </thead>\n",
       "  <tbody>\n",
       "    <tr>\n",
       "      <th>0</th>\n",
       "      <td>A0</td>\n",
       "      <td>B0</td>\n",
       "      <td>C0</td>\n",
       "      <td>D0</td>\n",
       "    </tr>\n",
       "    <tr>\n",
       "      <th>1</th>\n",
       "      <td>A1</td>\n",
       "      <td>B1</td>\n",
       "      <td>C1</td>\n",
       "      <td>D1</td>\n",
       "    </tr>\n",
       "    <tr>\n",
       "      <th>2</th>\n",
       "      <td>A2</td>\n",
       "      <td>B2</td>\n",
       "      <td>C2</td>\n",
       "      <td>D2</td>\n",
       "    </tr>\n",
       "    <tr>\n",
       "      <th>3</th>\n",
       "      <td>A3</td>\n",
       "      <td>B3</td>\n",
       "      <td>C3</td>\n",
       "      <td>D3</td>\n",
       "    </tr>\n",
       "    <tr>\n",
       "      <th>0</th>\n",
       "      <td>A4</td>\n",
       "      <td>B4</td>\n",
       "      <td>C4</td>\n",
       "      <td>D0</td>\n",
       "    </tr>\n",
       "    <tr>\n",
       "      <th>1</th>\n",
       "      <td>A5</td>\n",
       "      <td>B5</td>\n",
       "      <td>C5</td>\n",
       "      <td>D1</td>\n",
       "    </tr>\n",
       "    <tr>\n",
       "      <th>2</th>\n",
       "      <td>A6</td>\n",
       "      <td>B6</td>\n",
       "      <td>C6</td>\n",
       "      <td>D2</td>\n",
       "    </tr>\n",
       "    <tr>\n",
       "      <th>3</th>\n",
       "      <td>A7</td>\n",
       "      <td>B7</td>\n",
       "      <td>C7</td>\n",
       "      <td>D3</td>\n",
       "    </tr>\n",
       "  </tbody>\n",
       "</table>\n",
       "</div>"
      ],
      "text/plain": [
       "    A   B   C   D\n",
       "0  A0  B0  C0  D0\n",
       "1  A1  B1  C1  D1\n",
       "2  A2  B2  C2  D2\n",
       "3  A3  B3  C3  D3\n",
       "0  A4  B4  C4  D0\n",
       "1  A5  B5  C5  D1\n",
       "2  A6  B6  C6  D2\n",
       "3  A7  B7  C7  D3"
      ]
     },
     "execution_count": 39,
     "metadata": {},
     "output_type": "execute_result"
    }
   ],
   "source": [
    "pd.concat([df1, df2]) # adds them together, keeps original index\n",
    "#pd.concat([df1, df2], ignore_index=True) # adds them together, creates new index\n",
    "#pd.concat([df1, df2], keys=['df1', 'df2']) # adds them together, creates hierarchial index for each original dataframe\n",
    "#pd.concat([df1, df2], keys=['df1', 'df2'], names = ['dataframe name', 'Original Index'])\n",
    "\n",
    "# for more complicated concats https://pandas.pydata.org/pandas-docs/stable/generated/pandas.concat.html"
   ]
  },
  {
   "cell_type": "markdown",
   "metadata": {},
   "source": [
    "#### Append"
   ]
  },
  {
   "cell_type": "code",
   "execution_count": 40,
   "metadata": {
    "collapsed": false
   },
   "outputs": [
    {
     "data": {
      "text/html": [
       "<div>\n",
       "<style>\n",
       "    .dataframe thead tr:only-child th {\n",
       "        text-align: right;\n",
       "    }\n",
       "\n",
       "    .dataframe thead th {\n",
       "        text-align: left;\n",
       "    }\n",
       "\n",
       "    .dataframe tbody tr th {\n",
       "        vertical-align: top;\n",
       "    }\n",
       "</style>\n",
       "<table border=\"1\" class=\"dataframe\">\n",
       "  <thead>\n",
       "    <tr style=\"text-align: right;\">\n",
       "      <th></th>\n",
       "      <th>A</th>\n",
       "      <th>B</th>\n",
       "      <th>C</th>\n",
       "      <th>D</th>\n",
       "    </tr>\n",
       "  </thead>\n",
       "  <tbody>\n",
       "    <tr>\n",
       "      <th>0</th>\n",
       "      <td>A0</td>\n",
       "      <td>B0</td>\n",
       "      <td>C0</td>\n",
       "      <td>D0</td>\n",
       "    </tr>\n",
       "    <tr>\n",
       "      <th>1</th>\n",
       "      <td>A1</td>\n",
       "      <td>B1</td>\n",
       "      <td>C1</td>\n",
       "      <td>D1</td>\n",
       "    </tr>\n",
       "    <tr>\n",
       "      <th>2</th>\n",
       "      <td>A2</td>\n",
       "      <td>B2</td>\n",
       "      <td>C2</td>\n",
       "      <td>D2</td>\n",
       "    </tr>\n",
       "    <tr>\n",
       "      <th>3</th>\n",
       "      <td>A3</td>\n",
       "      <td>B3</td>\n",
       "      <td>C3</td>\n",
       "      <td>D3</td>\n",
       "    </tr>\n",
       "    <tr>\n",
       "      <th>4</th>\n",
       "      <td>A4</td>\n",
       "      <td>B4</td>\n",
       "      <td>C4</td>\n",
       "      <td>D0</td>\n",
       "    </tr>\n",
       "    <tr>\n",
       "      <th>5</th>\n",
       "      <td>A5</td>\n",
       "      <td>B5</td>\n",
       "      <td>C5</td>\n",
       "      <td>D1</td>\n",
       "    </tr>\n",
       "    <tr>\n",
       "      <th>6</th>\n",
       "      <td>A6</td>\n",
       "      <td>B6</td>\n",
       "      <td>C6</td>\n",
       "      <td>D2</td>\n",
       "    </tr>\n",
       "    <tr>\n",
       "      <th>7</th>\n",
       "      <td>A7</td>\n",
       "      <td>B7</td>\n",
       "      <td>C7</td>\n",
       "      <td>D3</td>\n",
       "    </tr>\n",
       "  </tbody>\n",
       "</table>\n",
       "</div>"
      ],
      "text/plain": [
       "    A   B   C   D\n",
       "0  A0  B0  C0  D0\n",
       "1  A1  B1  C1  D1\n",
       "2  A2  B2  C2  D2\n",
       "3  A3  B3  C3  D3\n",
       "4  A4  B4  C4  D0\n",
       "5  A5  B5  C5  D1\n",
       "6  A6  B6  C6  D2\n",
       "7  A7  B7  C7  D3"
      ]
     },
     "execution_count": 40,
     "metadata": {},
     "output_type": "execute_result"
    }
   ],
   "source": [
    "#df1.append(df2)\n",
    "df1.append(df2, ignore_index=True)"
   ]
  },
  {
   "cell_type": "markdown",
   "metadata": {},
   "source": [
    "#### Join\n",
    "Again, there are a lot of ways to use join, I'm only going over a few. You can find more info at https://pandas.pydata.org/pandas-docs/stable/generated/pandas.DataFrame.join.html#pandas.DataFrame.join"
   ]
  },
  {
   "cell_type": "code",
   "execution_count": 41,
   "metadata": {
    "collapsed": false
   },
   "outputs": [
    {
     "data": {
      "text/html": [
       "<div>\n",
       "<style>\n",
       "    .dataframe thead tr:only-child th {\n",
       "        text-align: right;\n",
       "    }\n",
       "\n",
       "    .dataframe thead th {\n",
       "        text-align: left;\n",
       "    }\n",
       "\n",
       "    .dataframe tbody tr th {\n",
       "        vertical-align: top;\n",
       "    }\n",
       "</style>\n",
       "<table border=\"1\" class=\"dataframe\">\n",
       "  <thead>\n",
       "    <tr style=\"text-align: right;\">\n",
       "      <th></th>\n",
       "      <th>Adf1</th>\n",
       "      <th>Bdf1</th>\n",
       "      <th>Cdf1</th>\n",
       "      <th>Ddf1</th>\n",
       "      <th>Adf2</th>\n",
       "      <th>Bdf2</th>\n",
       "      <th>Cdf2</th>\n",
       "      <th>Ddf2</th>\n",
       "    </tr>\n",
       "  </thead>\n",
       "  <tbody>\n",
       "    <tr>\n",
       "      <th>0</th>\n",
       "      <td>A0</td>\n",
       "      <td>B0</td>\n",
       "      <td>C0</td>\n",
       "      <td>D0</td>\n",
       "      <td>A4</td>\n",
       "      <td>B4</td>\n",
       "      <td>C4</td>\n",
       "      <td>D0</td>\n",
       "    </tr>\n",
       "    <tr>\n",
       "      <th>1</th>\n",
       "      <td>A1</td>\n",
       "      <td>B1</td>\n",
       "      <td>C1</td>\n",
       "      <td>D1</td>\n",
       "      <td>A5</td>\n",
       "      <td>B5</td>\n",
       "      <td>C5</td>\n",
       "      <td>D1</td>\n",
       "    </tr>\n",
       "    <tr>\n",
       "      <th>2</th>\n",
       "      <td>A2</td>\n",
       "      <td>B2</td>\n",
       "      <td>C2</td>\n",
       "      <td>D2</td>\n",
       "      <td>A6</td>\n",
       "      <td>B6</td>\n",
       "      <td>C6</td>\n",
       "      <td>D2</td>\n",
       "    </tr>\n",
       "    <tr>\n",
       "      <th>3</th>\n",
       "      <td>A3</td>\n",
       "      <td>B3</td>\n",
       "      <td>C3</td>\n",
       "      <td>D3</td>\n",
       "      <td>A7</td>\n",
       "      <td>B7</td>\n",
       "      <td>C7</td>\n",
       "      <td>D3</td>\n",
       "    </tr>\n",
       "  </tbody>\n",
       "</table>\n",
       "</div>"
      ],
      "text/plain": [
       "  Adf1 Bdf1 Cdf1 Ddf1 Adf2 Bdf2 Cdf2 Ddf2\n",
       "0   A0   B0   C0   D0   A4   B4   C4   D0\n",
       "1   A1   B1   C1   D1   A5   B5   C5   D1\n",
       "2   A2   B2   C2   D2   A6   B6   C6   D2\n",
       "3   A3   B3   C3   D3   A7   B7   C7   D3"
      ]
     },
     "execution_count": 41,
     "metadata": {},
     "output_type": "execute_result"
    }
   ],
   "source": [
    "df1.join(df2, lsuffix = 'df1', rsuffix = 'df2') #joins on the index\n",
    "#df1.join(df2, lsuffix = 'df1', rsuffix = 'df2', how = 'inner')"
   ]
  },
  {
   "cell_type": "markdown",
   "metadata": {
    "collapsed": true
   },
   "source": [
    "#### Merge\n",
    "There are a lot of possible parameters, I will only be going over a few simple examples"
   ]
  },
  {
   "cell_type": "code",
   "execution_count": 42,
   "metadata": {
    "collapsed": false
   },
   "outputs": [],
   "source": [
    "# add a Key column to df1 and df2\n",
    "df1['Key1'] = ['da', 'de', 'doo', 'dell']\n",
    "df2['Key2'] = ['doo', 'de', 'x', 'y']\n"
   ]
  },
  {
   "cell_type": "code",
   "execution_count": 43,
   "metadata": {
    "collapsed": false
   },
   "outputs": [
    {
     "data": {
      "text/html": [
       "<div>\n",
       "<style>\n",
       "    .dataframe thead tr:only-child th {\n",
       "        text-align: right;\n",
       "    }\n",
       "\n",
       "    .dataframe thead th {\n",
       "        text-align: left;\n",
       "    }\n",
       "\n",
       "    .dataframe tbody tr th {\n",
       "        vertical-align: top;\n",
       "    }\n",
       "</style>\n",
       "<table border=\"1\" class=\"dataframe\">\n",
       "  <thead>\n",
       "    <tr style=\"text-align: right;\">\n",
       "      <th></th>\n",
       "      <th>A</th>\n",
       "      <th>B</th>\n",
       "      <th>C</th>\n",
       "      <th>D</th>\n",
       "      <th>Key1</th>\n",
       "      <th>Key2</th>\n",
       "    </tr>\n",
       "  </thead>\n",
       "  <tbody>\n",
       "  </tbody>\n",
       "</table>\n",
       "</div>"
      ],
      "text/plain": [
       "Empty DataFrame\n",
       "Columns: [A, B, C, D, Key1, Key2]\n",
       "Index: []"
      ]
     },
     "execution_count": 43,
     "metadata": {},
     "output_type": "execute_result"
    }
   ],
   "source": [
    "df1.merge(df2)\n",
    "# df1.merge(df2, left_on = 'Key1', right_on = 'Key2')\n",
    "# df1.merge(df2, left_on = 'Key1', right_on = 'Key2', how = 'outer')\n",
    "# df1.merge(df2, left_on = 'Key1', right_on = 'Key2', how = 'left')"
   ]
  },
  {
   "cell_type": "markdown",
   "metadata": {},
   "source": [
    "### Accessing Info in Dataframes"
   ]
  },
  {
   "cell_type": "code",
   "execution_count": 44,
   "metadata": {
    "collapsed": false
   },
   "outputs": [
    {
     "data": {
      "text/plain": [
       "0    A0\n",
       "1    A1\n",
       "2    A2\n",
       "3    A3\n",
       "Name: A, dtype: object"
      ]
     },
     "execution_count": 44,
     "metadata": {},
     "output_type": "execute_result"
    }
   ],
   "source": [
    "# one column\n",
    "df1.A"
   ]
  },
  {
   "cell_type": "code",
   "execution_count": 45,
   "metadata": {
    "collapsed": false
   },
   "outputs": [
    {
     "data": {
      "text/html": [
       "<div>\n",
       "<style>\n",
       "    .dataframe thead tr:only-child th {\n",
       "        text-align: right;\n",
       "    }\n",
       "\n",
       "    .dataframe thead th {\n",
       "        text-align: left;\n",
       "    }\n",
       "\n",
       "    .dataframe tbody tr th {\n",
       "        vertical-align: top;\n",
       "    }\n",
       "</style>\n",
       "<table border=\"1\" class=\"dataframe\">\n",
       "  <thead>\n",
       "    <tr style=\"text-align: right;\">\n",
       "      <th></th>\n",
       "      <th>A</th>\n",
       "      <th>B</th>\n",
       "    </tr>\n",
       "  </thead>\n",
       "  <tbody>\n",
       "    <tr>\n",
       "      <th>0</th>\n",
       "      <td>A0</td>\n",
       "      <td>B0</td>\n",
       "    </tr>\n",
       "    <tr>\n",
       "      <th>1</th>\n",
       "      <td>A1</td>\n",
       "      <td>B1</td>\n",
       "    </tr>\n",
       "    <tr>\n",
       "      <th>2</th>\n",
       "      <td>A2</td>\n",
       "      <td>B2</td>\n",
       "    </tr>\n",
       "    <tr>\n",
       "      <th>3</th>\n",
       "      <td>A3</td>\n",
       "      <td>B3</td>\n",
       "    </tr>\n",
       "  </tbody>\n",
       "</table>\n",
       "</div>"
      ],
      "text/plain": [
       "    A   B\n",
       "0  A0  B0\n",
       "1  A1  B1\n",
       "2  A2  B2\n",
       "3  A3  B3"
      ]
     },
     "execution_count": 45,
     "metadata": {},
     "output_type": "execute_result"
    }
   ],
   "source": [
    "# multiple columns\n",
    "df1[['A', 'B']]"
   ]
  },
  {
   "cell_type": "code",
   "execution_count": 46,
   "metadata": {
    "collapsed": false
   },
   "outputs": [
    {
     "data": {
      "text/html": [
       "<div>\n",
       "<style>\n",
       "    .dataframe thead tr:only-child th {\n",
       "        text-align: right;\n",
       "    }\n",
       "\n",
       "    .dataframe thead th {\n",
       "        text-align: left;\n",
       "    }\n",
       "\n",
       "    .dataframe tbody tr th {\n",
       "        vertical-align: top;\n",
       "    }\n",
       "</style>\n",
       "<table border=\"1\" class=\"dataframe\">\n",
       "  <thead>\n",
       "    <tr style=\"text-align: right;\">\n",
       "      <th></th>\n",
       "      <th>A</th>\n",
       "      <th>B</th>\n",
       "      <th>C</th>\n",
       "      <th>D</th>\n",
       "      <th>Key1</th>\n",
       "    </tr>\n",
       "  </thead>\n",
       "  <tbody>\n",
       "    <tr>\n",
       "      <th>0</th>\n",
       "      <td>A0</td>\n",
       "      <td>B0</td>\n",
       "      <td>C0</td>\n",
       "      <td>D0</td>\n",
       "      <td>da</td>\n",
       "    </tr>\n",
       "    <tr>\n",
       "      <th>1</th>\n",
       "      <td>A1</td>\n",
       "      <td>B1</td>\n",
       "      <td>C1</td>\n",
       "      <td>D1</td>\n",
       "      <td>de</td>\n",
       "    </tr>\n",
       "  </tbody>\n",
       "</table>\n",
       "</div>"
      ],
      "text/plain": [
       "    A   B   C   D Key1\n",
       "0  A0  B0  C0  D0   da\n",
       "1  A1  B1  C1  D1   de"
      ]
     },
     "execution_count": 46,
     "metadata": {},
     "output_type": "execute_result"
    }
   ],
   "source": [
    "# slice of rows\n",
    "df1[:2]\n",
    "#df1[1:]\n"
   ]
  },
  {
   "cell_type": "code",
   "execution_count": 47,
   "metadata": {
    "collapsed": false
   },
   "outputs": [
    {
     "data": {
      "text/html": [
       "<div>\n",
       "<style>\n",
       "    .dataframe thead tr:only-child th {\n",
       "        text-align: right;\n",
       "    }\n",
       "\n",
       "    .dataframe thead th {\n",
       "        text-align: left;\n",
       "    }\n",
       "\n",
       "    .dataframe tbody tr th {\n",
       "        vertical-align: top;\n",
       "    }\n",
       "</style>\n",
       "<table border=\"1\" class=\"dataframe\">\n",
       "  <thead>\n",
       "    <tr style=\"text-align: right;\">\n",
       "      <th></th>\n",
       "      <th>C</th>\n",
       "      <th>D</th>\n",
       "    </tr>\n",
       "  </thead>\n",
       "  <tbody>\n",
       "    <tr>\n",
       "      <th>0</th>\n",
       "      <td>C0</td>\n",
       "      <td>D0</td>\n",
       "    </tr>\n",
       "    <tr>\n",
       "      <th>2</th>\n",
       "      <td>C2</td>\n",
       "      <td>D2</td>\n",
       "    </tr>\n",
       "  </tbody>\n",
       "</table>\n",
       "</div>"
      ],
      "text/plain": [
       "    C   D\n",
       "0  C0  D0\n",
       "2  C2  D2"
      ]
     },
     "execution_count": 47,
     "metadata": {},
     "output_type": "execute_result"
    }
   ],
   "source": [
    "# selecting specific rows and columns .loc[[row,row], [col, col]]\n",
    "df1.loc[[0,2], ['C', 'D']]"
   ]
  },
  {
   "cell_type": "code",
   "execution_count": 48,
   "metadata": {
    "collapsed": false
   },
   "outputs": [
    {
     "data": {
      "text/html": [
       "<div>\n",
       "<style>\n",
       "    .dataframe thead tr:only-child th {\n",
       "        text-align: right;\n",
       "    }\n",
       "\n",
       "    .dataframe thead th {\n",
       "        text-align: left;\n",
       "    }\n",
       "\n",
       "    .dataframe tbody tr th {\n",
       "        vertical-align: top;\n",
       "    }\n",
       "</style>\n",
       "<table border=\"1\" class=\"dataframe\">\n",
       "  <thead>\n",
       "    <tr style=\"text-align: right;\">\n",
       "      <th></th>\n",
       "      <th>A</th>\n",
       "      <th>B</th>\n",
       "      <th>C</th>\n",
       "    </tr>\n",
       "  </thead>\n",
       "  <tbody>\n",
       "    <tr>\n",
       "      <th>1</th>\n",
       "      <td>A1</td>\n",
       "      <td>B1</td>\n",
       "      <td>C1</td>\n",
       "    </tr>\n",
       "    <tr>\n",
       "      <th>2</th>\n",
       "      <td>A2</td>\n",
       "      <td>B2</td>\n",
       "      <td>C2</td>\n",
       "    </tr>\n",
       "  </tbody>\n",
       "</table>\n",
       "</div>"
      ],
      "text/plain": [
       "    A   B   C\n",
       "1  A1  B1  C1\n",
       "2  A2  B2  C2"
      ]
     },
     "execution_count": 48,
     "metadata": {},
     "output_type": "execute_result"
    }
   ],
   "source": [
    "# slicing specific rows and columns using ONLY integers, .iloc[row:row, col:col]\n",
    "df1.iloc[1:3, 0:3]"
   ]
  },
  {
   "cell_type": "code",
   "execution_count": 49,
   "metadata": {
    "collapsed": false
   },
   "outputs": [
    {
     "data": {
      "text/html": [
       "<div>\n",
       "<style>\n",
       "    .dataframe thead tr:only-child th {\n",
       "        text-align: right;\n",
       "    }\n",
       "\n",
       "    .dataframe thead th {\n",
       "        text-align: left;\n",
       "    }\n",
       "\n",
       "    .dataframe tbody tr th {\n",
       "        vertical-align: top;\n",
       "    }\n",
       "</style>\n",
       "<table border=\"1\" class=\"dataframe\">\n",
       "  <thead>\n",
       "    <tr style=\"text-align: right;\">\n",
       "      <th></th>\n",
       "      <th>C</th>\n",
       "      <th>Key1</th>\n",
       "    </tr>\n",
       "  </thead>\n",
       "  <tbody>\n",
       "    <tr>\n",
       "      <th>1</th>\n",
       "      <td>C1</td>\n",
       "      <td>de</td>\n",
       "    </tr>\n",
       "    <tr>\n",
       "      <th>3</th>\n",
       "      <td>C3</td>\n",
       "      <td>dell</td>\n",
       "    </tr>\n",
       "  </tbody>\n",
       "</table>\n",
       "</div>"
      ],
      "text/plain": [
       "    C  Key1\n",
       "1  C1    de\n",
       "3  C3  dell"
      ]
     },
     "execution_count": 49,
     "metadata": {},
     "output_type": "execute_result"
    }
   ],
   "source": [
    "# listing specific rows and columns using ONLY integers, .iloc[[row,row,row...], [col,col,col...]]\n",
    "df1.iloc[[1,3], [2,4]]"
   ]
  },
  {
   "cell_type": "markdown",
   "metadata": {},
   "source": [
    "## Dataframe Methods for Cleaning/Analyzing Data"
   ]
  },
  {
   "cell_type": "markdown",
   "metadata": {},
   "source": [
    "### *Boolean Masking*"
   ]
  },
  {
   "cell_type": "code",
   "execution_count": 50,
   "metadata": {
    "collapsed": false
   },
   "outputs": [
    {
     "data": {
      "text/plain": [
       "0       True\n",
       "1       True\n",
       "2       True\n",
       "3       True\n",
       "4       True\n",
       "5       True\n",
       "6       True\n",
       "7       True\n",
       "8       True\n",
       "9       True\n",
       "10      True\n",
       "11      True\n",
       "12      True\n",
       "13      True\n",
       "14      True\n",
       "15      True\n",
       "16      True\n",
       "17      True\n",
       "18      True\n",
       "19      True\n",
       "20      True\n",
       "21      True\n",
       "22      True\n",
       "23      True\n",
       "24      True\n",
       "25      True\n",
       "26      True\n",
       "27      True\n",
       "28      True\n",
       "29      True\n",
       "       ...  \n",
       "120    False\n",
       "121    False\n",
       "122    False\n",
       "123    False\n",
       "124    False\n",
       "125    False\n",
       "126    False\n",
       "127    False\n",
       "128    False\n",
       "129    False\n",
       "130    False\n",
       "131    False\n",
       "132    False\n",
       "133    False\n",
       "134    False\n",
       "135    False\n",
       "136    False\n",
       "137    False\n",
       "138    False\n",
       "139    False\n",
       "140    False\n",
       "141    False\n",
       "142    False\n",
       "143    False\n",
       "144    False\n",
       "145    False\n",
       "146    False\n",
       "147    False\n",
       "148    False\n",
       "149    False\n",
       "Name: Species, Length: 150, dtype: bool"
      ]
     },
     "execution_count": 50,
     "metadata": {},
     "output_type": "execute_result"
    }
   ],
   "source": [
    "# filtering a dataframe based on a boolean\n",
    "df_csv.Species == 'Iris-setosa'"
   ]
  },
  {
   "cell_type": "code",
   "execution_count": 51,
   "metadata": {
    "collapsed": false
   },
   "outputs": [],
   "source": [
    "one_species_df = df_csv[df_csv.Species == 'Iris-setosa']\n",
    "#print(one_species_df)\n",
    "small_petal = df_csv[df_csv.PetalLengthCm < 1.5]\n",
    "#print(small_petal)\n",
    "small_petal_Iris = df_csv[(df_csv.PetalLengthCm < 1.3) & (df_csv.Species == 'Iris-setosa')]\n",
    "#print(small_petal_Iris)\n",
    "small_or_large_petal = df_csv[(df_csv.PetalLengthCm == 1.0) | (df_csv.PetalLengthCm == 1.7)]\n",
    "#print(small_or_large_petal)"
   ]
  },
  {
   "cell_type": "markdown",
   "metadata": {
    "nbpresent": {
     "id": "36cebf75-a1b3-4b67-9772-9de9788a40b3"
    }
   },
   "source": [
    "### *Statistics*"
   ]
  },
  {
   "cell_type": "code",
   "execution_count": 52,
   "metadata": {
    "collapsed": false,
    "nbpresent": {
     "id": "a06c59e1-38ed-4e53-a52c-5f15cabf6c88"
    }
   },
   "outputs": [
    {
     "data": {
      "text/html": [
       "<div>\n",
       "<style>\n",
       "    .dataframe thead tr:only-child th {\n",
       "        text-align: right;\n",
       "    }\n",
       "\n",
       "    .dataframe thead th {\n",
       "        text-align: left;\n",
       "    }\n",
       "\n",
       "    .dataframe tbody tr th {\n",
       "        vertical-align: top;\n",
       "    }\n",
       "</style>\n",
       "<table border=\"1\" class=\"dataframe\">\n",
       "  <thead>\n",
       "    <tr style=\"text-align: right;\">\n",
       "      <th></th>\n",
       "      <th>Id</th>\n",
       "      <th>SepalLengthCm</th>\n",
       "      <th>SepalWidthCm</th>\n",
       "      <th>PetalLengthCm</th>\n",
       "      <th>PetalWidthCm</th>\n",
       "      <th>SepalWidthM</th>\n",
       "    </tr>\n",
       "  </thead>\n",
       "  <tbody>\n",
       "    <tr>\n",
       "      <th>count</th>\n",
       "      <td>150.000000</td>\n",
       "      <td>150.000000</td>\n",
       "      <td>150.000000</td>\n",
       "      <td>150.000000</td>\n",
       "      <td>150.000000</td>\n",
       "      <td>150.000000</td>\n",
       "    </tr>\n",
       "    <tr>\n",
       "      <th>mean</th>\n",
       "      <td>75.500000</td>\n",
       "      <td>5.843333</td>\n",
       "      <td>3.054000</td>\n",
       "      <td>3.758667</td>\n",
       "      <td>1.198667</td>\n",
       "      <td>0.030540</td>\n",
       "    </tr>\n",
       "    <tr>\n",
       "      <th>std</th>\n",
       "      <td>43.445368</td>\n",
       "      <td>0.828066</td>\n",
       "      <td>0.433594</td>\n",
       "      <td>1.764420</td>\n",
       "      <td>0.763161</td>\n",
       "      <td>0.004336</td>\n",
       "    </tr>\n",
       "    <tr>\n",
       "      <th>min</th>\n",
       "      <td>1.000000</td>\n",
       "      <td>4.300000</td>\n",
       "      <td>2.000000</td>\n",
       "      <td>1.000000</td>\n",
       "      <td>0.100000</td>\n",
       "      <td>0.020000</td>\n",
       "    </tr>\n",
       "    <tr>\n",
       "      <th>25%</th>\n",
       "      <td>38.250000</td>\n",
       "      <td>5.100000</td>\n",
       "      <td>2.800000</td>\n",
       "      <td>1.600000</td>\n",
       "      <td>0.300000</td>\n",
       "      <td>0.028000</td>\n",
       "    </tr>\n",
       "    <tr>\n",
       "      <th>50%</th>\n",
       "      <td>75.500000</td>\n",
       "      <td>5.800000</td>\n",
       "      <td>3.000000</td>\n",
       "      <td>4.350000</td>\n",
       "      <td>1.300000</td>\n",
       "      <td>0.030000</td>\n",
       "    </tr>\n",
       "    <tr>\n",
       "      <th>75%</th>\n",
       "      <td>112.750000</td>\n",
       "      <td>6.400000</td>\n",
       "      <td>3.300000</td>\n",
       "      <td>5.100000</td>\n",
       "      <td>1.800000</td>\n",
       "      <td>0.033000</td>\n",
       "    </tr>\n",
       "    <tr>\n",
       "      <th>max</th>\n",
       "      <td>150.000000</td>\n",
       "      <td>7.900000</td>\n",
       "      <td>4.400000</td>\n",
       "      <td>6.900000</td>\n",
       "      <td>2.500000</td>\n",
       "      <td>0.044000</td>\n",
       "    </tr>\n",
       "  </tbody>\n",
       "</table>\n",
       "</div>"
      ],
      "text/plain": [
       "               Id  SepalLengthCm  SepalWidthCm  PetalLengthCm  PetalWidthCm  \\\n",
       "count  150.000000     150.000000    150.000000     150.000000    150.000000   \n",
       "mean    75.500000       5.843333      3.054000       3.758667      1.198667   \n",
       "std     43.445368       0.828066      0.433594       1.764420      0.763161   \n",
       "min      1.000000       4.300000      2.000000       1.000000      0.100000   \n",
       "25%     38.250000       5.100000      2.800000       1.600000      0.300000   \n",
       "50%     75.500000       5.800000      3.000000       4.350000      1.300000   \n",
       "75%    112.750000       6.400000      3.300000       5.100000      1.800000   \n",
       "max    150.000000       7.900000      4.400000       6.900000      2.500000   \n",
       "\n",
       "       SepalWidthM  \n",
       "count   150.000000  \n",
       "mean      0.030540  \n",
       "std       0.004336  \n",
       "min       0.020000  \n",
       "25%       0.028000  \n",
       "50%       0.030000  \n",
       "75%       0.033000  \n",
       "max       0.044000  "
      ]
     },
     "execution_count": 52,
     "metadata": {},
     "output_type": "execute_result"
    }
   ],
   "source": [
    "# summary statistics\n",
    "df_csv.describe() # excludes categorical data like Species column"
   ]
  },
  {
   "cell_type": "code",
   "execution_count": 53,
   "metadata": {
    "collapsed": false,
    "nbpresent": {
     "id": "0955b0fa-c968-4af8-b544-5af420533204"
    }
   },
   "outputs": [
    {
     "name": "stdout",
     "output_type": "stream",
     "text": [
      "Count: Id               150\n",
      "SepalLengthCm    150\n",
      "SepalWidthCm     150\n",
      "PetalLengthCm    150\n",
      "PetalWidthCm     150\n",
      "Species          150\n",
      "SepalWidthM      150\n",
      "dtype: int64, Mean: Id               75.500000\n",
      "SepalLengthCm     5.843333\n",
      "SepalWidthCm      3.054000\n",
      "PetalLengthCm     3.758667\n",
      "PetalWidthCm      1.198667\n",
      "SepalWidthM       0.030540\n",
      "dtype: float64, STD: Id               43.445368\n",
      "SepalLengthCm     0.828066\n",
      "SepalWidthCm      0.433594\n",
      "PetalLengthCm     1.764420\n",
      "PetalWidthCm      0.763161\n",
      "SepalWidthM       0.004336\n",
      "dtype: float64\n"
     ]
    }
   ],
   "source": [
    "# individual statistical methods\n",
    "count = df_csv.count()\n",
    "mean = df_csv.mean()\n",
    "std = df_csv.std()\n",
    "print(\"Count: {}, Mean: {}, STD: {}\".format(count, mean, std))"
   ]
  },
  {
   "cell_type": "code",
   "execution_count": 54,
   "metadata": {
    "collapsed": false
   },
   "outputs": [
    {
     "data": {
      "text/plain": [
       "Id                                                           11325\n",
       "SepalLengthCm                                                876.5\n",
       "SepalWidthCm                                                 458.1\n",
       "PetalLengthCm                                                563.8\n",
       "PetalWidthCm                                                 179.8\n",
       "Species          Iris-setosaIris-setosaIris-setosaIris-setosaIr...\n",
       "SepalWidthM                                                  4.581\n",
       "dtype: object"
      ]
     },
     "execution_count": 54,
     "metadata": {},
     "output_type": "execute_result"
    }
   ],
   "source": [
    "df_csv.sum()\n",
    "#df_csv.count().sum()"
   ]
  },
  {
   "cell_type": "markdown",
   "metadata": {
    "nbpresent": {
     "id": "10b5c0ba-6a91-4aad-91a7-43c5e2aa0d09"
    }
   },
   "source": [
    "### *Groupby and Pivot*"
   ]
  },
  {
   "cell_type": "code",
   "execution_count": 55,
   "metadata": {
    "collapsed": false,
    "nbpresent": {
     "id": "1fb6a3f4-f64d-4317-856b-6b12aa642235"
    }
   },
   "outputs": [
    {
     "data": {
      "text/plain": [
       "pandas.core.groupby.DataFrameGroupBy"
      ]
     },
     "execution_count": 55,
     "metadata": {},
     "output_type": "execute_result"
    }
   ],
   "source": [
    "# create a groupby object\n",
    "gb_object = df_csv.groupby(by ='Species',axis=0) #axis: 0 = column, 1=rows\n",
    "type(gb_object)"
   ]
  },
  {
   "cell_type": "code",
   "execution_count": 56,
   "metadata": {
    "collapsed": false,
    "nbpresent": {
     "id": "7d81764a-3852-4dc7-8d3b-b51c62102cc9"
    }
   },
   "outputs": [
    {
     "data": {
      "text/html": [
       "<div>\n",
       "<style>\n",
       "    .dataframe thead tr:only-child th {\n",
       "        text-align: right;\n",
       "    }\n",
       "\n",
       "    .dataframe thead th {\n",
       "        text-align: left;\n",
       "    }\n",
       "\n",
       "    .dataframe tbody tr th {\n",
       "        vertical-align: top;\n",
       "    }\n",
       "</style>\n",
       "<table border=\"1\" class=\"dataframe\">\n",
       "  <thead>\n",
       "    <tr style=\"text-align: right;\">\n",
       "      <th></th>\n",
       "      <th>Id</th>\n",
       "      <th>SepalLengthCm</th>\n",
       "      <th>SepalWidthCm</th>\n",
       "      <th>PetalLengthCm</th>\n",
       "      <th>PetalWidthCm</th>\n",
       "      <th>SepalWidthM</th>\n",
       "    </tr>\n",
       "    <tr>\n",
       "      <th>Species</th>\n",
       "      <th></th>\n",
       "      <th></th>\n",
       "      <th></th>\n",
       "      <th></th>\n",
       "      <th></th>\n",
       "      <th></th>\n",
       "    </tr>\n",
       "  </thead>\n",
       "  <tbody>\n",
       "    <tr>\n",
       "      <th>Iris-setosa</th>\n",
       "      <td>1275</td>\n",
       "      <td>250.3</td>\n",
       "      <td>170.9</td>\n",
       "      <td>73.2</td>\n",
       "      <td>12.2</td>\n",
       "      <td>1.709</td>\n",
       "    </tr>\n",
       "    <tr>\n",
       "      <th>Iris-versicolor</th>\n",
       "      <td>3775</td>\n",
       "      <td>296.8</td>\n",
       "      <td>138.5</td>\n",
       "      <td>213.0</td>\n",
       "      <td>66.3</td>\n",
       "      <td>1.385</td>\n",
       "    </tr>\n",
       "    <tr>\n",
       "      <th>Iris-virginica</th>\n",
       "      <td>6275</td>\n",
       "      <td>329.4</td>\n",
       "      <td>148.7</td>\n",
       "      <td>277.6</td>\n",
       "      <td>101.3</td>\n",
       "      <td>1.487</td>\n",
       "    </tr>\n",
       "  </tbody>\n",
       "</table>\n",
       "</div>"
      ],
      "text/plain": [
       "                   Id  SepalLengthCm  SepalWidthCm  PetalLengthCm  \\\n",
       "Species                                                             \n",
       "Iris-setosa      1275          250.3         170.9           73.2   \n",
       "Iris-versicolor  3775          296.8         138.5          213.0   \n",
       "Iris-virginica   6275          329.4         148.7          277.6   \n",
       "\n",
       "                 PetalWidthCm  SepalWidthM  \n",
       "Species                                     \n",
       "Iris-setosa              12.2        1.709  \n",
       "Iris-versicolor          66.3        1.385  \n",
       "Iris-virginica          101.3        1.487  "
      ]
     },
     "execution_count": 56,
     "metadata": {},
     "output_type": "execute_result"
    }
   ],
   "source": [
    "# Apply an aggragate to the groupby object\n",
    "gb_object.sum()"
   ]
  },
  {
   "cell_type": "raw",
   "metadata": {
    "nbpresent": {
     "id": "adb17b85-6ab3-41df-8349-76a6ae165e77"
    }
   },
   "source": [
    "# other possible aggragates to the groupby object\n",
    "gb.agg        gb.boxplot    gb.cummin     gb.describe   gb.filter     gb.get_group  gb.last       gb.median     gb.ngroups    gb.plot       gb.rank       gb.std        gb.transform\n",
    "gb.aggregate  gb.count      gb.cumprod    gb.dtype      gb.first      gb.groups     gb.hist       gb.max        gb.min        gb.nth        gb.prod       gb.resample   gb.sum        gb.var\n",
    "gb.apply      gb.cummax     gb.cumsum     gb.fillna     gb.head       gb.indices    gb.mean       gb.ohlc       gb.quantile   gb.size       gb.tail       gb.weight"
   ]
  },
  {
   "cell_type": "code",
   "execution_count": 57,
   "metadata": {
    "collapsed": false,
    "nbpresent": {
     "id": "c19189c0-39b9-419f-a091-0b666a1ceff2"
    }
   },
   "outputs": [],
   "source": [
    "# create piviot table \n",
    "piviot_df = pd.pivot_table(df_csv, index=['Species', 'PetalWidthCm'], aggfunc=np.sum)"
   ]
  },
  {
   "cell_type": "code",
   "execution_count": 58,
   "metadata": {
    "collapsed": false
   },
   "outputs": [
    {
     "data": {
      "text/html": [
       "<div>\n",
       "<style>\n",
       "    .dataframe thead tr:only-child th {\n",
       "        text-align: right;\n",
       "    }\n",
       "\n",
       "    .dataframe thead th {\n",
       "        text-align: left;\n",
       "    }\n",
       "\n",
       "    .dataframe tbody tr th {\n",
       "        vertical-align: top;\n",
       "    }\n",
       "</style>\n",
       "<table border=\"1\" class=\"dataframe\">\n",
       "  <thead>\n",
       "    <tr style=\"text-align: right;\">\n",
       "      <th></th>\n",
       "      <th>SepalWidthCm</th>\n",
       "    </tr>\n",
       "    <tr>\n",
       "      <th>Species</th>\n",
       "      <th></th>\n",
       "    </tr>\n",
       "  </thead>\n",
       "  <tbody>\n",
       "    <tr>\n",
       "      <th>Iris-setosa</th>\n",
       "      <td>3.418</td>\n",
       "    </tr>\n",
       "    <tr>\n",
       "      <th>Iris-versicolor</th>\n",
       "      <td>2.770</td>\n",
       "    </tr>\n",
       "    <tr>\n",
       "      <th>Iris-virginica</th>\n",
       "      <td>2.974</td>\n",
       "    </tr>\n",
       "  </tbody>\n",
       "</table>\n",
       "</div>"
      ],
      "text/plain": [
       "                 SepalWidthCm\n",
       "Species                      \n",
       "Iris-setosa             3.418\n",
       "Iris-versicolor         2.770\n",
       "Iris-virginica          2.974"
      ]
     },
     "execution_count": 58,
     "metadata": {},
     "output_type": "execute_result"
    }
   ],
   "source": [
    "# create piviot table \n",
    "pd.pivot_table(df_csv, values=['SepalWidthCm'], index=['Species'], aggfunc= np.mean)"
   ]
  },
  {
   "cell_type": "code",
   "execution_count": 66,
   "metadata": {
    "collapsed": false
   },
   "outputs": [
    {
     "data": {
      "text/html": [
       "<div>\n",
       "<style>\n",
       "    .dataframe thead tr:only-child th {\n",
       "        text-align: right;\n",
       "    }\n",
       "\n",
       "    .dataframe thead th {\n",
       "        text-align: left;\n",
       "    }\n",
       "\n",
       "    .dataframe tbody tr th {\n",
       "        vertical-align: top;\n",
       "    }\n",
       "</style>\n",
       "<table border=\"1\" class=\"dataframe\">\n",
       "  <thead>\n",
       "    <tr style=\"text-align: right;\">\n",
       "      <th></th>\n",
       "      <th>AFC North</th>\n",
       "      <th>W</th>\n",
       "      <th>L</th>\n",
       "      <th>T</th>\n",
       "      <th>PCT</th>\n",
       "      <th>GB</th>\n",
       "      <th>PF</th>\n",
       "      <th>PA</th>\n",
       "      <th>Home</th>\n",
       "      <th>Away</th>\n",
       "      <th>Conf</th>\n",
       "      <th>Div</th>\n",
       "      <th>STRK</th>\n",
       "      <th>Unnamed: 13</th>\n",
       "      <th>Unnamed: 14</th>\n",
       "    </tr>\n",
       "  </thead>\n",
       "  <tbody>\n",
       "    <tr>\n",
       "      <th>0</th>\n",
       "      <td>NaN</td>\n",
       "      <td>Baltimore Ravens</td>\n",
       "      <td>Ravens</td>\n",
       "      <td>2.0</td>\n",
       "      <td>NaN</td>\n",
       "      <td>NaN</td>\n",
       "      <td>1.0</td>\n",
       "      <td>-</td>\n",
       "      <td>44</td>\n",
       "      <td>10</td>\n",
       "      <td>1-0-0</td>\n",
       "      <td>1-0-0</td>\n",
       "      <td>2-0-0</td>\n",
       "      <td>2-0-0</td>\n",
       "      <td>W2</td>\n",
       "    </tr>\n",
       "    <tr>\n",
       "      <th>1</th>\n",
       "      <td>NaN</td>\n",
       "      <td>Pittsburgh Steelers</td>\n",
       "      <td>Steelers</td>\n",
       "      <td>2.0</td>\n",
       "      <td>NaN</td>\n",
       "      <td>NaN</td>\n",
       "      <td>1.0</td>\n",
       "      <td>-</td>\n",
       "      <td>47</td>\n",
       "      <td>27</td>\n",
       "      <td>1-0-0</td>\n",
       "      <td>1-0-0</td>\n",
       "      <td>1-0-0</td>\n",
       "      <td>1-0-0</td>\n",
       "      <td>W2</td>\n",
       "    </tr>\n",
       "    <tr>\n",
       "      <th>2</th>\n",
       "      <td>NaN</td>\n",
       "      <td>Cincinnati Bengals</td>\n",
       "      <td>Bengals</td>\n",
       "      <td>NaN</td>\n",
       "      <td>2.0</td>\n",
       "      <td>NaN</td>\n",
       "      <td>NaN</td>\n",
       "      <td>2.0</td>\n",
       "      <td>9</td>\n",
       "      <td>33</td>\n",
       "      <td>0-2-0</td>\n",
       "      <td>0-0-0</td>\n",
       "      <td>0-2-0</td>\n",
       "      <td>0-1-0</td>\n",
       "      <td>L2</td>\n",
       "    </tr>\n",
       "    <tr>\n",
       "      <th>3</th>\n",
       "      <td>NaN</td>\n",
       "      <td>Cleveland Browns</td>\n",
       "      <td>Browns</td>\n",
       "      <td>NaN</td>\n",
       "      <td>2.0</td>\n",
       "      <td>NaN</td>\n",
       "      <td>NaN</td>\n",
       "      <td>2.0</td>\n",
       "      <td>28</td>\n",
       "      <td>45</td>\n",
       "      <td>0-1-0</td>\n",
       "      <td>0-1-0</td>\n",
       "      <td>0-2-0</td>\n",
       "      <td>0-2-0</td>\n",
       "      <td>L2</td>\n",
       "    </tr>\n",
       "  </tbody>\n",
       "</table>\n",
       "</div>"
      ],
      "text/plain": [
       "   AFC North                    W         L    T  PCT  GB   PF   PA  Home  \\\n",
       "0        NaN     Baltimore Ravens    Ravens  2.0  NaN NaN  1.0    -    44   \n",
       "1        NaN  Pittsburgh Steelers  Steelers  2.0  NaN NaN  1.0    -    47   \n",
       "2        NaN   Cincinnati Bengals   Bengals  NaN  2.0 NaN  NaN  2.0     9   \n",
       "3        NaN     Cleveland Browns    Browns  NaN  2.0 NaN  NaN  2.0    28   \n",
       "\n",
       "   Away   Conf    Div   STRK Unnamed: 13 Unnamed: 14  \n",
       "0    10  1-0-0  1-0-0  2-0-0       2-0-0          W2  \n",
       "1    27  1-0-0  1-0-0  1-0-0       1-0-0          W2  \n",
       "2    33  0-2-0  0-0-0  0-2-0       0-1-0          L2  \n",
       "3    45  0-1-0  0-1-0  0-2-0       0-2-0          L2  "
      ]
     },
     "execution_count": 66,
     "metadata": {},
     "output_type": "execute_result"
    }
   ],
   "source": [
    "df_html[df_html != df_html.isnull()]"
   ]
  },
  {
   "cell_type": "code",
   "execution_count": null,
   "metadata": {
    "collapsed": true
   },
   "outputs": [],
   "source": []
  }
 ],
 "metadata": {
  "anaconda-cloud": {},
  "kernelspec": {
   "display_name": "Python [conda env:py35]",
   "language": "python",
   "name": "conda-env-py35-py"
  },
  "language_info": {
   "codemirror_mode": {
    "name": "ipython",
    "version": 3
   },
   "file_extension": ".py",
   "mimetype": "text/x-python",
   "name": "python",
   "nbconvert_exporter": "python",
   "pygments_lexer": "ipython3",
   "version": "3.5.3"
  },
  "nbpresent": {
   "slides": {
    "00554ebb-5c08-4b99-a1e0-f67a1913e7dc": {
     "id": "00554ebb-5c08-4b99-a1e0-f67a1913e7dc",
     "prev": "8fbd8937-ac36-465c-851d-328c1524ad7a",
     "regions": {
      "aabd6d79-e90e-4eee-80d7-07c4c6790532": {
       "attrs": {
        "height": 0.8,
        "width": 0.8,
        "x": 0.1,
        "y": 0.1
       },
       "content": {
        "cell": "ac5116bd-4775-4719-ba7d-8c365680d9da",
        "part": "whole"
       },
       "id": "aabd6d79-e90e-4eee-80d7-07c4c6790532"
      }
     }
    },
    "054a5b2b-dbac-40e8-854e-0deac037266e": {
     "id": "054a5b2b-dbac-40e8-854e-0deac037266e",
     "prev": "67cb84aa-9a0a-4ff7-a068-a3928179e8af",
     "regions": {
      "8f706eca-dae6-46aa-8aca-107b59032a93": {
       "attrs": {
        "height": 0.8,
        "width": 0.8,
        "x": 0.1,
        "y": 0.1
       },
       "content": {
        "cell": "76552077-e2d2-43fe-9807-00e0d9bbf8e5",
        "part": "whole"
       },
       "id": "8f706eca-dae6-46aa-8aca-107b59032a93"
      }
     }
    },
    "0c6ddcc5-1ef1-4fc4-841f-7933cc46fca7": {
     "id": "0c6ddcc5-1ef1-4fc4-841f-7933cc46fca7",
     "prev": "19515606-bee7-4f35-801d-3e9cb0da1a8d",
     "regions": {
      "802dbcfe-a4a5-401d-8262-be719f5b1d97": {
       "attrs": {
        "height": 0.8,
        "width": 0.8,
        "x": 0.1,
        "y": 0.1
       },
       "content": {
        "cell": "0955b0fa-c968-4af8-b544-5af420533204",
        "part": "whole"
       },
       "id": "802dbcfe-a4a5-401d-8262-be719f5b1d97"
      }
     }
    },
    "19515606-bee7-4f35-801d-3e9cb0da1a8d": {
     "id": "19515606-bee7-4f35-801d-3e9cb0da1a8d",
     "prev": "94f185b9-abf7-4524-a335-c5415edd1c83",
     "regions": {
      "12dae8df-9b32-49a0-ba67-54f48e3cadb0": {
       "attrs": {
        "height": 0.8,
        "width": 0.8,
        "x": 0.1,
        "y": 0.1
       },
       "content": {
        "cell": "a06c59e1-38ed-4e53-a52c-5f15cabf6c88",
        "part": "whole"
       },
       "id": "12dae8df-9b32-49a0-ba67-54f48e3cadb0"
      }
     }
    },
    "1abca6ca-5664-49c4-be31-c89021fdacdc": {
     "id": "1abca6ca-5664-49c4-be31-c89021fdacdc",
     "prev": "eb12cddc-6a5f-4e87-98a2-555a40a30909",
     "regions": {
      "a8c21ba5-a809-4c63-bbdf-f5182a74fefe": {
       "attrs": {
        "height": 0.8,
        "width": 0.8,
        "x": 0.1,
        "y": 0.1
       },
       "content": {
        "cell": "d3f09bbb-cb92-4f68-b8b1-55fbf2808c77",
        "part": "whole"
       },
       "id": "a8c21ba5-a809-4c63-bbdf-f5182a74fefe"
      }
     }
    },
    "2f87028a-ec7e-438c-bcfe-550861ea0de1": {
     "id": "2f87028a-ec7e-438c-bcfe-550861ea0de1",
     "prev": "c977907f-4b59-4898-8b29-342bffd8fbdf",
     "regions": {
      "bc83c1cd-e4d1-4d9f-ae4e-0a8d7e317d80": {
       "attrs": {
        "height": 0.8,
        "width": 0.8,
        "x": 0.1,
        "y": 0.1
       },
       "content": {
        "cell": "c3432cc4-73d8-4aee-929e-8ba0e69a0d4e",
        "part": "whole"
       },
       "id": "bc83c1cd-e4d1-4d9f-ae4e-0a8d7e317d80"
      }
     }
    },
    "42308d9c-8d98-46dd-b45e-326f894df67d": {
     "id": "42308d9c-8d98-46dd-b45e-326f894df67d",
     "prev": "59569df7-3ff8-4824-84e7-2188d9da8f04",
     "regions": {
      "38a6fbc7-98b2-45a2-8c23-d88a8c24b003": {
       "attrs": {
        "height": 0.8,
        "width": 0.8,
        "x": 0.1,
        "y": 0.1
       },
       "content": {
        "cell": "fbf6e340-44fe-4bc0-91e6-3a3ebc03aaf9",
        "part": "source"
       },
       "id": "38a6fbc7-98b2-45a2-8c23-d88a8c24b003"
      }
     }
    },
    "4e1bf970-1f91-4206-98ed-cfae16668484": {
     "id": "4e1bf970-1f91-4206-98ed-cfae16668484",
     "prev": "d9dd51d5-0c26-4116-9ea5-8866e5817def",
     "regions": {
      "930e910e-6b2d-4cbe-ac20-1f5a9bf96411": {
       "attrs": {
        "height": 0.8,
        "width": 0.8,
        "x": 0.1,
        "y": 0.1
       },
       "content": {
        "cell": "7d81764a-3852-4dc7-8d3b-b51c62102cc9",
        "part": "whole"
       },
       "id": "930e910e-6b2d-4cbe-ac20-1f5a9bf96411"
      }
     }
    },
    "506f957e-7427-445a-8989-a56ebc611806": {
     "id": "506f957e-7427-445a-8989-a56ebc611806",
     "prev": "0c6ddcc5-1ef1-4fc4-841f-7933cc46fca7",
     "regions": {
      "c423a350-c0c1-47f9-8613-da2c285a2cb3": {
       "attrs": {
        "height": 0.8,
        "width": 0.8,
        "x": 0.1,
        "y": 0.1
       },
       "content": {
        "cell": "10b5c0ba-6a91-4aad-91a7-43c5e2aa0d09",
        "part": "whole"
       },
       "id": "c423a350-c0c1-47f9-8613-da2c285a2cb3"
      }
     }
    },
    "56b751ca-3cfe-4838-90fa-3f3307947552": {
     "id": "56b751ca-3cfe-4838-90fa-3f3307947552",
     "prev": "d8454246-0b6e-4246-9edd-3085f4056926",
     "regions": {
      "f6d4f6c9-f97e-4a58-9abb-ca5b510e1fb1": {
       "attrs": {
        "height": 0.8,
        "width": 0.8,
        "x": 0.1,
        "y": 0.1
       },
       "content": {
        "cell": "dbb18d01-1633-476e-88fd-68934f581dbf",
        "part": "whole"
       },
       "id": "f6d4f6c9-f97e-4a58-9abb-ca5b510e1fb1"
      }
     }
    },
    "585deefa-f475-4c07-9d41-2ed20d1c3059": {
     "id": "585deefa-f475-4c07-9d41-2ed20d1c3059",
     "prev": "9e17d8be-f279-4cf5-b2e1-972de3c75213",
     "regions": {
      "c08c20a2-f026-4dec-96e1-e752206a7dd1": {
       "attrs": {
        "height": 0.8,
        "width": 0.8,
        "x": 0.1,
        "y": 0.1
       },
       "content": {
        "cell": "fbf6e340-44fe-4bc0-91e6-3a3ebc03aaf9",
        "part": "whole"
       },
       "id": "c08c20a2-f026-4dec-96e1-e752206a7dd1"
      }
     }
    },
    "59569df7-3ff8-4824-84e7-2188d9da8f04": {
     "id": "59569df7-3ff8-4824-84e7-2188d9da8f04",
     "prev": "a60193b7-db0d-43e6-a3e4-dfb503d3fc95",
     "regions": {
      "3b92aefd-fb6d-48f4-ab58-51a2f7e710d5": {
       "attrs": {
        "height": 0.8,
        "width": 0.8,
        "x": 0.1,
        "y": 0.1
       },
       "content": {
        "cell": "fbf6e340-44fe-4bc0-91e6-3a3ebc03aaf9",
        "part": "source"
       },
       "id": "3b92aefd-fb6d-48f4-ab58-51a2f7e710d5"
      }
     }
    },
    "613f7f34-ae0d-4aaf-8f09-f38058a2464d": {
     "id": "613f7f34-ae0d-4aaf-8f09-f38058a2464d",
     "prev": "99e1ece3-b4bb-4ccf-bd0c-2c7e516c951b",
     "regions": {
      "1e5ed22d-6764-463d-8de9-4fdcd3f5b05e": {
       "attrs": {
        "height": 0.8,
        "width": 0.8,
        "x": 0.1,
        "y": 0.1
       },
       "content": {
        "cell": "6c659ef0-3932-4867-8307-18be711768fa",
        "part": "whole"
       },
       "id": "1e5ed22d-6764-463d-8de9-4fdcd3f5b05e"
      }
     }
    },
    "67cb84aa-9a0a-4ff7-a068-a3928179e8af": {
     "id": "67cb84aa-9a0a-4ff7-a068-a3928179e8af",
     "prev": "8f9ebfa6-0c2c-4b26-b1fa-b5bd96eb33c7",
     "regions": {
      "688ff1ff-6dd6-45d4-8de3-ce7d1eb28e8b": {
       "attrs": {
        "height": 0.8,
        "width": 0.8,
        "x": 0.1,
        "y": 0.1
       },
       "content": {
        "cell": "e8af2a92-0108-41f0-8ae4-025adb797bbc",
        "part": "whole"
       },
       "id": "688ff1ff-6dd6-45d4-8de3-ce7d1eb28e8b"
      }
     }
    },
    "6b40d63a-6f69-4a4d-8aa4-3201e5f7bc72": {
     "id": "6b40d63a-6f69-4a4d-8aa4-3201e5f7bc72",
     "prev": "4e1bf970-1f91-4206-98ed-cfae16668484",
     "regions": {
      "d2b79b1f-555c-46f9-be86-6f2f62e41748": {
       "attrs": {
        "height": 0.8,
        "width": 0.8,
        "x": 0.1,
        "y": 0.1
       },
       "content": {
        "cell": "adb17b85-6ab3-41df-8349-76a6ae165e77",
        "part": "whole"
       },
       "id": "d2b79b1f-555c-46f9-be86-6f2f62e41748"
      }
     }
    },
    "831be100-4175-42bc-9ca7-d2c770449b61": {
     "id": "831be100-4175-42bc-9ca7-d2c770449b61",
     "prev": "f7589e32-b09a-464d-8eeb-2ce72e41e8a3",
     "regions": {
      "bf760912-51c7-40ee-abe9-9f1b29803dd2": {
       "attrs": {
        "height": 0.8,
        "width": 0.8,
        "x": 0.1,
        "y": 0.1
       },
       "content": {
        "cell": "697e0c8d-c720-494c-bba0-1118431e6d06",
        "part": "whole"
       },
       "id": "bf760912-51c7-40ee-abe9-9f1b29803dd2"
      }
     }
    },
    "8f9ebfa6-0c2c-4b26-b1fa-b5bd96eb33c7": {
     "id": "8f9ebfa6-0c2c-4b26-b1fa-b5bd96eb33c7",
     "prev": "585deefa-f475-4c07-9d41-2ed20d1c3059",
     "regions": {
      "8846c7a7-b903-4312-91a3-45322ffd8b2a": {
       "attrs": {
        "height": 0.8,
        "width": 0.8,
        "x": 0.1,
        "y": 0.1
       },
       "content": {
        "cell": "a90e5b97-fe23-479a-b287-13fb13e78f07",
        "part": "whole"
       },
       "id": "8846c7a7-b903-4312-91a3-45322ffd8b2a"
      }
     }
    },
    "8fbd8937-ac36-465c-851d-328c1524ad7a": {
     "id": "8fbd8937-ac36-465c-851d-328c1524ad7a",
     "prev": "2f87028a-ec7e-438c-bcfe-550861ea0de1",
     "regions": {
      "5f37dade-858a-4667-82f6-f859695a0690": {
       "attrs": {
        "height": 0.8,
        "width": 0.8,
        "x": 0.1,
        "y": 0.1
       },
       "content": {
        "cell": "f7161c34-2d45-41eb-9ce9-155bdb2f5f99",
        "part": "whole"
       },
       "id": "5f37dade-858a-4667-82f6-f859695a0690"
      }
     }
    },
    "94f185b9-abf7-4524-a335-c5415edd1c83": {
     "id": "94f185b9-abf7-4524-a335-c5415edd1c83",
     "prev": "00554ebb-5c08-4b99-a1e0-f67a1913e7dc",
     "regions": {
      "cd65d424-8f3e-4690-8447-fd15205ce0e6": {
       "attrs": {
        "height": 0.8,
        "width": 0.8,
        "x": 0.1,
        "y": 0.1
       },
       "content": {
        "cell": "36cebf75-a1b3-4b67-9772-9de9788a40b3",
        "part": "whole"
       },
       "id": "cd65d424-8f3e-4690-8447-fd15205ce0e6"
      }
     }
    },
    "99e1ece3-b4bb-4ccf-bd0c-2c7e516c951b": {
     "id": "99e1ece3-b4bb-4ccf-bd0c-2c7e516c951b",
     "prev": "6b40d63a-6f69-4a4d-8aa4-3201e5f7bc72",
     "regions": {
      "c4f44d66-80ef-492f-9aa6-b5f08d0bea31": {
       "attrs": {
        "height": 0.8,
        "width": 0.8,
        "x": 0.1,
        "y": 0.1
       },
       "content": {
        "cell": "76552077-e2d2-43fe-9807-00e0d9bbf8e5",
        "part": "source"
       },
       "id": "c4f44d66-80ef-492f-9aa6-b5f08d0bea31"
      }
     }
    },
    "9e17d8be-f279-4cf5-b2e1-972de3c75213": {
     "id": "9e17d8be-f279-4cf5-b2e1-972de3c75213",
     "prev": "dde30309-c0fb-4204-adb2-7cc5f48a0d08",
     "regions": {
      "ade086ff-bd78-41f9-bb90-72e7309a7c4b": {
       "attrs": {
        "height": 0.8,
        "width": 0.8,
        "x": 0.1,
        "y": 0.1
       },
       "content": {
        "cell": "d5f21140-4029-423a-b34e-60438ff1150c",
        "part": "whole"
       },
       "id": "ade086ff-bd78-41f9-bb90-72e7309a7c4b"
      }
     }
    },
    "a60193b7-db0d-43e6-a3e4-dfb503d3fc95": {
     "id": "a60193b7-db0d-43e6-a3e4-dfb503d3fc95",
     "prev": "1abca6ca-5664-49c4-be31-c89021fdacdc",
     "regions": {
      "75c90d81-d67a-4f95-bf59-6596d1b544d3": {
       "attrs": {
        "height": 0.8,
        "width": 0.8,
        "x": 0.1,
        "y": 0.1
       },
       "content": {
        "cell": "98a41f7c-412a-4cd0-bfb9-d8cd23527ca6",
        "part": "whole"
       },
       "id": "75c90d81-d67a-4f95-bf59-6596d1b544d3"
      }
     }
    },
    "a89bf932-641d-473e-b69a-89a8334fd065": {
     "id": "a89bf932-641d-473e-b69a-89a8334fd065",
     "prev": "42308d9c-8d98-46dd-b45e-326f894df67d",
     "regions": {
      "d905f752-e620-4b36-b76e-b75d56bfd5ba": {
       "attrs": {
        "height": 0.8,
        "width": 0.8,
        "x": 0.1,
        "y": 0.1
       },
       "content": {
        "cell": "c1ec0b1c-e2e7-4257-8145-268c57f802c0",
        "part": "whole"
       },
       "id": "d905f752-e620-4b36-b76e-b75d56bfd5ba"
      }
     }
    },
    "c977907f-4b59-4898-8b29-342bffd8fbdf": {
     "id": "c977907f-4b59-4898-8b29-342bffd8fbdf",
     "prev": "a89bf932-641d-473e-b69a-89a8334fd065",
     "regions": {
      "138ee4f6-e7d4-4dda-9bbb-2923d427d636": {
       "attrs": {
        "height": 0.8,
        "width": 0.8,
        "x": 0.1,
        "y": 0.1
       },
       "content": {
        "cell": "be1bcc8c-aae3-45cd-abe1-fa6bc54dc5e0",
        "part": "whole"
       },
       "id": "138ee4f6-e7d4-4dda-9bbb-2923d427d636"
      }
     }
    },
    "d8454246-0b6e-4246-9edd-3085f4056926": {
     "id": "d8454246-0b6e-4246-9edd-3085f4056926",
     "prev": "831be100-4175-42bc-9ca7-d2c770449b61",
     "regions": {
      "9f582671-9276-4c88-8731-c5ffc9117d33": {
       "attrs": {
        "height": 0.8,
        "width": 0.8,
        "x": 0.1,
        "y": 0.1
       },
       "content": {
        "cell": "25e7f1f4-af60-41fe-929c-3f952e662f4a",
        "part": "whole"
       },
       "id": "9f582671-9276-4c88-8731-c5ffc9117d33"
      }
     }
    },
    "d9dd51d5-0c26-4116-9ea5-8866e5817def": {
     "id": "d9dd51d5-0c26-4116-9ea5-8866e5817def",
     "prev": "506f957e-7427-445a-8989-a56ebc611806",
     "regions": {
      "ee686427-f839-409d-89e2-992ff3fe20f1": {
       "attrs": {
        "height": 0.8,
        "width": 0.8,
        "x": 0.1,
        "y": 0.1
       },
       "content": {
        "cell": "1fb6a3f4-f64d-4317-856b-6b12aa642235",
        "part": "whole"
       },
       "id": "ee686427-f839-409d-89e2-992ff3fe20f1"
      }
     }
    },
    "dde30309-c0fb-4204-adb2-7cc5f48a0d08": {
     "id": "dde30309-c0fb-4204-adb2-7cc5f48a0d08",
     "prev": null,
     "regions": {
      "0e6ac195-663f-4a05-9ba5-004fb256db3a": {
       "attrs": {
        "height": 0.8,
        "width": 0.8,
        "x": 0.1,
        "y": 0.1
       },
       "content": {
        "cell": "d7340bc1-a3c6-47f6-99e5-28b969c775da",
        "part": "whole"
       },
       "id": "0e6ac195-663f-4a05-9ba5-004fb256db3a"
      }
     }
    },
    "eb12cddc-6a5f-4e87-98a2-555a40a30909": {
     "id": "eb12cddc-6a5f-4e87-98a2-555a40a30909",
     "prev": "56b751ca-3cfe-4838-90fa-3f3307947552",
     "regions": {
      "a4fd8b6b-3390-4cd9-8fe8-40cec46db2b9": {
       "attrs": {
        "height": 0.8,
        "width": 0.8,
        "x": 0.1,
        "y": 0.1
       },
       "content": {
        "cell": "3f83a70c-f176-4ed8-b38b-df7a0dbd4b9a",
        "part": "whole"
       },
       "id": "a4fd8b6b-3390-4cd9-8fe8-40cec46db2b9"
      }
     }
    },
    "f7589e32-b09a-464d-8eeb-2ce72e41e8a3": {
     "id": "f7589e32-b09a-464d-8eeb-2ce72e41e8a3",
     "prev": "054a5b2b-dbac-40e8-854e-0deac037266e",
     "regions": {
      "405e7b30-5fa8-43f5-b4e5-551f67806cc1": {
       "attrs": {
        "height": 0.8,
        "width": 0.8,
        "x": 0.1,
        "y": 0.1
       },
       "content": {
        "cell": "5712b201-477d-42c4-bf56-4eb74bb4032c",
        "part": "whole"
       },
       "id": "405e7b30-5fa8-43f5-b4e5-551f67806cc1"
      }
     }
    }
   },
   "themes": {}
  }
 },
 "nbformat": 4,
 "nbformat_minor": 2
}
