{
 "cells": [
  {
   "cell_type": "code",
   "execution_count": 1,
   "metadata": {},
   "outputs": [],
   "source": [
    "# imports\n",
    "import bokeh\n",
    "from bokeh.io import output_notebook, show\n",
    "from bokeh.plotting import figure\n",
    "import pandas as pd\n",
    "# imports for figure tools\n",
    "from bokeh.models import (\n",
    "    ColumnDataSource,\n",
    "    HoverTool,\n",
    "    LogColorMapper,\n",
    "    CategoricalColorMapper\n",
    ")\n",
    "\n",
    "# imports for iris sample data set\n",
    "from sklearn.datasets import load_iris\n",
    "# load iris data into dataframe\n",
    "data = load_iris()\n",
    "df = pd.DataFrame(data.data, columns=data.feature_names)\n",
    "name_map = {0:'setosa',1:'versicolor',2:'virginica'}\n",
    "df['species']= [name_map[x] for x in data.target]\n"
   ]
  },
  {
   "cell_type": "markdown",
   "metadata": {},
   "source": [
    "# Figures"
   ]
  },
  {
   "cell_type": "code",
   "execution_count": 4,
   "metadata": {},
   "outputs": [
    {
     "name": "stderr",
     "output_type": "stream",
     "text": [
      "W-1001 (NO_DATA_RENDERERS): Plot has no data renderers: Figure(id='cd33aa90-9b15-4706-8ad7-689530603238', ...)\n"
     ]
    }
   ],
   "source": [
    "# instansiate figure\n",
    "px_width = 600 # the number of pixels wide you want the figure\n",
    "px_height = 600 # the number of pixels high you want the figure\n",
    "tools = 'pan, box_zoom' # the type of tools you want the figure to have\n",
    "x_label = 'x-axis'\n",
    "y_label = 'y-axis'\n",
    "x_data_type = 'datetime'\n",
    "plot = figure(plot_width=px_width, plot_height=px_height, tools=tools, \n",
    "              x_axis_label= x_label, y_axis_label=y_label, x_axis_type = x_data_type)\n",
    "show(plot)"
   ]
  },
  {
   "cell_type": "markdown",
   "metadata": {},
   "source": [
    "<p>\n",
    "    The figure object can be compared to the canvas object in matplotlib, as they both are the 'background' which any and all data is displayed on.\n",
    "</p>"
   ]
  },
  {
   "cell_type": "markdown",
   "metadata": {},
   "source": [
    "# Glphys\n",
    "<p>\n",
    "    Glyphy objects are how data is displayed on a figure\n",
    "</p>"
   ]
  },
  {
   "cell_type": "code",
   "execution_count": 5,
   "metadata": {},
   "outputs": [],
   "source": [
    "#add data to the figure\n",
    "x_values = [1,2,3,4,5]\n",
    "y_values = [8,3,2,7,1]\n",
    "sizes = [10,20,30,40,50] # the size of each point\n",
    "fill_color = 'teal' # solid color of each point\n",
    "# circle markers\n",
    "plot.circle(x=x_values, y=y_values, size=sizes, fill_color=fill_color, alpha=0.8) # makes a scatter plot with circle markers of the x and y data\n",
    "show(plot) # pops up a tab in your browser of the plot"
   ]
  },
  {
   "cell_type": "code",
   "execution_count": 4,
   "metadata": {},
   "outputs": [],
   "source": [
    "# diamond markers\n",
    "plot.diamond(x=x_values, y=y_values, size=sizes, fill_color='red', alpha=0.8) # makes a scatter plot with circle markers of the x and y data\n",
    "show(plot) # pops up a tab in your browser of the plot\n"
   ]
  },
  {
   "cell_type": "code",
   "execution_count": 5,
   "metadata": {},
   "outputs": [],
   "source": [
    "# square markers\n",
    "plot.square(x=x_values,y=y_values, size=sizes, fill_color='green', alpha=0.8) # makes a scatter plot with circle markers of the x and y data\n",
    "show(plot) # pops up a tab in your browser of the plot"
   ]
  },
  {
   "cell_type": "markdown",
   "metadata": {},
   "source": [
    "<div class=\"span5 alert alert-info\">\n",
    "Notice how the points overlap each other.  Bokeh is not making new figures with each call, it is just adding more points(glyphs) the initial figure.  If you want multiple figures, you need multiple figure objects.\n",
    "</div>"
   ]
  },
  {
   "cell_type": "markdown",
   "metadata": {},
   "source": [
    "#### Different built in markers (glyphs)\n",
    "<p>\n",
    "<li>asterisk()</li>\n",
    "<li>cirlce()</li>\n",
    "<li>circle_cross</li>\n",
    "<li>cross()</li>\n",
    "<li>diamond()</li>\n",
    "<li>diamond_cross()</li>\n",
    "<li>inverted_triangle()</li>\n",
    "<li>square()</li>\n",
    "<li>square_cross</li>\n",
    "<li>square_x</li>\n",
    "<li>triangle()</li>\n",
    "<li>x()</li>\n",
    "</p>\n",
    "\n",
    "#### Acceptable colors\n",
    "<p>\n",
    "<li> hexadecimal strings </li>\n",
    "<li>tuples of RGB values between 0 and 255</li>\n",
    "<li>any CSS color name</li>\n",
    "</p>\n"
   ]
  },
  {
   "cell_type": "markdown",
   "metadata": {},
   "source": [
    "#### Glphys with Pandas dataframes\n",
    "<p>\n",
    "    Bokeh integrates really well with Pandas dataframes.\n",
    "</p>"
   ]
  },
  {
   "cell_type": "code",
   "execution_count": 2,
   "metadata": {},
   "outputs": [
    {
     "ename": "NameError",
     "evalue": "name 'px_width' is not defined",
     "output_type": "error",
     "traceback": [
      "\u001b[1;31m---------------------------------------------------------------------------\u001b[0m",
      "\u001b[1;31mNameError\u001b[0m                                 Traceback (most recent call last)",
      "\u001b[1;32m<ipython-input-2-f2c36d4f2508>\u001b[0m in \u001b[0;36m<module>\u001b[1;34m()\u001b[0m\n\u001b[0;32m      1\u001b[0m \u001b[1;31m# scatterplot of two dataframe columns\u001b[0m\u001b[1;33m\u001b[0m\u001b[1;33m\u001b[0m\u001b[0m\n\u001b[1;32m----> 2\u001b[1;33m fig = figure(plot_width=px_width, plot_height=px_height, tools=tools, \n\u001b[0m\u001b[0;32m      3\u001b[0m               x_axis_label= 'Sepal width (cm)', y_axis_label='Sepal length (cm)')\n\u001b[0;32m      4\u001b[0m \u001b[1;33m\u001b[0m\u001b[0m\n\u001b[0;32m      5\u001b[0m \u001b[0mfig\u001b[0m\u001b[1;33m.\u001b[0m\u001b[0mcircle\u001b[0m\u001b[1;33m(\u001b[0m\u001b[0mdf\u001b[0m\u001b[1;33m[\u001b[0m\u001b[1;34m'sepal length (cm)'\u001b[0m\u001b[1;33m]\u001b[0m\u001b[1;33m,\u001b[0m \u001b[0mdf\u001b[0m\u001b[1;33m[\u001b[0m\u001b[1;34m'sepal width (cm)'\u001b[0m\u001b[1;33m]\u001b[0m\u001b[1;33m,\u001b[0m \u001b[0mcolor\u001b[0m\u001b[1;33m=\u001b[0m \u001b[1;34m'firebrick'\u001b[0m\u001b[1;33m,\u001b[0m \u001b[0msize\u001b[0m\u001b[1;33m=\u001b[0m\u001b[1;36m15\u001b[0m\u001b[1;33m)\u001b[0m\u001b[1;33m\u001b[0m\u001b[0m\n",
      "\u001b[1;31mNameError\u001b[0m: name 'px_width' is not defined"
     ]
    }
   ],
   "source": [
    "# scatterplot of two dataframe columns\n",
    "fig = figure(plot_width=px_width, plot_height=px_height, tools=tools, \n",
    "              x_axis_label= 'Sepal width (cm)', y_axis_label='Sepal length (cm)')\n",
    "\n",
    "fig.circle(df['sepal length (cm)'], df['sepal width (cm)'], color= 'firebrick', size=15)\n",
    "show(fig)"
   ]
  },
  {
   "cell_type": "code",
   "execution_count": 7,
   "metadata": {},
   "outputs": [],
   "source": [
    "# scatterplot of two dataframe columns, with categorical colors\n",
    "fig = figure(plot_width=px_width, plot_height=px_height, tools=tools, \n",
    "              x_axis_label= 'Sepal width (cm)', y_axis_label='Sepal length (cm)')\n",
    "\n",
    "colormap = {'setosa': 'OliveDrab', 'versicolor': 'orchid', 'virginica': 'DarkTurquoise'}\n",
    "colors = [colormap[x] for x in df['species']]\n",
    "\n",
    "fig.diamond_cross(df['sepal length (cm)'], df['sepal width (cm)'], color= colors, size=15)\n",
    "show(fig)"
   ]
  },
  {
   "cell_type": "code",
   "execution_count": null,
   "metadata": {},
   "outputs": [],
   "source": []
  },
  {
   "cell_type": "code",
   "execution_count": null,
   "metadata": {},
   "outputs": [],
   "source": []
  },
  {
   "cell_type": "code",
   "execution_count": null,
   "metadata": {},
   "outputs": [],
   "source": []
  },
  {
   "cell_type": "markdown",
   "metadata": {},
   "source": [
    "### Patches"
   ]
  },
  {
   "cell_type": "markdown",
   "metadata": {},
   "source": [
    "<p>\n",
    "    The patches glphy is used to represent irregular shapes. The following examples can be found in the bokeh documentation https://bokeh.pydata.org/en/latest/docs/user_guide/plotting.html \n",
    "</p>"
   ]
  },
  {
   "cell_type": "code",
   "execution_count": 8,
   "metadata": {},
   "outputs": [],
   "source": [
    "# instantiate figure\n",
    "p1 = figure(plot_width=700, plot_height=700)\n",
    "\n",
    "# define vertices\n",
    "x_values = [1, 3, 2]\n",
    "y_values = [2, 1, 4]\n",
    "\n",
    "# add a circle at the \n",
    "p1.circle(x_values, y_values, alpha=0.8, size = 8)\n",
    "\n",
    "# add a patch renderer with an alpha an line width\n",
    "p1.patch(x_values, y_values, alpha=0.5, line_width=2)\n",
    "\n",
    "show(p1)"
   ]
  },
  {
   "cell_type": "markdown",
   "metadata": {},
   "source": [
    "<p>\n",
    "    The above figure illustrates that the patch renderer takes the coordinates of a shape's vertices (x,y) and then draws a line that connects the vertices. A list of lists ([[x1],[x2]], [[y1],[y2]]) is used in order to draw multiple patches in the same figure.  As shown below (and in the documentation).\n",
    "\n",
    "</p>"
   ]
  },
  {
   "cell_type": "code",
   "execution_count": 9,
   "metadata": {},
   "outputs": [],
   "source": [
    "# plot 2 geometric shapes\n",
    "p2 = figure(plot_width=700, plot_height=700)\n",
    "\n",
    "p2.patches([[1, 3, 2], [3, 4, 6, 6]], [[2, 1, 4], [4, 7, 8, 5]],\n",
    "          color=[\"green\", \"navy\"], alpha=[0.8, 0.3], line_width=2)\n",
    "show(p2)"
   ]
  },
  {
   "cell_type": "markdown",
   "metadata": {},
   "source": [
    "# Column Data Source\n",
    "<p>\n",
    "    The column data source object is the fundamental data structure of Bokeh, and is how data gets processed into a glphy. Even when not explicitly called, like with the above plots, a column data source object is actually being created by Bokeh.\n",
    "</p>\n",
    "\n",
    "<p>\n",
    "    The data element in the column data source object needs to map the name of the data to the values.  So some acceptable forms of data are:\n",
    "    <li> dictionaires where the key:value pair is name:data </li>\n",
    "    <li> Panda dataframes where the column name is the name, and the values in the column are the data </li>\n",
    "</p>"
   ]
  },
  {
   "cell_type": "markdown",
   "metadata": {},
   "source": [
    "<div class=\"span5 alert alert-info\">\n",
    "Note: All columns in a ColumnDataSource object need to be the same length at all times\n",
    "</div>"
   ]
  },
  {
   "cell_type": "code",
   "execution_count": 2,
   "metadata": {},
   "outputs": [],
   "source": [
    "# import\n",
    "from bokeh.models import ColumnDataSource"
   ]
  },
  {
   "cell_type": "code",
   "execution_count": 3,
   "metadata": {},
   "outputs": [],
   "source": [
    "# data source object from Pandas dataframe\n",
    "data_source = ColumnDataSource(df)"
   ]
  },
  {
   "cell_type": "code",
   "execution_count": 4,
   "metadata": {},
   "outputs": [],
   "source": [
    "p3 = figure(plot_width=400, plot_height=400)\n",
    "\n",
    "p3.circle(source=data_source, x='sepal length (cm)',y='sepal width (cm)', size=10)\n",
    "show(p3)\n"
   ]
  },
  {
   "cell_type": "markdown",
   "metadata": {},
   "source": [
    "##### Colormaping"
   ]
  },
  {
   "cell_type": "code",
   "execution_count": 4,
   "metadata": {},
   "outputs": [],
   "source": [
    "color_mapper = CategoricalColorMapper(factors=['setosa','versicolor','virginica'], palette=['Cyan','DarkOrange','DeepPink'])"
   ]
  },
  {
   "cell_type": "code",
   "execution_count": 6,
   "metadata": {},
   "outputs": [],
   "source": [
    "p3.circle(source=data_source, x='sepal length (cm)',y='sepal width (cm)', size=10,\n",
    "         color=dict(field='species', transform=color_mapper))\n",
    "show(p3)"
   ]
  },
  {
   "cell_type": "code",
   "execution_count": null,
   "metadata": {},
   "outputs": [],
   "source": []
  },
  {
   "cell_type": "markdown",
   "metadata": {},
   "source": [
    "# Layouts"
   ]
  },
  {
   "cell_type": "markdown",
   "metadata": {},
   "source": [
    "##### multiple plots\n"
   ]
  },
  {
   "cell_type": "code",
   "execution_count": 5,
   "metadata": {},
   "outputs": [],
   "source": [
    "# imports\n",
    "from bokeh.layouts import (\n",
    "    row,\n",
    "    column,\n",
    "    gridplot,\n",
    "    layout\n",
    ")\n",
    "from bokeh.models.widgets import Tabs, Panel"
   ]
  },
  {
   "cell_type": "code",
   "execution_count": 8,
   "metadata": {},
   "outputs": [
    {
     "data": {
      "text/html": [
       "<div style=\"display: table;\"><div style=\"display: table-row;\"><div style=\"display: table-cell;\"><b title=\"bokeh.models.renderers.GlyphRenderer\">GlyphRenderer</b>(</div><div style=\"display: table-cell;\">id&nbsp;=&nbsp;'d74b12b7-5ddb-4314-9b10-28293efef1b1', <span id=\"f10f3431-5835-4e6a-a22d-bce3c2a23367\" style=\"cursor: pointer;\">&hellip;)</span></div></div><div class=\"ba3eb4e4-675a-4de6-800c-5582047c1291\" style=\"display: none;\"><div style=\"display: table-cell;\"></div><div style=\"display: table-cell;\">data_source&nbsp;=&nbsp;ColumnDataSource(id='e7502e1f-b762-4543-a643-8a2fc1c8c355', ...),</div></div><div class=\"ba3eb4e4-675a-4de6-800c-5582047c1291\" style=\"display: none;\"><div style=\"display: table-cell;\"></div><div style=\"display: table-cell;\">glyph&nbsp;=&nbsp;Circle(id='6cc96643-a492-438d-ade0-d7af4f7482c3', ...),</div></div><div class=\"ba3eb4e4-675a-4de6-800c-5582047c1291\" style=\"display: none;\"><div style=\"display: table-cell;\"></div><div style=\"display: table-cell;\">hover_glyph&nbsp;=&nbsp;None,</div></div><div class=\"ba3eb4e4-675a-4de6-800c-5582047c1291\" style=\"display: none;\"><div style=\"display: table-cell;\"></div><div style=\"display: table-cell;\">js_event_callbacks&nbsp;=&nbsp;{},</div></div><div class=\"ba3eb4e4-675a-4de6-800c-5582047c1291\" style=\"display: none;\"><div style=\"display: table-cell;\"></div><div style=\"display: table-cell;\">js_property_callbacks&nbsp;=&nbsp;{},</div></div><div class=\"ba3eb4e4-675a-4de6-800c-5582047c1291\" style=\"display: none;\"><div style=\"display: table-cell;\"></div><div style=\"display: table-cell;\">level&nbsp;=&nbsp;'glyph',</div></div><div class=\"ba3eb4e4-675a-4de6-800c-5582047c1291\" style=\"display: none;\"><div style=\"display: table-cell;\"></div><div style=\"display: table-cell;\">muted&nbsp;=&nbsp;False,</div></div><div class=\"ba3eb4e4-675a-4de6-800c-5582047c1291\" style=\"display: none;\"><div style=\"display: table-cell;\"></div><div style=\"display: table-cell;\">muted_glyph&nbsp;=&nbsp;None,</div></div><div class=\"ba3eb4e4-675a-4de6-800c-5582047c1291\" style=\"display: none;\"><div style=\"display: table-cell;\"></div><div style=\"display: table-cell;\">name&nbsp;=&nbsp;None,</div></div><div class=\"ba3eb4e4-675a-4de6-800c-5582047c1291\" style=\"display: none;\"><div style=\"display: table-cell;\"></div><div style=\"display: table-cell;\">nonselection_glyph&nbsp;=&nbsp;Circle(id='b0ba4791-73d4-4162-b4cb-0f7aa6821a61', ...),</div></div><div class=\"ba3eb4e4-675a-4de6-800c-5582047c1291\" style=\"display: none;\"><div style=\"display: table-cell;\"></div><div style=\"display: table-cell;\">selection_glyph&nbsp;=&nbsp;None,</div></div><div class=\"ba3eb4e4-675a-4de6-800c-5582047c1291\" style=\"display: none;\"><div style=\"display: table-cell;\"></div><div style=\"display: table-cell;\">subscribed_events&nbsp;=&nbsp;[],</div></div><div class=\"ba3eb4e4-675a-4de6-800c-5582047c1291\" style=\"display: none;\"><div style=\"display: table-cell;\"></div><div style=\"display: table-cell;\">tags&nbsp;=&nbsp;[],</div></div><div class=\"ba3eb4e4-675a-4de6-800c-5582047c1291\" style=\"display: none;\"><div style=\"display: table-cell;\"></div><div style=\"display: table-cell;\">view&nbsp;=&nbsp;CDSView(id='8ada2617-faaf-4a7e-811d-39fd16e0c304', ...),</div></div><div class=\"ba3eb4e4-675a-4de6-800c-5582047c1291\" style=\"display: none;\"><div style=\"display: table-cell;\"></div><div style=\"display: table-cell;\">visible&nbsp;=&nbsp;True,</div></div><div class=\"ba3eb4e4-675a-4de6-800c-5582047c1291\" style=\"display: none;\"><div style=\"display: table-cell;\"></div><div style=\"display: table-cell;\">x_range_name&nbsp;=&nbsp;'default',</div></div><div class=\"ba3eb4e4-675a-4de6-800c-5582047c1291\" style=\"display: none;\"><div style=\"display: table-cell;\"></div><div style=\"display: table-cell;\">y_range_name&nbsp;=&nbsp;'default')</div></div></div>\n",
       "<script>\n",
       "(function() {\n",
       "  var expanded = false;\n",
       "  var ellipsis = document.getElementById(\"f10f3431-5835-4e6a-a22d-bce3c2a23367\");\n",
       "  ellipsis.addEventListener(\"click\", function() {\n",
       "    var rows = document.getElementsByClassName(\"ba3eb4e4-675a-4de6-800c-5582047c1291\");\n",
       "    for (var i = 0; i < rows.length; i++) {\n",
       "      var el = rows[i];\n",
       "      el.style.display = expanded ? \"none\" : \"table-row\";\n",
       "    }\n",
       "    ellipsis.innerHTML = expanded ? \"&hellip;)\" : \"&lsaquo;&lsaquo;&lsaquo;\";\n",
       "    expanded = !expanded;\n",
       "  });\n",
       "})();\n",
       "</script>\n"
      ],
      "text/plain": [
       "GlyphRenderer(id='d74b12b7-5ddb-4314-9b10-28293efef1b1', ...)"
      ]
     },
     "execution_count": 8,
     "metadata": {},
     "output_type": "execute_result"
    }
   ],
   "source": [
    "# three figures\n",
    "p1 = figure(plot_width=400, plot_height=400, tools='box_select,lasso_select, pan,box_zoom,reset')\n",
    "p2 = figure(plot_width=400, plot_height=400, tools='box_select,lasso_select, pan,box_zoom,reset')\n",
    "p3 = figure(plot_width=400, plot_height=400, tools='box_select,lasso_select, pan,box_zoom,reset')\n",
    "p4 = figure(plot_width=400, plot_height=400, tools='box_select,lasso_select, pan,box_zoom,reset')\n",
    "# three different data glyphs\n",
    "p1.circle(source=data_source, x='sepal length (cm)',y='sepal width (cm)', size=10,\n",
    "         color=dict(field='species', transform=color_mapper))\n",
    "p2.circle(source=data_source, x='sepal length (cm)',y='petal length (cm)', size=10,\n",
    "         color=dict(field='species', transform=color_mapper))\n",
    "p3.circle(source=data_source, x='sepal length (cm)',y='petal width (cm)', size=10,\n",
    "         color=dict(field='species', transform=color_mapper))\n",
    "p4.circle(source=data_source, x='petal length (cm)',y='petal width (cm)', size=10,\n",
    "         color=dict(field='species', transform=color_mapper))"
   ]
  },
  {
   "cell_type": "code",
   "execution_count": 9,
   "metadata": {},
   "outputs": [],
   "source": [
    "# row of figures\n",
    "plot_rows = row(p1,p2,p3)\n",
    "show(plot_rows)"
   ]
  },
  {
   "cell_type": "code",
   "execution_count": 18,
   "metadata": {},
   "outputs": [],
   "source": [
    "# column of figures\n",
    "plot_column = column(p1,p2,p3)\n",
    "show(plot_column)"
   ]
  },
  {
   "cell_type": "markdown",
   "metadata": {},
   "source": [
    "##### Grids of Plots"
   ]
  },
  {
   "cell_type": "code",
   "execution_count": 19,
   "metadata": {},
   "outputs": [],
   "source": [
    "#columns and rows of figures\n",
    "column_of_figs = column(p1,p2,p3)\n",
    "grid_plots = row(column_of_figs,p4)\n",
    "show(grid_plots)"
   ]
  },
  {
   "cell_type": "code",
   "execution_count": 20,
   "metadata": {},
   "outputs": [],
   "source": [
    "#columns and rows of figures\n",
    "row_of_figs = row(p1,p2,p3)\n",
    "grid_plots = column(row_of_figs,p4)\n",
    "show(grid_plots)"
   ]
  },
  {
   "cell_type": "code",
   "execution_count": 21,
   "metadata": {},
   "outputs": [],
   "source": [
    "grid = gridplot([[p1,p2,p3],[p4, None, None]])\n",
    "show(grid)"
   ]
  },
  {
   "cell_type": "code",
   "execution_count": 22,
   "metadata": {},
   "outputs": [],
   "source": [
    "grid= gridplot([p1,p2,p3,p4], ncols=2)\n",
    "show(grid)"
   ]
  },
  {
   "cell_type": "markdown",
   "metadata": {},
   "source": [
    "##### Tabbed Layouts\n",
    "<p>\n",
    "    Tabs contain Panel objects\n",
    "</p>"
   ]
  },
  {
   "cell_type": "code",
   "execution_count": 23,
   "metadata": {},
   "outputs": [],
   "source": [
    "# Create Panel with a title\n",
    "A = Panel(child=row(p1,p2,p3), title='A')\n",
    "B = Panel(child=row(p4), title='B')"
   ]
  },
  {
   "cell_type": "code",
   "execution_count": 24,
   "metadata": {},
   "outputs": [],
   "source": [
    "tabs = Tabs(tabs=[A,B])\n",
    "show(tabs)"
   ]
  },
  {
   "cell_type": "markdown",
   "metadata": {},
   "source": [
    "##### General layouts with sizing mode"
   ]
  },
  {
   "cell_type": "code",
   "execution_count": 8,
   "metadata": {},
   "outputs": [],
   "source": [
    "# stretchs plots to fill figure\n",
    "L1 = layout([\n",
    "    [p1,p2],\n",
    "    [p3],\n",
    "    [p4]],\n",
    "    sizing_mode = 'stretch_both')\n",
    "show(L1)"
   ]
  },
  {
   "cell_type": "code",
   "execution_count": 9,
   "metadata": {},
   "outputs": [],
   "source": [
    "L2 = layout([\n",
    "    [p1,p2],\n",
    "    [p3],\n",
    "    [p4]],\n",
    "    sizing_mode = 'fixed')\n",
    "show(L2)"
   ]
  },
  {
   "cell_type": "markdown",
   "metadata": {},
   "source": [
    "#### Sizing_mode  possibilities\n",
    "<p>\n",
    "<li>'fixed'</li>\n",
    "<li>'scale_width'</li>\n",
    "<li>'scale_height'</li>\n",
    "<li>'scale_both'</li>\n",
    "<li>'stretch_both'</li>\n",
    "</p>"
   ]
  },
  {
   "cell_type": "markdown",
   "metadata": {},
   "source": [
    "# Linking Plots"
   ]
  },
  {
   "cell_type": "markdown",
   "metadata": {},
   "source": [
    "##### Linked axes"
   ]
  },
  {
   "cell_type": "code",
   "execution_count": 10,
   "metadata": {},
   "outputs": [],
   "source": [
    "# link x-axes\n",
    "p1.x_range = p2.x_range = p3.x_range\n",
    "# link y-axes\n",
    "p1.y_range = p2.y_range = p3.y_range\n"
   ]
  },
  {
   "cell_type": "code",
   "execution_count": 11,
   "metadata": {},
   "outputs": [],
   "source": [
    "#row of figures\n",
    "fig_row = row(p1,p2,p3)\n",
    "show(fig_row)"
   ]
  },
  {
   "cell_type": "markdown",
   "metadata": {},
   "source": [
    "##### Linked brushing\n",
    "<p>\n",
    "    Data needs to have a common data source\n",
    "</p>"
   ]
  },
  {
   "cell_type": "code",
   "execution_count": 17,
   "metadata": {},
   "outputs": [],
   "source": [
    "# row of figures\n",
    "plot_rows = row(p1,p2,p3,p4)\n",
    "show(plot_rows)"
   ]
  },
  {
   "cell_type": "markdown",
   "metadata": {},
   "source": [
    "# Labeling\n",
    "<p>\n",
    "    * Making a picture a figure"
   ]
  },
  {
   "cell_type": "code",
   "execution_count": 21,
   "metadata": {},
   "outputs": [],
   "source": [
    "# adding axes\n",
    "plot = figure(x_axis_label= \"X-axis\", y_axis_label='y-axis', title=\"Labeled Figure\")\n",
    "plot.circle(x=[1,2,3],y=[8,9,10])\n",
    "show(plot)"
   ]
  },
  {
   "cell_type": "markdown",
   "metadata": {},
   "source": [
    "##### modifing labels"
   ]
  },
  {
   "cell_type": "code",
   "execution_count": 26,
   "metadata": {},
   "outputs": [],
   "source": [
    "# title\n",
    "plot.title.text_color = \"olive\"\n",
    "plot.title.text_font = \"helvetica\"\n",
    "plot.title.text_font_style = \"bold\" # or: normal, italic\n",
    "plot.title.text_font_size = '12pt' # or: '12px', '12em'\n",
    "plot.title.align = 'center' # or: left, right\n",
    "show(plot)"
   ]
  },
  {
   "cell_type": "markdown",
   "metadata": {},
   "source": [
    "##### Legends"
   ]
  },
  {
   "cell_type": "code",
   "execution_count": 12,
   "metadata": {},
   "outputs": [],
   "source": [
    "p5 = figure()\n",
    "p5.circle(source=data_source, x='sepal length (cm)',y='sepal width (cm)', size=10,\n",
    "         color={'field':'species', 'transform' :color_mapper}, legend='species')\n",
    "show(p5)"
   ]
  },
  {
   "cell_type": "code",
   "execution_count": 13,
   "metadata": {},
   "outputs": [],
   "source": [
    "# change location\n",
    "p5.legend.location = \"bottom_left\" # or: 'bottom_left', 'bottom_right', 'top_right'\n",
    "show(p5)"
   ]
  },
  {
   "cell_type": "markdown",
   "metadata": {},
   "source": [
    "##### Interactive legends from Bokeh's user guide (https://bokeh.pydata.org/en/latest/docs/user_guide/interaction/legends.html)"
   ]
  },
  {
   "cell_type": "code",
   "execution_count": 3,
   "metadata": {},
   "outputs": [],
   "source": [
    "# hiding data using the legend\n",
    "from bokeh.palettes import Spectral4\n",
    "from bokeh.sampledata.stocks import AAPL, IBM, MSFT, GOOG\n",
    "\n",
    "\n",
    "# make axis datetime\n",
    "p = figure(plot_width=800, plot_height=250, x_axis_type=\"datetime\")\n",
    "p.title.text = 'Click on legend entries to hide the corresponding lines'\n",
    "\n",
    "# makes glypy from a dataframe for each company\n",
    "for data, name, color in zip([AAPL, IBM, MSFT, GOOG], [\"AAPL\", \"IBM\", \"MSFT\", \"GOOG\"], Spectral4):\n",
    "    df = pd.DataFrame(data)\n",
    "    df['date'] = pd.to_datetime(df['date'])\n",
    "    p.line(df['date'], df['close'], line_width=2, color=color, alpha=0.8, legend=name)\n",
    "\n",
    "p.legend.location = \"top_left\"\n",
    "p.legend.click_policy=\"hide\"\n",
    "\n",
    "show(p)"
   ]
  },
  {
   "cell_type": "code",
   "execution_count": 6,
   "metadata": {},
   "outputs": [],
   "source": [
    "# muting the data using the legend\n",
    "p = figure(plot_width=800, plot_height=250, x_axis_type=\"datetime\")\n",
    "p.title.text = 'Click on legend entries to mute the corresponding lines'\n",
    "\n",
    "for data, name, color in zip([AAPL, IBM, MSFT, GOOG], [\"AAPL\", \"IBM\", \"MSFT\", \"GOOG\"], Spectral4):\n",
    "    df = pd.DataFrame(data)\n",
    "    df['date'] = pd.to_datetime(df['date'])\n",
    "    p.line(df['date'], df['close'], line_width=2, color=color, alpha=0.8,\n",
    "           muted_color=color, muted_alpha=0.2, legend=name)\n",
    "\n",
    "p.legend.location = \"top_left\"\n",
    "p.legend.click_policy=\"mute\"\n",
    "\n",
    "show(p)\n"
   ]
  },
  {
   "cell_type": "markdown",
   "metadata": {},
   "source": [
    "<div class=\"span5 alert alert-info\">\n",
    "    *Note: the above plots are not using the same datasource\n",
    "</div>\n"
   ]
  },
  {
   "cell_type": "markdown",
   "metadata": {},
   "source": [
    "# User Interaction\n",
    "<p>\n",
    "    Bokeh has built-in tools, like box_select, lasso_select and hover, that allow users to dynamically interact with a plot.\n",
    "    Tool parameters are specified in the figure object.\n",
    "</p>\n",
    "\n",
    "<li> box_select: allows selected points to have unique properties </li>\n",
    "<li> lasso_select: allows selected points to have unique properties </li>\n",
    "<li> hover: displays unique properties or information when moused over </li>\n"
   ]
  },
  {
   "cell_type": "markdown",
   "metadata": {},
   "source": [
    "##### box_select"
   ]
  },
  {
   "cell_type": "code",
   "execution_count": 17,
   "metadata": {},
   "outputs": [],
   "source": [
    "# Create a figure with the \"box_select\"\n",
    "p = figure(tools='box_select')\n",
    "\n",
    "# Add circle glyphs to the figure p with the selected and non-selected properties\n",
    "p.circle(source=data_source, x='sepal length (cm)',y='sepal width (cm)', size=10, selection_color='red', nonselection_alpha = 0.1)\n",
    "\n",
    "show(p)"
   ]
  },
  {
   "cell_type": "markdown",
   "metadata": {},
   "source": [
    "##### lasso_select"
   ]
  },
  {
   "cell_type": "code",
   "execution_count": null,
   "metadata": {},
   "outputs": [],
   "source": [
    "# Create a figure with the lasso_select\n",
    "p = figure(tools='lasso_select')\n",
    "\n",
    "# Add circle glyphs to the figure p with the selected and non-selected properties\n",
    "p.circle(source=data_source, x='sepal length (cm)',y='sepal width (cm)', size=10, selection_color='red', nonselection_alpha = 0.1)\n",
    "\n",
    "show(p)"
   ]
  },
  {
   "cell_type": "markdown",
   "metadata": {},
   "source": [
    "##### HoverTool"
   ]
  },
  {
   "cell_type": "code",
   "execution_count": 18,
   "metadata": {},
   "outputs": [],
   "source": [
    "# import the HoverTool\n",
    "from bokeh.models import HoverTool\n",
    "\n",
    "# Instantiate hover object\n",
    "hover = HoverTool(tooltips=[('Species', '@species')])\n",
    "\n",
    "# make figure object with hover tool\n",
    "p = figure(tools=['pan',hover],plot_width=600, plot_height=600)\n",
    "\n",
    "# Add circle glyphs to figure p with hover parameters\n",
    "p.circle(source=data_source, x='sepal length (cm)',y='sepal width (cm)', size=10,\n",
    "         fill_color= 'black', alpha=0.5, line_color= None, hover_fill_color= 'firebrick',\n",
    "         hover_alpha= 0.5, hover_line_color='white')\n",
    "show(p)\n"
   ]
  },
  {
   "cell_type": "code",
   "execution_count": 19,
   "metadata": {},
   "outputs": [],
   "source": [
    "# add tools on the fly\n",
    "\n",
    "p = figure(tools='lasso_select')\n",
    "\n",
    "\n",
    "# Add circle glyphs to the figure p with the selected and non-selected properties\n",
    "p.circle(source=data_source, x='sepal length (cm)',y='sepal width (cm)', size=10, selection_color='red', nonselection_alpha = 0.1)\n",
    "\n",
    "# Instantiate hover object\n",
    "hover = HoverTool(tooltips=[('Species', '@species')])\n",
    "p.add_tools(hover)\n",
    "show(p)"
   ]
  },
  {
   "cell_type": "markdown",
   "metadata": {},
   "source": [
    "#### Hover Parameters\n",
    "|modes|point_policy|\n",
    "| --- | --- |\n",
    "| mouse | snap_to_data |\n",
    "| hline | follow_mouse |\n",
    "| vline | none |\n",
    "\n",
    "#### Glyphs not compatible with hover\n",
    "\n",
    "|             |            |           |           |           |           \n",
    "|-------------|------------|-----------|-----------|-----------|-----------\n",
    "| <li>image</li>|<li>annulus</li>|<li>arc</li>| <li>bezier</li> | <li>image_rgba</li> | \n",
    "|<li>image_url</li>| <li>oval</li> | <li>patch</li> | <li>quadratic</li> |<li>ray</li>|\n",
    "\n"
   ]
  },
  {
   "cell_type": "code",
   "execution_count": null,
   "metadata": {},
   "outputs": [],
   "source": []
  },
  {
   "cell_type": "markdown",
   "metadata": {},
   "source": [
    "#### Example of interactive figure using patches\n",
    "<p>\n",
    "    The bokeh gallery (https://bokeh.pydata.org/en/latest/docs/gallery.html) has some great examples of how to use patches, including GIS based figures.  Below is one such example (with some modifications). This plot has a lot of setup that will be addressed in other sections of the notebook.\n",
    "</p>"
   ]
  },
  {
   "cell_type": "code",
   "execution_count": null,
   "metadata": {},
   "outputs": [],
   "source": [
    "\n",
    "# import for color palette\n",
    "from bokeh.palettes import Viridis6 as palette\n",
    "# imports for sample data\n",
    "from bokeh.sampledata.us_counties import data as counties\n",
    "from bokeh.sampledata.unemployment import data as unemployment\n",
    "\n",
    "palette.reverse()\n",
    "# create dictionary with the code number and name for each county in colorado\n",
    "counties = {\n",
    "    code: county for code, county in counties.items() if county[\"state\"] == \"co\"\n",
    "}\n",
    "\n",
    "# extract the longitude(lons) and latitude(lats) for each county in the dictionary\n",
    "\n",
    "county_xs = [county[\"lons\"] for county in counties.values()]\n",
    "county_ys = [county[\"lats\"] for county in counties.values()]\n",
    "\n",
    "# extract the name of each county\n",
    "county_names = [county['name'] for county in counties.values()]\n",
    "# extract the unemployment rate for each county\n",
    "county_rates = [unemployment[county_id] for county_id in counties]\n",
    "# create color mapper object with Viridis6 palette\n",
    "color_mapper = LogColorMapper(palette=palette)\n",
    "\n",
    "# create columndatasource object with data lists\n",
    "source = ColumnDataSource(data=dict(\n",
    "    x=county_xs,\n",
    "    y=county_ys,\n",
    "    name=county_names,\n",
    "    rate=county_rates,\n",
    "))\n",
    "\n",
    "TOOLS = \"pan,wheel_zoom,reset,hover,save\"\n",
    "# instantiate figure\n",
    "p = figure(\n",
    "    title=\"Colorado Unemployment, 2009\", tools=TOOLS,\n",
    "    x_axis_location=None, y_axis_location=None\n",
    ")\n",
    "p.grid.grid_line_color = None\n",
    "# add patch glyphs\n",
    "p.patches('x', 'y', source=source,\n",
    "          fill_color={'field': 'rate', 'transform': color_mapper},\n",
    "          fill_alpha=0.7, line_color=\"white\", line_width=0.5)\n",
    "# add hover tool\n",
    "hover = p.select_one(HoverTool)\n",
    "hover.point_policy = \"follow_mouse\"\n",
    "hover.tooltips = [\n",
    "    (\"Name\", \"@name\"),\n",
    "    (\"Unemployment rate)\", \"@rate%\"),\n",
    "    (\"(Long, Lat)\", \"($x, $y)\"),\n",
    "]\n",
    "\n",
    "show(p)"
   ]
  }
 ],
 "metadata": {
  "anaconda-cloud": {},
  "kernelspec": {
   "display_name": "Python [conda env:py36]",
   "language": "python",
   "name": "conda-env-py36-py"
  },
  "language_info": {
   "codemirror_mode": {
    "name": "ipython",
    "version": 3
   },
   "file_extension": ".py",
   "mimetype": "text/x-python",
   "name": "python",
   "nbconvert_exporter": "python",
   "pygments_lexer": "ipython3",
   "version": "3.6.3"
  }
 },
 "nbformat": 4,
 "nbformat_minor": 2
}
