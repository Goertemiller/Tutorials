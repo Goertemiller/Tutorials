{
 "cells": [
  {
   "cell_type": "code",
   "execution_count": 1,
   "metadata": {
    "nbpresent": {
     "id": "3c425729-3d82-4f73-82e7-d76fd6717378"
    }
   },
   "outputs": [],
   "source": [
    "# imports\n",
    "import bokeh\n",
    "from bokeh.io import output_notebook, show\n",
    "from bokeh.plotting import figure\n",
    "import pandas as pd\n",
    "# imports for figure tools\n",
    "from bokeh.models import (\n",
    "    ColumnDataSource,\n",
    "    HoverTool,\n",
    "    LogColorMapper,\n",
    "    CategoricalColorMapper\n",
    ")\n",
    "\n",
    "# imports for iris sample data set\n",
    "from sklearn.datasets import load_iris\n",
    "# load iris data into dataframe\n",
    "data = load_iris()\n",
    "df = pd.DataFrame(data.data, columns=data.feature_names)\n",
    "name_map = {0:'setosa',1:'versicolor',2:'virginica'}\n",
    "df['species']= [name_map[x] for x in data.target]\n"
   ]
  },
  {
   "cell_type": "markdown",
   "metadata": {
    "nbpresent": {
     "id": "90483900-8cf9-4426-86ee-282aab264f71"
    }
   },
   "source": [
    "<div class=\"alert alert-success\">\n",
    "</p>\n",
    "Bokeh is a python library developed to create interactive visualizations that can be easily integrated into the modern web browser. It does this by creating JSON input for BokehJS, which is a javascript plotting library. Bokeh can also be used with R, Scala, and Julia (but Julia binding are currently unmaintained). \n",
    "</p>\n",
    "<p>\n",
    "This tutorial uses a few different sources, but I think the following are particularly helpful.\n",
    "    <li>Instalation: https://bokeh.pydata.org/en/latest/docs/installation.html</li>\n",
    "    <li>User Guide: https://bokeh.pydata.org/en/latest/docs/user_guide.html </li>\n",
    "    <li>Examples: https://bokeh.pydata.org/en/latest/docs/gallery.html </li>\n",
    "</p>\n",
    "</div>"
   ]
  },
  {
   "cell_type": "markdown",
   "metadata": {
    "nbpresent": {
     "id": "b3bb54d6-2dc3-404d-9a5b-f7c9f110e3ce"
    }
   },
   "source": [
    "# Figures\n",
    "<p> If you were drawing a figure, the bokeh figure object would be the first thing you would put on the paper, the axes. A figure can exist without any data in it, however you cannot plot data without a figure. \n",
    "</p>"
   ]
  },
  {
   "cell_type": "code",
   "execution_count": 3,
   "metadata": {
    "nbpresent": {
     "id": "95afd284-858a-4dd4-838c-0084d5f649e8"
    }
   },
   "outputs": [
    {
     "name": "stderr",
     "output_type": "stream",
     "text": [
      "W-1001 (NO_DATA_RENDERERS): Plot has no data renderers: Figure(id='546820ae-1f7f-4e74-b90e-94f0632ecfd3', ...)\n",
      "W-1001 (NO_DATA_RENDERERS): Plot has no data renderers: Figure(id='68ca54ab-d9c9-4849-9273-63351d3107fd', ...)\n"
     ]
    }
   ],
   "source": [
    "# instansiate figure\n",
    "px_width = 400 # the number of pixels wide you want the figure\n",
    "px_height = 400 # the number of pixels high you want the figure\n",
    "tools = 'pan, box_zoom' # the type of tools you want the figure to have\n",
    "x_label = 'x-axis'\n",
    "y_label = 'y-axis'\n",
    "x_data_type = 'datetime'\n",
    "plot = figure(plot_width=px_width, plot_height=px_height, tools=tools, \n",
    "              x_axis_label= x_label, y_axis_label=y_label, x_axis_type = x_data_type)\n",
    "show(plot)"
   ]
  },
  {
   "cell_type": "markdown",
   "metadata": {
    "nbpresent": {
     "id": "256b55b8-dcf6-481c-be82-2eb6db9f0f7e"
    }
   },
   "source": [
    "# Glphys\n",
    "<p>\n",
    "    Glyphy objects are how data is displayed on a figure\n",
    "</p>"
   ]
  },
  {
   "cell_type": "code",
   "execution_count": 4,
   "metadata": {
    "nbpresent": {
     "id": "93b8bace-fcc6-469c-9820-ac77e5631218"
    }
   },
   "outputs": [
    {
     "name": "stderr",
     "output_type": "stream",
     "text": [
      "W-1001 (NO_DATA_RENDERERS): Plot has no data renderers: Figure(id='546820ae-1f7f-4e74-b90e-94f0632ecfd3', ...)\n"
     ]
    }
   ],
   "source": [
    "#add data to the figure\n",
    "x_values = [1,2,3,4,5]\n",
    "y_values = [8,3,2,7,1]\n",
    "# defines the size and color of each point\n",
    "sizes = [10,20,30,40,50] # the size of each point\n",
    "fill_color = 'teal' # solid color of each point\n",
    "# add circle markers to the figure\n",
    "plot.circle(x=x_values, y=y_values, size=sizes, fill_color=fill_color, alpha=0.8) # makes a scatter plot with circle markers of the x and y data\n",
    "show(plot) # pops up a tab in your browser of the plot"
   ]
  },
  {
   "cell_type": "code",
   "execution_count": 5,
   "metadata": {
    "nbpresent": {
     "id": "5c3f2a33-42d2-4d53-a316-65e33bb9411f"
    }
   },
   "outputs": [
    {
     "name": "stderr",
     "output_type": "stream",
     "text": [
      "W-1001 (NO_DATA_RENDERERS): Plot has no data renderers: Figure(id='546820ae-1f7f-4e74-b90e-94f0632ecfd3', ...)\n"
     ]
    }
   ],
   "source": [
    "# diamond markers\n",
    "plot.diamond(x=x_values, y=y_values, size=sizes, fill_color='red', alpha=0.8) # makes a scatter plot with circle markers of the x and y data\n",
    "show(plot) # pops up a tab in your browser of the plot\n"
   ]
  },
  {
   "cell_type": "markdown",
   "metadata": {
    "nbpresent": {
     "id": "c5d8ffa3-d3d3-4a27-aa63-20872c46e77e"
    }
   },
   "source": [
    "<div class=\"span5 alert alert-info\">\n",
    "Notice how the points overlap each other.  Bokeh is not making new figures with each call, it is just adding more points(glyphs) the initial figure.  If you want multiple figures, you need multiple figure objects.\n",
    "</div>"
   ]
  },
  {
   "cell_type": "markdown",
   "metadata": {
    "nbpresent": {
     "id": "a647f165-5737-488d-9754-9caec6f326cd"
    }
   },
   "source": [
    "#### Different built in markers (glyphs)\n",
    "<p>\n",
    "<li>asterisk()</li>\n",
    "<li>cirlce()</li>\n",
    "<li>circle_cross</li>\n",
    "<li>cross()</li>\n",
    "<li>diamond()</li>\n",
    "<li>diamond_cross()</li>\n",
    "<li>inverted_triangle()</li>\n",
    "<li>square()</li>\n",
    "<li>square_cross</li>\n",
    "<li>square_x</li>\n",
    "<li>triangle()</li>\n",
    "<li>x()</li>\n",
    "</p>\n",
    "\n",
    "#### Acceptable colors\n",
    "<p>\n",
    "<li> hexadecimal strings </li>\n",
    "<li>tuples of RGB values between 0 and 255</li>\n",
    "<li>any CSS color name</li>\n",
    "</p>\n"
   ]
  },
  {
   "cell_type": "markdown",
   "metadata": {
    "nbpresent": {
     "id": "9863c141-121d-4f38-a42b-3a208239ae0b"
    }
   },
   "source": [
    "#### Glphys with Pandas dataframes\n",
    "<p>\n",
    "    Bokeh integrates really well with Pandas dataframes.\n",
    "</p>\n",
    "<p>\n",
    "    A pandas series can be used for the x,y data points (it could also be used for the size)\n",
    "</p>"
   ]
  },
  {
   "cell_type": "code",
   "execution_count": 6,
   "metadata": {
    "nbpresent": {
     "id": "223fb0b1-eda1-4875-9b5b-e16b11adafd0"
    }
   },
   "outputs": [
    {
     "name": "stderr",
     "output_type": "stream",
     "text": [
      "W-1001 (NO_DATA_RENDERERS): Plot has no data renderers: Figure(id='546820ae-1f7f-4e74-b90e-94f0632ecfd3', ...)\n"
     ]
    }
   ],
   "source": [
    "# scatterplot of two dataframe columns\n",
    "fig = figure(plot_width=px_width, plot_height=px_height, tools=tools, \n",
    "              x_axis_label= 'Sepal width (cm)', y_axis_label='Sepal length (cm)')\n",
    "\n",
    "fig.circle(df['sepal length (cm)'], df['sepal width (cm)'], color= 'firebrick', size=15)\n",
    "show(fig)"
   ]
  },
  {
   "cell_type": "markdown",
   "metadata": {
    "nbpresent": {
     "id": "74a8c815-193d-4911-8397-f2fa740b55cd"
    }
   },
   "source": [
    "##### Below is an example of using a pandas series to color the points according to a categorical variable"
   ]
  },
  {
   "cell_type": "code",
   "execution_count": 7,
   "metadata": {
    "nbpresent": {
     "id": "b5e5aba9-f9d1-4b40-b4ca-4ba7f33aa777"
    }
   },
   "outputs": [
    {
     "name": "stderr",
     "output_type": "stream",
     "text": [
      "W-1001 (NO_DATA_RENDERERS): Plot has no data renderers: Figure(id='546820ae-1f7f-4e74-b90e-94f0632ecfd3', ...)\n"
     ]
    }
   ],
   "source": [
    "# scatterplot of two dataframe columns, with categorical colors\n",
    "fig = figure(plot_width=px_width, plot_height=px_height, tools=tools, \n",
    "              x_axis_label= 'Sepal width (cm)', y_axis_label='Sepal length (cm)')\n",
    "\n",
    "colormap = {'setosa': 'OliveDrab', 'versicolor': 'orchid', 'virginica': 'DarkTurquoise'}\n",
    "colors = [colormap[x] for x in df['species']]\n",
    "\n",
    "fig.diamond_cross(df['sepal length (cm)'], df['sepal width (cm)'], color= colors, size=15)\n",
    "show(fig)"
   ]
  },
  {
   "cell_type": "markdown",
   "metadata": {
    "nbpresent": {
     "id": "ac2448f3-3b45-401e-9f0a-edca07bb2853"
    }
   },
   "source": [
    "### Patches"
   ]
  },
  {
   "cell_type": "markdown",
   "metadata": {
    "nbpresent": {
     "id": "b2418ba4-5d1b-4bff-9e8b-6d749cc6eff3"
    }
   },
   "source": [
    "<p>\n",
    "    The patches glphy is used to represent irregular shapes. The following examples can be found in the bokeh documentation https://bokeh.pydata.org/en/latest/docs/user_guide/plotting.html \n",
    "</p>"
   ]
  },
  {
   "cell_type": "code",
   "execution_count": 8,
   "metadata": {
    "nbpresent": {
     "id": "e47d4b27-ed36-47e3-80e8-aa6d570b3f1e"
    }
   },
   "outputs": [
    {
     "name": "stderr",
     "output_type": "stream",
     "text": [
      "W-1001 (NO_DATA_RENDERERS): Plot has no data renderers: Figure(id='546820ae-1f7f-4e74-b90e-94f0632ecfd3', ...)\n"
     ]
    }
   ],
   "source": [
    "# instantiate figure\n",
    "p1 = figure(plot_width=500, plot_height=500)\n",
    "\n",
    "# define vertices\n",
    "x_values = [1, 3, 2]\n",
    "y_values = [2, 1, 4]\n",
    "\n",
    "# add a circle at the \n",
    "p1.circle(x_values, y_values, alpha=0.8, size = 8)\n",
    "\n",
    "# add a patch renderer with an alpha an line width\n",
    "p1.patch(x_values, y_values, alpha=0.5, line_width=2)\n",
    "\n",
    "show(p1)"
   ]
  },
  {
   "cell_type": "markdown",
   "metadata": {
    "nbpresent": {
     "id": "c0744354-6069-44b4-b4eb-a529b2498457"
    }
   },
   "source": [
    "##### Multiple patches\n",
    "<div class=\"span5 alert alert-info\">\n",
    "<p>\n",
    "    The above figure illustrates that the patch renderer takes the coordinates of a shape's vertices (x,y) and then draws a line that connects the vertices. A list of lists ([[x1],[x2]], [[y1],[y2]]) is used in order to draw multiple patches in the same figure.  As shown below (and in the documentation).\n",
    "\n",
    "</p>\n",
    "</div>"
   ]
  },
  {
   "cell_type": "code",
   "execution_count": 9,
   "metadata": {
    "nbpresent": {
     "id": "9ed11078-fc17-410f-af4c-975952239bc8"
    }
   },
   "outputs": [
    {
     "name": "stderr",
     "output_type": "stream",
     "text": [
      "W-1001 (NO_DATA_RENDERERS): Plot has no data renderers: Figure(id='546820ae-1f7f-4e74-b90e-94f0632ecfd3', ...)\n"
     ]
    }
   ],
   "source": [
    "# plot 2 geometric shapes\n",
    "p2 = figure(plot_width=700, plot_height=700)\n",
    "\n",
    "p2.patches([[1, 3, 2], [3, 4, 6, 6]], [[2, 1, 4], [4, 7, 8, 5]],\n",
    "          color=[\"green\", \"navy\"], alpha=[0.8, 0.3], line_width=2)\n",
    "show(p2)"
   ]
  },
  {
   "cell_type": "markdown",
   "metadata": {
    "nbpresent": {
     "id": "04126ac3-7f25-4c76-b69b-e92945ef8d7b"
    }
   },
   "source": [
    "# Column Data Source\n",
    "<p>\n",
    "    The column data source object is the fundamental data structure of Bokeh, and is how data gets processed into a glphy. Even when not explicitly called, like with the above plots, a column data source object is actually being created by Bokeh.\n",
    "</p>\n",
    "\n",
    "<p>\n",
    "    The data element in the column data source object needs to map the name of the data to the values.  So some acceptable forms of data are:\n",
    "    <li> dictionaires where the key:value pair is name:data </li>\n",
    "    <li> Panda dataframes where the column name is the name, and the values in the column are the data </li>\n",
    "</p>"
   ]
  },
  {
   "cell_type": "markdown",
   "metadata": {
    "nbpresent": {
     "id": "b46e2a01-66d4-4a01-ba82-dc709174deb8"
    }
   },
   "source": [
    "<div class=\"span5 alert alert-info\">\n",
    "Note: All columns in a ColumnDataSource object need to be the same length at all times\n",
    "</div>"
   ]
  },
  {
   "cell_type": "code",
   "execution_count": 10,
   "metadata": {
    "nbpresent": {
     "id": "029475d4-6790-48e6-9a87-27d627f8343c"
    }
   },
   "outputs": [],
   "source": [
    "# import\n",
    "from bokeh.models import ColumnDataSource"
   ]
  },
  {
   "cell_type": "code",
   "execution_count": 11,
   "metadata": {
    "nbpresent": {
     "id": "2cd0ceea-8dd2-4398-9ce0-6e07ad7eacc1"
    }
   },
   "outputs": [],
   "source": [
    "# data source object from Pandas dataframe\n",
    "data_source = ColumnDataSource(df)"
   ]
  },
  {
   "cell_type": "code",
   "execution_count": 12,
   "metadata": {
    "nbpresent": {
     "id": "69d8d40f-cb1e-4d5b-8a83-079c17acf00a"
    }
   },
   "outputs": [
    {
     "name": "stderr",
     "output_type": "stream",
     "text": [
      "W-1001 (NO_DATA_RENDERERS): Plot has no data renderers: Figure(id='546820ae-1f7f-4e74-b90e-94f0632ecfd3', ...)\n"
     ]
    }
   ],
   "source": [
    "p3 = figure(plot_width=400, plot_height=400)\n",
    "\n",
    "p3.circle(source=data_source, x='sepal length (cm)',y='sepal width (cm)', size=10)\n",
    "show(p3)\n"
   ]
  },
  {
   "cell_type": "markdown",
   "metadata": {
    "nbpresent": {
     "id": "88808cf2-00c1-41b1-a67f-16b01f6eec12"
    }
   },
   "source": [
    "##### Colormaping"
   ]
  },
  {
   "cell_type": "code",
   "execution_count": 13,
   "metadata": {
    "nbpresent": {
     "id": "03735292-7183-4bc0-b740-c7900cb1ee5c"
    }
   },
   "outputs": [],
   "source": [
    "color_mapper = CategoricalColorMapper(factors=['setosa','versicolor','virginica'], palette=['Cyan','DarkOrange','DeepPink'])"
   ]
  },
  {
   "cell_type": "code",
   "execution_count": 14,
   "metadata": {
    "nbpresent": {
     "id": "c4f63a46-55b7-4863-bef3-aa1d3ee51bbf"
    }
   },
   "outputs": [
    {
     "name": "stderr",
     "output_type": "stream",
     "text": [
      "W-1001 (NO_DATA_RENDERERS): Plot has no data renderers: Figure(id='546820ae-1f7f-4e74-b90e-94f0632ecfd3', ...)\n"
     ]
    }
   ],
   "source": [
    "p3.circle(source=data_source, x='sepal length (cm)',y='sepal width (cm)', size=10,\n",
    "         color=dict(field='species', transform=color_mapper))\n",
    "show(p3)"
   ]
  },
  {
   "cell_type": "markdown",
   "metadata": {
    "nbpresent": {
     "id": "1c5f7d72-9097-4d39-a729-8a43a1b87f4d"
    }
   },
   "source": [
    "# Layouts"
   ]
  },
  {
   "cell_type": "markdown",
   "metadata": {
    "nbpresent": {
     "id": "076edcf4-ea3c-4108-a8dc-e10b86ab5c6e"
    }
   },
   "source": [
    "##### multiple plots\n"
   ]
  },
  {
   "cell_type": "code",
   "execution_count": 15,
   "metadata": {
    "nbpresent": {
     "id": "18bac7cb-ba7e-47a3-9aab-5c64aa09ba6b"
    }
   },
   "outputs": [],
   "source": [
    "# imports\n",
    "from bokeh.layouts import (\n",
    "    row,\n",
    "    column,\n",
    "    gridplot,\n",
    "    layout\n",
    ")\n",
    "from bokeh.models.widgets import Tabs, Panel"
   ]
  },
  {
   "cell_type": "code",
   "execution_count": 16,
   "metadata": {
    "nbpresent": {
     "id": "b6d8d392-ed29-440e-9f93-553fffbda5c7"
    }
   },
   "outputs": [
    {
     "data": {
      "text/html": [
       "<div style=\"display: table;\"><div style=\"display: table-row;\"><div style=\"display: table-cell;\"><b title=\"bokeh.models.renderers.GlyphRenderer\">GlyphRenderer</b>(</div><div style=\"display: table-cell;\">id&nbsp;=&nbsp;'1f915226-0a27-474a-93a0-b1b05f243fcc', <span id=\"908e00af-9e58-46fc-a760-d1ca8132bfb5\" style=\"cursor: pointer;\">&hellip;)</span></div></div><div class=\"1329ddb3-a61a-478b-a685-985556e9ea06\" style=\"display: none;\"><div style=\"display: table-cell;\"></div><div style=\"display: table-cell;\">data_source&nbsp;=&nbsp;ColumnDataSource(id='b3c228c5-a7e9-4527-b872-cc6995a2e30e', ...),</div></div><div class=\"1329ddb3-a61a-478b-a685-985556e9ea06\" style=\"display: none;\"><div style=\"display: table-cell;\"></div><div style=\"display: table-cell;\">glyph&nbsp;=&nbsp;Circle(id='ea57b18e-1f6d-46bf-aa67-e81989068353', ...),</div></div><div class=\"1329ddb3-a61a-478b-a685-985556e9ea06\" style=\"display: none;\"><div style=\"display: table-cell;\"></div><div style=\"display: table-cell;\">hover_glyph&nbsp;=&nbsp;None,</div></div><div class=\"1329ddb3-a61a-478b-a685-985556e9ea06\" style=\"display: none;\"><div style=\"display: table-cell;\"></div><div style=\"display: table-cell;\">js_event_callbacks&nbsp;=&nbsp;{},</div></div><div class=\"1329ddb3-a61a-478b-a685-985556e9ea06\" style=\"display: none;\"><div style=\"display: table-cell;\"></div><div style=\"display: table-cell;\">js_property_callbacks&nbsp;=&nbsp;{},</div></div><div class=\"1329ddb3-a61a-478b-a685-985556e9ea06\" style=\"display: none;\"><div style=\"display: table-cell;\"></div><div style=\"display: table-cell;\">level&nbsp;=&nbsp;'glyph',</div></div><div class=\"1329ddb3-a61a-478b-a685-985556e9ea06\" style=\"display: none;\"><div style=\"display: table-cell;\"></div><div style=\"display: table-cell;\">muted&nbsp;=&nbsp;False,</div></div><div class=\"1329ddb3-a61a-478b-a685-985556e9ea06\" style=\"display: none;\"><div style=\"display: table-cell;\"></div><div style=\"display: table-cell;\">muted_glyph&nbsp;=&nbsp;None,</div></div><div class=\"1329ddb3-a61a-478b-a685-985556e9ea06\" style=\"display: none;\"><div style=\"display: table-cell;\"></div><div style=\"display: table-cell;\">name&nbsp;=&nbsp;None,</div></div><div class=\"1329ddb3-a61a-478b-a685-985556e9ea06\" style=\"display: none;\"><div style=\"display: table-cell;\"></div><div style=\"display: table-cell;\">nonselection_glyph&nbsp;=&nbsp;Circle(id='dd3c6d77-d8bf-4083-8a32-07852a431f4d', ...),</div></div><div class=\"1329ddb3-a61a-478b-a685-985556e9ea06\" style=\"display: none;\"><div style=\"display: table-cell;\"></div><div style=\"display: table-cell;\">selection_glyph&nbsp;=&nbsp;None,</div></div><div class=\"1329ddb3-a61a-478b-a685-985556e9ea06\" style=\"display: none;\"><div style=\"display: table-cell;\"></div><div style=\"display: table-cell;\">subscribed_events&nbsp;=&nbsp;[],</div></div><div class=\"1329ddb3-a61a-478b-a685-985556e9ea06\" style=\"display: none;\"><div style=\"display: table-cell;\"></div><div style=\"display: table-cell;\">tags&nbsp;=&nbsp;[],</div></div><div class=\"1329ddb3-a61a-478b-a685-985556e9ea06\" style=\"display: none;\"><div style=\"display: table-cell;\"></div><div style=\"display: table-cell;\">view&nbsp;=&nbsp;CDSView(id='d2edf8e3-2bd7-43ed-a5c4-3214694cd199', ...),</div></div><div class=\"1329ddb3-a61a-478b-a685-985556e9ea06\" style=\"display: none;\"><div style=\"display: table-cell;\"></div><div style=\"display: table-cell;\">visible&nbsp;=&nbsp;True,</div></div><div class=\"1329ddb3-a61a-478b-a685-985556e9ea06\" style=\"display: none;\"><div style=\"display: table-cell;\"></div><div style=\"display: table-cell;\">x_range_name&nbsp;=&nbsp;'default',</div></div><div class=\"1329ddb3-a61a-478b-a685-985556e9ea06\" style=\"display: none;\"><div style=\"display: table-cell;\"></div><div style=\"display: table-cell;\">y_range_name&nbsp;=&nbsp;'default')</div></div></div>\n",
       "<script>\n",
       "(function() {\n",
       "  var expanded = false;\n",
       "  var ellipsis = document.getElementById(\"908e00af-9e58-46fc-a760-d1ca8132bfb5\");\n",
       "  ellipsis.addEventListener(\"click\", function() {\n",
       "    var rows = document.getElementsByClassName(\"1329ddb3-a61a-478b-a685-985556e9ea06\");\n",
       "    for (var i = 0; i < rows.length; i++) {\n",
       "      var el = rows[i];\n",
       "      el.style.display = expanded ? \"none\" : \"table-row\";\n",
       "    }\n",
       "    ellipsis.innerHTML = expanded ? \"&hellip;)\" : \"&lsaquo;&lsaquo;&lsaquo;\";\n",
       "    expanded = !expanded;\n",
       "  });\n",
       "})();\n",
       "</script>\n"
      ],
      "text/plain": [
       "GlyphRenderer(id='1f915226-0a27-474a-93a0-b1b05f243fcc', ...)"
      ]
     },
     "execution_count": 16,
     "metadata": {},
     "output_type": "execute_result"
    }
   ],
   "source": [
    "# four figures\n",
    "p1 = figure(plot_width=400, plot_height=400, tools='box_select,lasso_select, pan,box_zoom,reset')\n",
    "p2 = figure(plot_width=400, plot_height=400, tools='box_select,lasso_select, pan,box_zoom,reset')\n",
    "p3 = figure(plot_width=400, plot_height=400, tools='box_select,lasso_select, pan,box_zoom,reset')\n",
    "p4 = figure(plot_width=400, plot_height=400, tools='box_select,lasso_select, pan,box_zoom,reset')\n",
    "# four different data glyphs\n",
    "p1.circle(source=data_source, x='sepal length (cm)',y='sepal width (cm)', size=10,\n",
    "         color=dict(field='species', transform=color_mapper))\n",
    "p2.circle(source=data_source, x='sepal length (cm)',y='petal length (cm)', size=10,\n",
    "         color=dict(field='species', transform=color_mapper))\n",
    "p3.circle(source=data_source, x='sepal length (cm)',y='petal width (cm)', size=10,\n",
    "         color=dict(field='species', transform=color_mapper))\n",
    "p4.circle(source=data_source, x='petal length (cm)',y='petal width (cm)', size=10,\n",
    "         color=dict(field='species', transform=color_mapper))"
   ]
  },
  {
   "cell_type": "markdown",
   "metadata": {
    "nbpresent": {
     "id": "27e07b0d-b61b-46f4-9058-5e4c9852c4e2"
    }
   },
   "source": [
    "##### Row layout (with lasso functionality)"
   ]
  },
  {
   "cell_type": "code",
   "execution_count": 17,
   "metadata": {
    "nbpresent": {
     "id": "ffca2f62-aba2-4fae-8423-7a567e117b4e"
    }
   },
   "outputs": [
    {
     "name": "stderr",
     "output_type": "stream",
     "text": [
      "W-1001 (NO_DATA_RENDERERS): Plot has no data renderers: Figure(id='546820ae-1f7f-4e74-b90e-94f0632ecfd3', ...)\n"
     ]
    }
   ],
   "source": [
    "# row of figures\n",
    "plot_rows = row(p1,p2,p3)\n",
    "show(plot_rows)"
   ]
  },
  {
   "cell_type": "markdown",
   "metadata": {
    "nbpresent": {
     "id": "66002082-b2dc-4b06-ae95-bf0f5abc7e66"
    }
   },
   "source": [
    "##### Column layout"
   ]
  },
  {
   "cell_type": "code",
   "execution_count": 18,
   "metadata": {
    "nbpresent": {
     "id": "5ac85367-55f6-4044-8faa-f435c180f943"
    }
   },
   "outputs": [
    {
     "name": "stderr",
     "output_type": "stream",
     "text": [
      "W-1001 (NO_DATA_RENDERERS): Plot has no data renderers: Figure(id='546820ae-1f7f-4e74-b90e-94f0632ecfd3', ...)\n"
     ]
    }
   ],
   "source": [
    "# column of figures\n",
    "plot_column = column(p1,p2,p3)\n",
    "show(plot_column)"
   ]
  },
  {
   "cell_type": "markdown",
   "metadata": {
    "nbpresent": {
     "id": "65c11d45-095e-49ba-b45d-49cba422ca35"
    }
   },
   "source": [
    "##### Rows of Columns and vice versa"
   ]
  },
  {
   "cell_type": "code",
   "execution_count": 19,
   "metadata": {
    "nbpresent": {
     "id": "7b79b674-5492-472f-aa69-a33e0012b2cd"
    }
   },
   "outputs": [],
   "source": [
    "#columns and rows of figures\n",
    "column_of_figs = column(p1,p2,p3)\n",
    "grid_plots = row(column_of_figs,p4)\n",
    "show(grid_plots)"
   ]
  },
  {
   "cell_type": "code",
   "execution_count": 20,
   "metadata": {
    "nbpresent": {
     "id": "d74c198e-cc6d-4c92-b44d-9f156c09fda4"
    }
   },
   "outputs": [],
   "source": [
    "#columns and rows of figures\n",
    "row_of_figs = row(p1,p2,p3)\n",
    "grid_plots = column(row_of_figs,p4)\n",
    "show(grid_plots)"
   ]
  },
  {
   "cell_type": "markdown",
   "metadata": {
    "nbpresent": {
     "id": "124d36f3-ea51-4972-88f1-1923aed150f8"
    }
   },
   "source": [
    "##### Gridplot"
   ]
  },
  {
   "cell_type": "code",
   "execution_count": 21,
   "metadata": {
    "nbpresent": {
     "id": "abb218cc-23de-4df2-9a89-332ac9b61e1d"
    }
   },
   "outputs": [],
   "source": [
    "grid = gridplot([[p1,p2,p3],[p4, None, None]])\n",
    "show(grid)"
   ]
  },
  {
   "cell_type": "code",
   "execution_count": 22,
   "metadata": {
    "nbpresent": {
     "id": "1cda873b-f1f8-48d3-8b2e-020885fbb8ee"
    }
   },
   "outputs": [],
   "source": [
    "grid= gridplot([p1,p2,p3,p4], ncols=2)\n",
    "show(grid)"
   ]
  },
  {
   "cell_type": "markdown",
   "metadata": {
    "nbpresent": {
     "id": "cfb55823-4cd4-4da3-b64b-9c616303de4f"
    }
   },
   "source": [
    "##### Tabbed Layouts\n",
    "<p>\n",
    "    Tabs contain Panel objects\n",
    "</p>"
   ]
  },
  {
   "cell_type": "code",
   "execution_count": 23,
   "metadata": {
    "nbpresent": {
     "id": "ebbbda6e-32e7-4b1b-ac74-a5a561c6daf2"
    }
   },
   "outputs": [],
   "source": [
    "# Create Panel with a title\n",
    "A = Panel(child=row(p1,p2,p3), title='A')\n",
    "B = Panel(child=row(p4), title='B')"
   ]
  },
  {
   "cell_type": "code",
   "execution_count": 24,
   "metadata": {
    "nbpresent": {
     "id": "1b4c8b5b-df91-44e6-86ff-acd5a20e3621"
    }
   },
   "outputs": [],
   "source": [
    "tabs = Tabs(tabs=[A,B])\n",
    "show(tabs)"
   ]
  },
  {
   "cell_type": "markdown",
   "metadata": {
    "nbpresent": {
     "id": "37441025-446c-4a80-b18f-0aaaa8af2bea"
    }
   },
   "source": [
    "##### General layouts with sizing mode"
   ]
  },
  {
   "cell_type": "code",
   "execution_count": 8,
   "metadata": {
    "nbpresent": {
     "id": "1f1ec803-1b94-4cad-afff-2831cebcf922"
    }
   },
   "outputs": [],
   "source": [
    "# stretchs plots to fill figure\n",
    "L1 = layout([\n",
    "    [p1,p2],\n",
    "    [p3],\n",
    "    [p4]],\n",
    "    sizing_mode = 'stretch_both')\n",
    "show(L1)"
   ]
  },
  {
   "cell_type": "code",
   "execution_count": 9,
   "metadata": {
    "nbpresent": {
     "id": "e77d138f-9275-4ef8-92a2-ea9c9e6cbecf"
    }
   },
   "outputs": [],
   "source": [
    "L2 = layout([\n",
    "    [p1,p2],\n",
    "    [p3],\n",
    "    [p4]],\n",
    "    sizing_mode = 'fixed')\n",
    "show(L2)"
   ]
  },
  {
   "cell_type": "markdown",
   "metadata": {
    "nbpresent": {
     "id": "ab1cd253-6255-4351-bb66-bdd29647b721"
    }
   },
   "source": [
    "#### Sizing_mode  possibilities\n",
    "<p>\n",
    "<li>'fixed'</li>\n",
    "<li>'scale_width'</li>\n",
    "<li>'scale_height'</li>\n",
    "<li>'scale_both'</li>\n",
    "<li>'stretch_both'</li>\n",
    "</p>"
   ]
  },
  {
   "cell_type": "markdown",
   "metadata": {
    "nbpresent": {
     "id": "f7a48e7e-8cd0-49f1-b24d-d88fb36c2cdc"
    }
   },
   "source": [
    "# Linking Plots"
   ]
  },
  {
   "cell_type": "markdown",
   "metadata": {
    "nbpresent": {
     "id": "174c5522-a3ab-4525-ab31-3055e5647e99"
    }
   },
   "source": [
    "##### Linked axes"
   ]
  },
  {
   "cell_type": "code",
   "execution_count": 10,
   "metadata": {
    "nbpresent": {
     "id": "0d6f3903-6031-4e19-9cae-fe44eecddee1"
    }
   },
   "outputs": [],
   "source": [
    "# link x-axes\n",
    "p1.x_range = p2.x_range = p3.x_range\n",
    "# link y-axes\n",
    "p1.y_range = p2.y_range = p3.y_range\n"
   ]
  },
  {
   "cell_type": "code",
   "execution_count": 11,
   "metadata": {
    "nbpresent": {
     "id": "9a8b6a42-6cba-442c-91e1-900ba64be8f1"
    }
   },
   "outputs": [],
   "source": [
    "#row of figures\n",
    "fig_row = row(p1,p2,p3)\n",
    "show(fig_row)"
   ]
  },
  {
   "cell_type": "markdown",
   "metadata": {
    "nbpresent": {
     "id": "7500f0a6-6c17-4597-ba83-d450a9e1839e"
    }
   },
   "source": [
    "##### Linked brushing\n",
    "<p>\n",
    "    Data needs to have a common data source\n",
    "</p>"
   ]
  },
  {
   "cell_type": "code",
   "execution_count": 17,
   "metadata": {
    "nbpresent": {
     "id": "4b414170-3ba1-4e8d-a134-ea173419de08"
    }
   },
   "outputs": [],
   "source": [
    "# row of figures\n",
    "plot_rows = row(p1,p2,p3,p4)\n",
    "show(plot_rows)"
   ]
  },
  {
   "cell_type": "markdown",
   "metadata": {
    "nbpresent": {
     "id": "13471527-77e8-41e7-b07f-4eb8a7e4c8f6"
    }
   },
   "source": [
    "# Labeling\n",
    "<p>\n",
    "    * Making a picture a figure"
   ]
  },
  {
   "cell_type": "code",
   "execution_count": 21,
   "metadata": {
    "nbpresent": {
     "id": "cd5d03b6-70da-414f-a58f-fd217376174a"
    }
   },
   "outputs": [],
   "source": [
    "# adding axes\n",
    "plot = figure(x_axis_label= \"X-axis\", y_axis_label='y-axis', title=\"Labeled Figure\")\n",
    "plot.circle(x=[1,2,3],y=[8,9,10])\n",
    "show(plot)"
   ]
  },
  {
   "cell_type": "markdown",
   "metadata": {
    "nbpresent": {
     "id": "f2dfefd9-aee3-4c24-93c6-043afaaf1a57"
    }
   },
   "source": [
    "##### modifing labels"
   ]
  },
  {
   "cell_type": "code",
   "execution_count": 26,
   "metadata": {
    "nbpresent": {
     "id": "8aa7a0b7-8efb-48fa-83b7-903db28fcc9a"
    }
   },
   "outputs": [],
   "source": [
    "# title\n",
    "plot.title.text_color = \"olive\"\n",
    "plot.title.text_font = \"helvetica\"\n",
    "plot.title.text_font_style = \"bold\" # or: normal, italic\n",
    "plot.title.text_font_size = '12pt' # or: '12px', '12em'\n",
    "plot.title.align = 'center' # or: left, right\n",
    "show(plot)"
   ]
  },
  {
   "cell_type": "markdown",
   "metadata": {
    "nbpresent": {
     "id": "aafbfa23-06d8-4a07-b819-4b8fce5f2066"
    }
   },
   "source": [
    "##### Legends"
   ]
  },
  {
   "cell_type": "code",
   "execution_count": 12,
   "metadata": {
    "nbpresent": {
     "id": "ad462836-6191-48ea-9667-8992e2bed1f9"
    }
   },
   "outputs": [],
   "source": [
    "p5 = figure()\n",
    "p5.circle(source=data_source, x='sepal length (cm)',y='sepal width (cm)', size=10,\n",
    "         color={'field':'species', 'transform' :color_mapper}, legend='species')\n",
    "show(p5)"
   ]
  },
  {
   "cell_type": "code",
   "execution_count": 13,
   "metadata": {
    "nbpresent": {
     "id": "9f0b8574-783c-4c9d-b222-e7d71465a107"
    }
   },
   "outputs": [],
   "source": [
    "# change location\n",
    "p5.legend.location = \"bottom_left\" # or: 'bottom_left', 'bottom_right', 'top_right'\n",
    "show(p5)"
   ]
  },
  {
   "cell_type": "markdown",
   "metadata": {
    "nbpresent": {
     "id": "40805c23-3e5f-4446-9230-1e69797d16b1"
    }
   },
   "source": [
    "##### Interactive legends from Bokeh's user guide (https://bokeh.pydata.org/en/latest/docs/user_guide/interaction/legends.html)"
   ]
  },
  {
   "cell_type": "code",
   "execution_count": 3,
   "metadata": {
    "nbpresent": {
     "id": "4a70ff30-6e89-4904-ae2e-095e4eca4bb7"
    }
   },
   "outputs": [],
   "source": [
    "# hiding data using the legend\n",
    "from bokeh.palettes import Spectral4\n",
    "from bokeh.sampledata.stocks import AAPL, IBM, MSFT, GOOG\n",
    "\n",
    "\n",
    "# make axis datetime\n",
    "p = figure(plot_width=800, plot_height=250, x_axis_type=\"datetime\")\n",
    "p.title.text = 'Click on legend entries to hide the corresponding lines'\n",
    "\n",
    "# makes glypy from a dataframe for each company\n",
    "for data, name, color in zip([AAPL, IBM, MSFT, GOOG], [\"AAPL\", \"IBM\", \"MSFT\", \"GOOG\"], Spectral4):\n",
    "    df = pd.DataFrame(data)\n",
    "    df['date'] = pd.to_datetime(df['date'])\n",
    "    p.line(df['date'], df['close'], line_width=2, color=color, alpha=0.8, legend=name)\n",
    "\n",
    "p.legend.location = \"top_left\"\n",
    "p.legend.click_policy=\"hide\"\n",
    "\n",
    "show(p)"
   ]
  },
  {
   "cell_type": "code",
   "execution_count": 6,
   "metadata": {
    "nbpresent": {
     "id": "109baf0c-f777-40b5-83d5-0bff63e4ceea"
    }
   },
   "outputs": [],
   "source": [
    "# muting the data using the legend\n",
    "p = figure(plot_width=800, plot_height=250, x_axis_type=\"datetime\")\n",
    "p.title.text = 'Click on legend entries to mute the corresponding lines'\n",
    "\n",
    "for data, name, color in zip([AAPL, IBM, MSFT, GOOG], [\"AAPL\", \"IBM\", \"MSFT\", \"GOOG\"], Spectral4):\n",
    "    df = pd.DataFrame(data)\n",
    "    df['date'] = pd.to_datetime(df['date'])\n",
    "    p.line(df['date'], df['close'], line_width=2, color=color, alpha=0.8,\n",
    "           muted_color=color, muted_alpha=0.2, legend=name)\n",
    "\n",
    "p.legend.location = \"top_left\"\n",
    "p.legend.click_policy=\"mute\"\n",
    "\n",
    "show(p)\n"
   ]
  },
  {
   "cell_type": "markdown",
   "metadata": {
    "nbpresent": {
     "id": "58f32f6b-37ec-4e3a-a47f-becfca5c29ba"
    }
   },
   "source": [
    "<div class=\"span5 alert alert-info\">\n",
    "    *Note: the above plots are not using the same datasource\n",
    "</div>\n"
   ]
  },
  {
   "cell_type": "markdown",
   "metadata": {
    "nbpresent": {
     "id": "67f0dfdb-4a13-4ab4-b3a8-355da97bfd26"
    }
   },
   "source": [
    "# User Interaction\n",
    "<p>\n",
    "    Bokeh has built-in tools, like box_select, lasso_select and hover, that allow users to dynamically interact with a plot.\n",
    "    Tool parameters are specified in the figure object.\n",
    "</p>\n",
    "\n",
    "<li> box_select: allows selected points to have unique properties </li>\n",
    "<li> lasso_select: allows selected points to have unique properties </li>\n",
    "<li> hover: displays unique properties or information when moused over </li>\n"
   ]
  },
  {
   "cell_type": "markdown",
   "metadata": {
    "nbpresent": {
     "id": "3bfb8fcd-b620-445c-a077-1f83f486c126"
    }
   },
   "source": [
    "##### box_select"
   ]
  },
  {
   "cell_type": "code",
   "execution_count": 17,
   "metadata": {
    "nbpresent": {
     "id": "4f794667-00ef-4561-b396-9e52bc1094c9"
    }
   },
   "outputs": [],
   "source": [
    "# Create a figure with the \"box_select\"\n",
    "p = figure(tools='box_select')\n",
    "\n",
    "# Add circle glyphs to the figure p with the selected and non-selected properties\n",
    "p.circle(source=data_source, x='sepal length (cm)',y='sepal width (cm)', size=10, selection_color='red', nonselection_alpha = 0.1)\n",
    "\n",
    "show(p)"
   ]
  },
  {
   "cell_type": "markdown",
   "metadata": {
    "nbpresent": {
     "id": "96ddfa37-0848-47ba-a352-56ebdb5cead9"
    }
   },
   "source": [
    "##### lasso_select"
   ]
  },
  {
   "cell_type": "code",
   "execution_count": null,
   "metadata": {
    "nbpresent": {
     "id": "fa56049f-2308-4cfe-a40a-0999b1ddc920"
    }
   },
   "outputs": [],
   "source": [
    "# Create a figure with the lasso_select\n",
    "p = figure(tools='lasso_select')\n",
    "\n",
    "# Add circle glyphs to the figure p with the selected and non-selected properties\n",
    "p.circle(source=data_source, x='sepal length (cm)',y='sepal width (cm)', size=10, selection_color='red', nonselection_alpha = 0.1)\n",
    "\n",
    "show(p)"
   ]
  },
  {
   "cell_type": "markdown",
   "metadata": {
    "nbpresent": {
     "id": "cbd07477-ef0a-4827-bc65-b5f5fbc2cd0e"
    }
   },
   "source": [
    "##### HoverTool"
   ]
  },
  {
   "cell_type": "code",
   "execution_count": 18,
   "metadata": {
    "nbpresent": {
     "id": "5b696b05-696f-4d3f-aa7a-1072d62af8b1"
    }
   },
   "outputs": [],
   "source": [
    "# import the HoverTool\n",
    "from bokeh.models import HoverTool\n",
    "\n",
    "# Instantiate hover object\n",
    "hover = HoverTool(tooltips=[('Species', '@species')])\n",
    "\n",
    "# make figure object with hover tool\n",
    "p = figure(tools=['pan',hover],plot_width=600, plot_height=600)\n",
    "\n",
    "# Add circle glyphs to figure p with hover parameters\n",
    "p.circle(source=data_source, x='sepal length (cm)',y='sepal width (cm)', size=10,\n",
    "         fill_color= 'black', alpha=0.5, line_color= None, hover_fill_color= 'firebrick',\n",
    "         hover_alpha= 0.5, hover_line_color='white')\n",
    "show(p)\n"
   ]
  },
  {
   "cell_type": "code",
   "execution_count": 19,
   "metadata": {
    "nbpresent": {
     "id": "f99309f9-88c2-4401-944b-9dc4f7b9228d"
    }
   },
   "outputs": [],
   "source": [
    "# add tools on the fly\n",
    "\n",
    "p = figure(tools='lasso_select')\n",
    "\n",
    "\n",
    "# Add circle glyphs to the figure p with the selected and non-selected properties\n",
    "p.circle(source=data_source, x='sepal length (cm)',y='sepal width (cm)', size=10, selection_color='red', nonselection_alpha = 0.1)\n",
    "\n",
    "# Instantiate hover object\n",
    "hover = HoverTool(tooltips=[('Species', '@species')])\n",
    "p.add_tools(hover)\n",
    "show(p)"
   ]
  },
  {
   "cell_type": "markdown",
   "metadata": {
    "nbpresent": {
     "id": "355b264f-6241-456e-8c74-5baffce6b930"
    }
   },
   "source": [
    "#### Hover Parameters\n",
    "|modes|point_policy|\n",
    "| --- | --- |\n",
    "| mouse | snap_to_data |\n",
    "| hline | follow_mouse |\n",
    "| vline | none |\n",
    "\n",
    "#### Glyphs not compatible with hover\n",
    "\n",
    "|             |            |           |           |           |           \n",
    "|-------------|------------|-----------|-----------|-----------|-----------\n",
    "| <li>image</li>|<li>annulus</li>|<li>arc</li>| <li>bezier</li> | <li>image_rgba</li> | \n",
    "|<li>image_url</li>| <li>oval</li> | <li>patch</li> | <li>quadratic</li> |<li>ray</li>|\n",
    "\n"
   ]
  },
  {
   "cell_type": "code",
   "execution_count": null,
   "metadata": {
    "nbpresent": {
     "id": "19899997-fd57-4c06-91a2-7061ecb86b02"
    }
   },
   "outputs": [],
   "source": []
  },
  {
   "cell_type": "markdown",
   "metadata": {
    "nbpresent": {
     "id": "d05e2e9e-aab9-4d1c-b730-0e9c8bafc679"
    }
   },
   "source": [
    "#### Example of interactive figure using patches\n",
    "<p>\n",
    "    The bokeh gallery (https://bokeh.pydata.org/en/latest/docs/gallery.html) has some great examples of how to use patches, including GIS based figures.  Below is one such example (with some modifications). This plot has a lot of setup that will be addressed in other sections of the notebook.\n",
    "</p>"
   ]
  },
  {
   "cell_type": "code",
   "execution_count": null,
   "metadata": {
    "nbpresent": {
     "id": "708907b1-3498-4c9c-b449-8aabab288ce0"
    }
   },
   "outputs": [],
   "source": [
    "\n",
    "# import for color palette\n",
    "from bokeh.palettes import Viridis6 as palette\n",
    "# imports for sample data\n",
    "from bokeh.sampledata.us_counties import data as counties\n",
    "from bokeh.sampledata.unemployment import data as unemployment\n",
    "\n",
    "palette.reverse()\n",
    "# create dictionary with the code number and name for each county in colorado\n",
    "counties = {\n",
    "    code: county for code, county in counties.items() if county[\"state\"] == \"co\"\n",
    "}\n",
    "\n",
    "# extract the longitude(lons) and latitude(lats) for each county in the dictionary\n",
    "\n",
    "county_xs = [county[\"lons\"] for county in counties.values()]\n",
    "county_ys = [county[\"lats\"] for county in counties.values()]\n",
    "\n",
    "# extract the name of each county\n",
    "county_names = [county['name'] for county in counties.values()]\n",
    "# extract the unemployment rate for each county\n",
    "county_rates = [unemployment[county_id] for county_id in counties]\n",
    "# create color mapper object with Viridis6 palette\n",
    "color_mapper = LogColorMapper(palette=palette)\n",
    "\n",
    "# create columndatasource object with data lists\n",
    "source = ColumnDataSource(data=dict(\n",
    "    x=county_xs,\n",
    "    y=county_ys,\n",
    "    name=county_names,\n",
    "    rate=county_rates,\n",
    "))\n",
    "\n",
    "TOOLS = \"pan,wheel_zoom,reset,hover,save\"\n",
    "# instantiate figure\n",
    "p = figure(\n",
    "    title=\"Colorado Unemployment, 2009\", tools=TOOLS,\n",
    "    x_axis_location=None, y_axis_location=None\n",
    ")\n",
    "p.grid.grid_line_color = None\n",
    "# add patch glyphs\n",
    "p.patches('x', 'y', source=source,\n",
    "          fill_color={'field': 'rate', 'transform': color_mapper},\n",
    "          fill_alpha=0.7, line_color=\"white\", line_width=0.5)\n",
    "# add hover tool\n",
    "hover = p.select_one(HoverTool)\n",
    "hover.point_policy = \"follow_mouse\"\n",
    "hover.tooltips = [\n",
    "    (\"Name\", \"@name\"),\n",
    "    (\"Unemployment rate)\", \"@rate%\"),\n",
    "    (\"(Long, Lat)\", \"($x, $y)\"),\n",
    "]\n",
    "\n",
    "show(p)"
   ]
  },
  {
   "cell_type": "markdown",
   "metadata": {
    "nbpresent": {
     "id": "fc34f5a0-c0ca-4034-bf57-8c34420b992f"
    }
   },
   "source": [
    "# These are just the basics.  If you know what your plot should look like, browse the Bokeh gallery to find a good starting point."
   ]
  },
  {
   "cell_type": "code",
   "execution_count": null,
   "metadata": {
    "nbpresent": {
     "id": "8c8cef5f-c496-4635-a875-e9748771c74b"
    }
   },
   "outputs": [],
   "source": []
  }
 ],
 "metadata": {
  "anaconda-cloud": {},
  "kernelspec": {
   "display_name": "Python [conda env:py36]",
   "language": "python",
   "name": "conda-env-py36-py"
  },
  "language_info": {
   "codemirror_mode": {
    "name": "ipython",
    "version": 3
   },
   "file_extension": ".py",
   "mimetype": "text/x-python",
   "name": "python",
   "nbconvert_exporter": "python",
   "pygments_lexer": "ipython3",
   "version": "3.6.3"
  },
  "nbpresent": {
   "slides": {
    "0214bda6-4c68-473d-ad05-c6778eef3096": {
     "id": "0214bda6-4c68-473d-ad05-c6778eef3096",
     "prev": "1aec26cb-f6ac-410c-908c-da32bf27d04e",
     "regions": {
      "09e5b022-5174-435e-987f-c8bdee5fc897": {
       "attrs": {
        "height": 0.8,
        "width": 0.8,
        "x": 0.1,
        "y": 0.1
       },
       "content": {
        "cell": "f2dfefd9-aee3-4c24-93c6-043afaaf1a57",
        "part": "whole"
       },
       "id": "09e5b022-5174-435e-987f-c8bdee5fc897"
      }
     }
    },
    "07c551f2-9873-47d3-aca1-175742881ec5": {
     "id": "07c551f2-9873-47d3-aca1-175742881ec5",
     "prev": "947049b9-ae5e-4cdc-9da0-6b43a589e300",
     "regions": {
      "6d18df17-c7c2-4cfb-ba8e-f29485c953df": {
       "attrs": {
        "height": 0.8,
        "width": 0.8,
        "x": 0.1,
        "y": 0.1
       },
       "content": {
        "cell": "d74c198e-cc6d-4c92-b44d-9f156c09fda4",
        "part": "whole"
       },
       "id": "6d18df17-c7c2-4cfb-ba8e-f29485c953df"
      }
     }
    },
    "0b251898-3275-4563-b685-c125c78c09b4": {
     "id": "0b251898-3275-4563-b685-c125c78c09b4",
     "prev": "ab1c0b2d-3fb4-430c-9c29-875e2821f5ce",
     "regions": {
      "b75dd80d-72b7-495b-abd9-6201a9fd5263": {
       "attrs": {
        "height": 0.8,
        "width": 0.8,
        "x": 0.1,
        "y": 0.1
       },
       "content": {
        "cell": "ebbbda6e-32e7-4b1b-ac74-a5a561c6daf2",
        "part": "whole"
       },
       "id": "b75dd80d-72b7-495b-abd9-6201a9fd5263"
      }
     }
    },
    "18a55b63-4859-4122-be5f-08c9be7f5b8e": {
     "id": "18a55b63-4859-4122-be5f-08c9be7f5b8e",
     "prev": "455e6dd8-d77b-4d3e-90c3-3eca230a7701",
     "regions": {
      "25516bca-52b3-444a-9f4f-15762844ba7e": {
       "attrs": {
        "height": 0.8,
        "width": 0.8,
        "x": 0.1,
        "y": 0.1
       },
       "content": {
        "cell": "c0744354-6069-44b4-b4eb-a529b2498457",
        "part": "whole"
       },
       "id": "25516bca-52b3-444a-9f4f-15762844ba7e"
      }
     }
    },
    "19ad1885-aaba-4995-bea8-2d0d73c64417": {
     "id": "19ad1885-aaba-4995-bea8-2d0d73c64417",
     "prev": "4b924a0b-ab81-4ae1-a61e-256dc755100b",
     "regions": {
      "19328043-1262-4401-b409-e89f290be7b9": {
       "attrs": {
        "height": 0.8,
        "width": 0.8,
        "x": 0.1,
        "y": 0.1
       },
       "content": {
        "cell": "708907b1-3498-4c9c-b449-8aabab288ce0",
        "part": "whole"
       },
       "id": "19328043-1262-4401-b409-e89f290be7b9"
      }
     }
    },
    "1a570f23-c7f4-49f2-a0c0-b44c7a29c947": {
     "id": "1a570f23-c7f4-49f2-a0c0-b44c7a29c947",
     "prev": "21d2a50d-6fa1-4d8a-b3d1-824ac70c6d8e",
     "regions": {
      "33b83fe9-7ccd-4a8a-9493-8e939a8c32bd": {
       "attrs": {
        "height": 0.8,
        "width": 0.8,
        "x": 0.1,
        "y": 0.1
       },
       "content": {
        "cell": "7500f0a6-6c17-4597-ba83-d450a9e1839e",
        "part": "whole"
       },
       "id": "33b83fe9-7ccd-4a8a-9493-8e939a8c32bd"
      }
     }
    },
    "1aec26cb-f6ac-410c-908c-da32bf27d04e": {
     "id": "1aec26cb-f6ac-410c-908c-da32bf27d04e",
     "prev": "b92da0c2-e062-4de0-a4c1-c85029133317",
     "regions": {
      "92e07b2e-3da0-4900-a0ec-36382c484134": {
       "attrs": {
        "height": 0.8,
        "width": 0.8,
        "x": 0.1,
        "y": 0.1
       },
       "content": {
        "cell": "cd5d03b6-70da-414f-a58f-fd217376174a",
        "part": "whole"
       },
       "id": "92e07b2e-3da0-4900-a0ec-36382c484134"
      }
     }
    },
    "21d2a50d-6fa1-4d8a-b3d1-824ac70c6d8e": {
     "id": "21d2a50d-6fa1-4d8a-b3d1-824ac70c6d8e",
     "prev": "d40237c7-3f9a-4fc8-9aee-64715d10605a",
     "regions": {
      "2d729bf2-db5d-4037-942e-7cec4281ba9b": {
       "attrs": {
        "height": 0.8,
        "width": 0.8,
        "x": 0.1,
        "y": 0.1
       },
       "content": {
        "cell": "9a8b6a42-6cba-442c-91e1-900ba64be8f1",
        "part": "whole"
       },
       "id": "2d729bf2-db5d-4037-942e-7cec4281ba9b"
      }
     }
    },
    "25675b26-f9d6-4dbe-bd3e-0a3935a8d383": {
     "id": "25675b26-f9d6-4dbe-bd3e-0a3935a8d383",
     "prev": "9f58908e-55e1-4f4c-b550-f1fbfa2b8e47",
     "regions": {
      "d6848f3e-47a4-47e8-b2ac-860d6c4c421a": {
       "attrs": {
        "height": 0.8,
        "width": 0.8,
        "x": 0.1,
        "y": 0.1
       },
       "content": {
        "cell": "67f0dfdb-4a13-4ab4-b3a8-355da97bfd26",
        "part": "whole"
       },
       "id": "d6848f3e-47a4-47e8-b2ac-860d6c4c421a"
      }
     }
    },
    "25ae68f7-e652-45de-857c-999257f5cb3f": {
     "id": "25ae68f7-e652-45de-857c-999257f5cb3f",
     "prev": "5269d2ef-b78c-4a4a-a4d8-27638165bbaa",
     "regions": {
      "5bb67bdf-3474-4967-8cc3-8062c5b46b83": {
       "attrs": {
        "height": 0.8,
        "width": 0.8,
        "x": 0.1,
        "y": 0.1
       },
       "content": {
        "cell": "5b696b05-696f-4d3f-aa7a-1072d62af8b1",
        "part": "whole"
       },
       "id": "5bb67bdf-3474-4967-8cc3-8062c5b46b83"
      }
     }
    },
    "273ec5f5-d571-4c08-8a57-c2db2b4ebd32": {
     "id": "273ec5f5-d571-4c08-8a57-c2db2b4ebd32",
     "prev": "a9d32189-7b93-4cf6-9c43-2802da8886b1",
     "regions": {
      "f31d5a69-8671-482e-88b2-186c27fde2f9": {
       "attrs": {
        "height": 0.8,
        "width": 0.8,
        "x": 0.1,
        "y": 0.1
       },
       "content": {
        "cell": "8c8cef5f-c496-4635-a875-e9748771c74b",
        "part": "whole"
       },
       "id": "f31d5a69-8671-482e-88b2-186c27fde2f9"
      }
     }
    },
    "2852da27-ffa6-4ddb-9cc2-3fe0c86e8452": {
     "id": "2852da27-ffa6-4ddb-9cc2-3fe0c86e8452",
     "prev": "2b827493-bd69-49d8-bbcf-effc1a4f4ed4",
     "regions": {
      "2dd0e12b-8a5e-49ab-9a3d-1afd2666ee6a": {
       "attrs": {
        "height": 0.8,
        "width": 0.8,
        "x": 0.1,
        "y": 0.1
       },
       "content": {
        "cell": "96ddfa37-0848-47ba-a352-56ebdb5cead9",
        "part": "whole"
       },
       "id": "2dd0e12b-8a5e-49ab-9a3d-1afd2666ee6a"
      }
     }
    },
    "2b827493-bd69-49d8-bbcf-effc1a4f4ed4": {
     "id": "2b827493-bd69-49d8-bbcf-effc1a4f4ed4",
     "prev": "e6d65ef7-28e3-4cef-8c70-1d5c1e8b8607",
     "regions": {
      "2ae00d75-4c1e-49da-a265-55711e912567": {
       "attrs": {
        "height": 0.8,
        "width": 0.8,
        "x": 0.1,
        "y": 0.1
       },
       "content": {
        "cell": "4f794667-00ef-4561-b396-9e52bc1094c9",
        "part": "whole"
       },
       "id": "2ae00d75-4c1e-49da-a265-55711e912567"
      }
     }
    },
    "2e61438b-6ec0-4a92-8c48-f2518a9add6c": {
     "id": "2e61438b-6ec0-4a92-8c48-f2518a9add6c",
     "prev": "e78e9844-20ab-4868-ad5c-1a41fabe0994",
     "regions": {
      "67d3552f-3304-4309-975a-1e27513f6756": {
       "attrs": {
        "height": 0.8,
        "width": 0.8,
        "x": 0.1,
        "y": 0.1
       },
       "content": {
        "cell": "a647f165-5737-488d-9754-9caec6f326cd",
        "part": "whole"
       },
       "id": "67d3552f-3304-4309-975a-1e27513f6756"
      }
     }
    },
    "32520177-ffe6-42ce-9354-78c86afd2cf1": {
     "id": "32520177-ffe6-42ce-9354-78c86afd2cf1",
     "prev": "d0d5986d-76e8-4af7-bf8c-791e3d7f0742",
     "regions": {
      "ce651bf0-c6e3-4f6b-9581-cf015313650e": {
       "attrs": {
        "height": 0.8,
        "width": 0.8,
        "x": 0.1,
        "y": 0.1
       },
       "content": {
        "cell": "1cda873b-f1f8-48d3-8b2e-020885fbb8ee",
        "part": "whole"
       },
       "id": "ce651bf0-c6e3-4f6b-9581-cf015313650e"
      }
     }
    },
    "3447b5f9-6fb1-4487-963f-bd0d10e69e0d": {
     "id": "3447b5f9-6fb1-4487-963f-bd0d10e69e0d",
     "prev": "5927d167-ee8d-4853-b2d5-a106ae8a287e",
     "regions": {
      "0eef103c-a0b6-49c5-8ae6-fd857db7f932": {
       "attrs": {
        "height": 0.8,
        "width": 0.8,
        "x": 0.1,
        "y": 0.1
       },
       "content": {
        "cell": "40805c23-3e5f-4446-9230-1e69797d16b1",
        "part": "whole"
       },
       "id": "0eef103c-a0b6-49c5-8ae6-fd857db7f932"
      }
     }
    },
    "356dad10-e188-4aa3-a3b6-8d8ca4a6f17b": {
     "id": "356dad10-e188-4aa3-a3b6-8d8ca4a6f17b",
     "prev": "8b7beaa0-d845-412e-ad00-8b2dfd3863a7",
     "regions": {
      "75060d5f-7d35-48d3-abe3-eaaec64de70a": {
       "attrs": {
        "height": 0.8,
        "width": 0.8,
        "x": 0.1,
        "y": 0.1
       },
       "content": {
        "cell": "18bac7cb-ba7e-47a3-9aab-5c64aa09ba6b",
        "part": "whole"
       },
       "id": "75060d5f-7d35-48d3-abe3-eaaec64de70a"
      }
     }
    },
    "37da5cfb-524a-43b1-94f0-f4472325c1a2": {
     "id": "37da5cfb-524a-43b1-94f0-f4472325c1a2",
     "prev": "98402b06-d29f-49b1-8394-9c9cbe3105ee",
     "regions": {
      "991e8e4d-6bbc-4e2d-b4ca-df3ff33e0791": {
       "attrs": {
        "height": 0.8,
        "width": 0.8,
        "x": 0.1,
        "y": 0.1
       },
       "content": {
        "cell": "1c5f7d72-9097-4d39-a729-8a43a1b87f4d",
        "part": "whole"
       },
       "id": "991e8e4d-6bbc-4e2d-b4ca-df3ff33e0791"
      }
     }
    },
    "38818a82-829f-4e7e-b2b4-bd0b660b798d": {
     "id": "38818a82-829f-4e7e-b2b4-bd0b660b798d",
     "prev": "bb04d04f-a51d-4e68-9698-1bb5c79d10d7",
     "regions": {
      "a6c15312-4103-4a44-afc5-fd0c8115a39d": {
       "attrs": {
        "height": 0.8,
        "width": 0.8,
        "x": 0.1,
        "y": 0.1
       },
       "content": {
        "cell": "b2418ba4-5d1b-4bff-9e8b-6d749cc6eff3",
        "part": "whole"
       },
       "id": "a6c15312-4103-4a44-afc5-fd0c8115a39d"
      }
     }
    },
    "39592090-bb1c-4529-9ab5-29793c2786b2": {
     "id": "39592090-bb1c-4529-9ab5-29793c2786b2",
     "prev": "9eb4339a-708b-4a8f-bcc1-37bcb13384fc",
     "regions": {
      "167e2792-1e23-4853-91e7-662e62cd7c05": {
       "attrs": {
        "height": 0.8,
        "width": 0.8,
        "x": 0.1,
        "y": 0.1
       },
       "content": {
        "cell": "5ac85367-55f6-4044-8faa-f435c180f943",
        "part": "whole"
       },
       "id": "167e2792-1e23-4853-91e7-662e62cd7c05"
      }
     }
    },
    "3a1a4fc3-5b76-4143-85d1-7ac9dc370835": {
     "id": "3a1a4fc3-5b76-4143-85d1-7ac9dc370835",
     "prev": "e41609fa-fe40-480f-b9da-6b98d2111645",
     "regions": {
      "bb8b3c5d-9679-4138-ba7a-5714d07f4d5a": {
       "attrs": {
        "height": 0.8,
        "width": 0.8,
        "x": 0.1,
        "y": 0.1
       },
       "content": {
        "cell": "223fb0b1-eda1-4875-9b5b-e16b11adafd0",
        "part": "whole"
       },
       "id": "bb8b3c5d-9679-4138-ba7a-5714d07f4d5a"
      }
     }
    },
    "3b1f1cf5-0af3-401c-8bab-cb02277b2142": {
     "id": "3b1f1cf5-0af3-401c-8bab-cb02277b2142",
     "prev": "a0add1a7-d2ce-436e-b875-dd68e2c60b91",
     "regions": {
      "3ac5450d-b431-4ae4-ad48-4afd8f8b879f": {
       "attrs": {
        "height": 0.8,
        "width": 0.8,
        "x": 0.1,
        "y": 0.1
       },
       "content": {
        "cell": "93b8bace-fcc6-469c-9820-ac77e5631218",
        "part": "whole"
       },
       "id": "3ac5450d-b431-4ae4-ad48-4afd8f8b879f"
      }
     }
    },
    "3d7c8c6b-9687-4e00-93b0-7f8d9d2d94f6": {
     "id": "3d7c8c6b-9687-4e00-93b0-7f8d9d2d94f6",
     "prev": "3a1a4fc3-5b76-4143-85d1-7ac9dc370835",
     "regions": {
      "99e58c34-0669-4e18-87cc-ea4c697c14b6": {
       "attrs": {
        "height": 0.8,
        "width": 0.8,
        "x": 0.1,
        "y": 0.1
       },
       "content": {
        "cell": "74a8c815-193d-4911-8397-f2fa740b55cd",
        "part": "whole"
       },
       "id": "99e58c34-0669-4e18-87cc-ea4c697c14b6"
      }
     }
    },
    "455e6dd8-d77b-4d3e-90c3-3eca230a7701": {
     "id": "455e6dd8-d77b-4d3e-90c3-3eca230a7701",
     "prev": "38818a82-829f-4e7e-b2b4-bd0b660b798d",
     "regions": {
      "1423e2d4-8b0d-4e80-a4f4-9d664b3265f9": {
       "attrs": {
        "height": 0.8,
        "width": 0.8,
        "x": 0.1,
        "y": 0.1
       },
       "content": {
        "cell": "e47d4b27-ed36-47e3-80e8-aa6d570b3f1e",
        "part": "whole"
       },
       "id": "1423e2d4-8b0d-4e80-a4f4-9d664b3265f9"
      }
     }
    },
    "4b5799ca-4474-497e-8204-fef59a77b044": {
     "id": "4b5799ca-4474-497e-8204-fef59a77b044",
     "prev": "3b1f1cf5-0af3-401c-8bab-cb02277b2142",
     "regions": {
      "2dc40ee3-1228-4029-a6aa-13eafd668062": {
       "attrs": {
        "height": 0.8,
        "width": 0.8,
        "x": 0.1,
        "y": 0.1
       },
       "content": {
        "cell": "5c3f2a33-42d2-4d53-a316-65e33bb9411f",
        "part": "whole"
       },
       "id": "2dc40ee3-1228-4029-a6aa-13eafd668062"
      }
     }
    },
    "4b924a0b-ab81-4ae1-a61e-256dc755100b": {
     "id": "4b924a0b-ab81-4ae1-a61e-256dc755100b",
     "prev": "d576e681-630c-47d0-990b-13a906c6e81b",
     "regions": {
      "ed0548cc-8e2b-4d62-be3a-2afbe91020d7": {
       "attrs": {
        "height": 0.8,
        "width": 0.8,
        "x": 0.1,
        "y": 0.1
       },
       "content": {
        "cell": "d05e2e9e-aab9-4d1c-b730-0e9c8bafc679",
        "part": "whole"
       },
       "id": "ed0548cc-8e2b-4d62-be3a-2afbe91020d7"
      }
     }
    },
    "50f5bf81-0a6c-4fa3-b0f3-31401f9af87c": {
     "id": "50f5bf81-0a6c-4fa3-b0f3-31401f9af87c",
     "prev": "39592090-bb1c-4529-9ab5-29793c2786b2",
     "regions": {
      "61a871b7-ad3d-4d4b-9a3b-4810b1df4002": {
       "attrs": {
        "height": 0.8,
        "width": 0.8,
        "x": 0.1,
        "y": 0.1
       },
       "content": {
        "cell": "65c11d45-095e-49ba-b45d-49cba422ca35",
        "part": "whole"
       },
       "id": "61a871b7-ad3d-4d4b-9a3b-4810b1df4002"
      }
     }
    },
    "5269d2ef-b78c-4a4a-a4d8-27638165bbaa": {
     "id": "5269d2ef-b78c-4a4a-a4d8-27638165bbaa",
     "prev": "8caa8fb3-843b-47f7-a9c8-c8c097fa285d",
     "regions": {
      "d2653ff6-fad3-45bc-8dac-2784fe335b04": {
       "attrs": {
        "height": 0.8,
        "width": 0.8,
        "x": 0.1,
        "y": 0.1
       },
       "content": {
        "cell": "cbd07477-ef0a-4827-bc65-b5f5fbc2cd0e",
        "part": "whole"
       },
       "id": "d2653ff6-fad3-45bc-8dac-2784fe335b04"
      }
     }
    },
    "56bdbe49-72a0-4b00-91b0-f7b51c367bef": {
     "id": "56bdbe49-72a0-4b00-91b0-f7b51c367bef",
     "prev": "eb57d246-6e94-482b-bcf2-ab3bce094bd8",
     "regions": {
      "d3f822b7-351f-4233-936d-3e3184d2d219": {
       "attrs": {
        "height": 0.8,
        "width": 0.8,
        "x": 0.1,
        "y": 0.1
       },
       "content": {
        "cell": "04126ac3-7f25-4c76-b69b-e92945ef8d7b",
        "part": "whole"
       },
       "id": "d3f822b7-351f-4233-936d-3e3184d2d219"
      }
     }
    },
    "5927d167-ee8d-4853-b2d5-a106ae8a287e": {
     "id": "5927d167-ee8d-4853-b2d5-a106ae8a287e",
     "prev": "c7bec15f-a52f-4856-823f-1a79454bfa41",
     "regions": {
      "3149a5e6-f32c-4b51-ae62-1b6d4f52b695": {
       "attrs": {
        "height": 0.8,
        "width": 0.8,
        "x": 0.1,
        "y": 0.1
       },
       "content": {
        "cell": "9f0b8574-783c-4c9d-b222-e7d71465a107",
        "part": "whole"
       },
       "id": "3149a5e6-f32c-4b51-ae62-1b6d4f52b695"
      }
     }
    },
    "6575958e-b093-47b0-87d9-25983297b0c1": {
     "id": "6575958e-b093-47b0-87d9-25983297b0c1",
     "prev": "81597aae-8c79-4d2f-8d84-1e5927ac074a",
     "regions": {
      "37b0b496-02c1-4ac1-a580-cfb6104309cd": {
       "attrs": {
        "height": 0.8,
        "width": 0.8,
        "x": 0.1,
        "y": 0.1
       },
       "content": {
        "cell": "2cd0ceea-8dd2-4398-9ce0-6e07ad7eacc1",
        "part": "whole"
       },
       "id": "37b0b496-02c1-4ac1-a580-cfb6104309cd"
      }
     }
    },
    "6a4917db-1a07-4899-8a7e-7e9730f35dcd": {
     "id": "6a4917db-1a07-4899-8a7e-7e9730f35dcd",
     "prev": "0b251898-3275-4563-b685-c125c78c09b4",
     "regions": {
      "5fd7ff55-9eec-455d-b67e-5102e0331509": {
       "attrs": {
        "height": 0.8,
        "width": 0.8,
        "x": 0.1,
        "y": 0.1
       },
       "content": {
        "cell": "1b4c8b5b-df91-44e6-86ff-acd5a20e3621",
        "part": "whole"
       },
       "id": "5fd7ff55-9eec-455d-b67e-5102e0331509"
      }
     }
    },
    "70defef6-7cd6-43c6-8119-5c49f3178cf6": {
     "id": "70defef6-7cd6-43c6-8119-5c49f3178cf6",
     "prev": "cb0892ff-8fd2-42e2-bd8a-8f569e344366",
     "regions": {
      "d15c50e6-62d5-4c5b-9a1e-e13516d2d381": {
       "attrs": {
        "height": 0.8,
        "width": 0.8,
        "x": 0.1,
        "y": 0.1
       },
       "content": {
        "cell": "88808cf2-00c1-41b1-a67f-16b01f6eec12",
        "part": "whole"
       },
       "id": "d15c50e6-62d5-4c5b-9a1e-e13516d2d381"
      }
     }
    },
    "723aa968-54f5-4528-9d2e-f390c2bf1eac": {
     "id": "723aa968-54f5-4528-9d2e-f390c2bf1eac",
     "prev": "a398ad15-bb22-4960-b221-4a68210b8c8b",
     "regions": {
      "dae1d481-4ae5-433e-bb27-e0f2164625a2": {
       "attrs": {
        "height": 0.8,
        "width": 0.8,
        "x": 0.1,
        "y": 0.1
       },
       "content": {
        "cell": "ffca2f62-aba2-4fae-8423-7a567e117b4e",
        "part": "whole"
       },
       "id": "dae1d481-4ae5-433e-bb27-e0f2164625a2"
      }
     }
    },
    "7833fc18-7b06-4b3a-b722-aa9ce07e4c2b": {
     "id": "7833fc18-7b06-4b3a-b722-aa9ce07e4c2b",
     "prev": null,
     "regions": {
      "19a6fbb3-1790-4ed4-8d82-fb727e8330b8": {
       "attrs": {
        "height": 0.8,
        "width": 0.8,
        "x": 0.1,
        "y": 0.1
       },
       "content": {
        "cell": "3c425729-3d82-4f73-82e7-d76fd6717378",
        "part": "whole"
       },
       "id": "19a6fbb3-1790-4ed4-8d82-fb727e8330b8"
      }
     }
    },
    "78f641ad-6b1a-4162-9a6f-11c1544cf168": {
     "id": "78f641ad-6b1a-4162-9a6f-11c1544cf168",
     "prev": "70defef6-7cd6-43c6-8119-5c49f3178cf6",
     "regions": {
      "ad1b7195-ac76-44ba-89cf-a0bf56d425bc": {
       "attrs": {
        "height": 0.8,
        "width": 0.8,
        "x": 0.1,
        "y": 0.1
       },
       "content": {
        "cell": "03735292-7183-4bc0-b740-c7900cb1ee5c",
        "part": "whole"
       },
       "id": "ad1b7195-ac76-44ba-89cf-a0bf56d425bc"
      }
     }
    },
    "81597aae-8c79-4d2f-8d84-1e5927ac074a": {
     "id": "81597aae-8c79-4d2f-8d84-1e5927ac074a",
     "prev": "b95fffd5-901d-4600-b8ae-9ec80d4ca098",
     "regions": {
      "b9519b06-d684-425b-bf9b-c99fd391e08f": {
       "attrs": {
        "height": 0.8,
        "width": 0.8,
        "x": 0.1,
        "y": 0.1
       },
       "content": {
        "cell": "029475d4-6790-48e6-9a87-27d627f8343c",
        "part": "whole"
       },
       "id": "b9519b06-d684-425b-bf9b-c99fd391e08f"
      }
     }
    },
    "8264886f-06f0-4d75-9715-abaa33503f54": {
     "id": "8264886f-06f0-4d75-9715-abaa33503f54",
     "prev": "7833fc18-7b06-4b3a-b722-aa9ce07e4c2b",
     "regions": {
      "96536cf4-d685-4027-8754-94f2a730761f": {
       "attrs": {
        "height": 0.8,
        "width": 0.8,
        "x": 0.1,
        "y": 0.1
       },
       "content": {
        "cell": "90483900-8cf9-4426-86ee-282aab264f71",
        "part": "whole"
       },
       "id": "96536cf4-d685-4027-8754-94f2a730761f"
      }
     }
    },
    "84575557-9eb9-4e13-a68d-afa4dfba526f": {
     "id": "84575557-9eb9-4e13-a68d-afa4dfba526f",
     "prev": "1a570f23-c7f4-49f2-a0c0-b44c7a29c947",
     "regions": {
      "d11b285d-5f28-4afc-92ed-a4d1539588e2": {
       "attrs": {
        "height": 0.8,
        "width": 0.8,
        "x": 0.1,
        "y": 0.1
       },
       "content": {
        "cell": "4b414170-3ba1-4e8d-a134-ea173419de08",
        "part": "whole"
       },
       "id": "d11b285d-5f28-4afc-92ed-a4d1539588e2"
      }
     }
    },
    "8b7beaa0-d845-412e-ad00-8b2dfd3863a7": {
     "id": "8b7beaa0-d845-412e-ad00-8b2dfd3863a7",
     "prev": "37da5cfb-524a-43b1-94f0-f4472325c1a2",
     "regions": {
      "c6fe9ed1-ff38-4236-8fd9-d1e91f92f0ef": {
       "attrs": {
        "height": 0.8,
        "width": 0.8,
        "x": 0.1,
        "y": 0.1
       },
       "content": {
        "cell": "076edcf4-ea3c-4108-a8dc-e10b86ab5c6e",
        "part": "whole"
       },
       "id": "c6fe9ed1-ff38-4236-8fd9-d1e91f92f0ef"
      }
     }
    },
    "8caa8fb3-843b-47f7-a9c8-c8c097fa285d": {
     "id": "8caa8fb3-843b-47f7-a9c8-c8c097fa285d",
     "prev": "2852da27-ffa6-4ddb-9cc2-3fe0c86e8452",
     "regions": {
      "227806de-58fa-49ee-8a0b-c5a747b8d7d5": {
       "attrs": {
        "height": 0.8,
        "width": 0.8,
        "x": 0.1,
        "y": 0.1
       },
       "content": {
        "cell": "fa56049f-2308-4cfe-a40a-0999b1ddc920",
        "part": "whole"
       },
       "id": "227806de-58fa-49ee-8a0b-c5a747b8d7d5"
      }
     }
    },
    "8ffcabcf-5cbd-4257-98de-3617aa66a6eb": {
     "id": "8ffcabcf-5cbd-4257-98de-3617aa66a6eb",
     "prev": "93593231-0a53-47d0-bbb6-83093cea4b5f",
     "regions": {
      "b0ed7267-0ce3-4efd-88ed-50b42a46ce25": {
       "attrs": {
        "height": 0.8,
        "width": 0.8,
        "x": 0.1,
        "y": 0.1
       },
       "content": {
        "cell": "95afd284-858a-4dd4-838c-0084d5f649e8",
        "part": "whole"
       },
       "id": "b0ed7267-0ce3-4efd-88ed-50b42a46ce25"
      }
     }
    },
    "93593231-0a53-47d0-bbb6-83093cea4b5f": {
     "id": "93593231-0a53-47d0-bbb6-83093cea4b5f",
     "prev": "8264886f-06f0-4d75-9715-abaa33503f54",
     "regions": {
      "b557d1a8-32ef-4233-a168-b69b4c27a8f6": {
       "attrs": {
        "height": 0.8,
        "width": 0.8,
        "x": 0.1,
        "y": 0.1
       },
       "content": {
        "cell": "b3bb54d6-2dc3-404d-9a5b-f7c9f110e3ce",
        "part": "whole"
       },
       "id": "b557d1a8-32ef-4233-a168-b69b4c27a8f6"
      }
     }
    },
    "947049b9-ae5e-4cdc-9da0-6b43a589e300": {
     "id": "947049b9-ae5e-4cdc-9da0-6b43a589e300",
     "prev": "50f5bf81-0a6c-4fa3-b0f3-31401f9af87c",
     "regions": {
      "5fc4b74a-4f19-40df-97b5-7763cadcaa38": {
       "attrs": {
        "height": 0.8,
        "width": 0.8,
        "x": 0.1,
        "y": 0.1
       },
       "content": {
        "cell": "7b79b674-5492-472f-aa69-a33e0012b2cd",
        "part": "whole"
       },
       "id": "5fc4b74a-4f19-40df-97b5-7763cadcaa38"
      }
     }
    },
    "956b9522-c2bb-48b9-b7dc-f491de9c1407": {
     "id": "956b9522-c2bb-48b9-b7dc-f491de9c1407",
     "prev": "9b502d6b-45af-40c5-afab-0197546d8b96",
     "regions": {
      "38b01c90-a670-4731-99e5-807dc8ac03b3": {
       "attrs": {
        "height": 0.8,
        "width": 0.8,
        "x": 0.1,
        "y": 0.1
       },
       "content": {
        "cell": "174c5522-a3ab-4525-ab31-3055e5647e99",
        "part": "whole"
       },
       "id": "38b01c90-a670-4731-99e5-807dc8ac03b3"
      }
     }
    },
    "98402b06-d29f-49b1-8394-9c9cbe3105ee": {
     "id": "98402b06-d29f-49b1-8394-9c9cbe3105ee",
     "prev": "78f641ad-6b1a-4162-9a6f-11c1544cf168",
     "regions": {
      "e685cc07-9797-4ba8-af69-b8c5de8f93a4": {
       "attrs": {
        "height": 0.8,
        "width": 0.8,
        "x": 0.1,
        "y": 0.1
       },
       "content": {
        "cell": "c4f63a46-55b7-4863-bef3-aa1d3ee51bbf",
        "part": "whole"
       },
       "id": "e685cc07-9797-4ba8-af69-b8c5de8f93a4"
      }
     }
    },
    "9b502d6b-45af-40c5-afab-0197546d8b96": {
     "id": "9b502d6b-45af-40c5-afab-0197546d8b96",
     "prev": "e367cdc1-e0ec-42a8-a986-f15dd5bdbc34",
     "regions": {
      "0c2a730f-5e13-4c03-8cfb-f3091cce8def": {
       "attrs": {
        "height": 0.8,
        "width": 0.8,
        "x": 0.1,
        "y": 0.1
       },
       "content": {
        "cell": "f7a48e7e-8cd0-49f1-b24d-d88fb36c2cdc",
        "part": "whole"
       },
       "id": "0c2a730f-5e13-4c03-8cfb-f3091cce8def"
      }
     }
    },
    "9eae8b9a-e822-43c9-8123-e11e55cb151f": {
     "id": "9eae8b9a-e822-43c9-8123-e11e55cb151f",
     "prev": "ce0703ec-2de9-45a8-b2b8-65b3f6e82808",
     "regions": {
      "67d6a7ff-3ce6-4f0b-b32e-a60921409455": {
       "attrs": {
        "height": 0.8,
        "width": 0.8,
        "x": 0.1,
        "y": 0.1
       },
       "content": {
        "cell": "1f1ec803-1b94-4cad-afff-2831cebcf922",
        "part": "whole"
       },
       "id": "67d6a7ff-3ce6-4f0b-b32e-a60921409455"
      }
     }
    },
    "9eb4339a-708b-4a8f-bcc1-37bcb13384fc": {
     "id": "9eb4339a-708b-4a8f-bcc1-37bcb13384fc",
     "prev": "723aa968-54f5-4528-9d2e-f390c2bf1eac",
     "regions": {
      "f2394796-9aaf-4835-881a-12d36bba81fd": {
       "attrs": {
        "height": 0.8,
        "width": 0.8,
        "x": 0.1,
        "y": 0.1
       },
       "content": {
        "cell": "66002082-b2dc-4b06-ae95-bf0f5abc7e66",
        "part": "whole"
       },
       "id": "f2394796-9aaf-4835-881a-12d36bba81fd"
      }
     }
    },
    "9f58908e-55e1-4f4c-b550-f1fbfa2b8e47": {
     "id": "9f58908e-55e1-4f4c-b550-f1fbfa2b8e47",
     "prev": "a5c7e658-348d-4f3b-adc0-f7c27192bdf4",
     "regions": {
      "7228598a-9c62-40e4-9633-b591bd96cd11": {
       "attrs": {
        "height": 0.8,
        "width": 0.8,
        "x": 0.1,
        "y": 0.1
       },
       "content": {
        "cell": "58f32f6b-37ec-4e3a-a47f-becfca5c29ba",
        "part": "whole"
       },
       "id": "7228598a-9c62-40e4-9633-b591bd96cd11"
      }
     }
    },
    "a0add1a7-d2ce-436e-b875-dd68e2c60b91": {
     "id": "a0add1a7-d2ce-436e-b875-dd68e2c60b91",
     "prev": "8ffcabcf-5cbd-4257-98de-3617aa66a6eb",
     "regions": {
      "bcadd58f-f98c-4ad2-acc7-cf09fe96f971": {
       "attrs": {
        "height": 0.8,
        "width": 0.8,
        "x": 0.1,
        "y": 0.1
       },
       "content": {
        "cell": "256b55b8-dcf6-481c-be82-2eb6db9f0f7e",
        "part": "whole"
       },
       "id": "bcadd58f-f98c-4ad2-acc7-cf09fe96f971"
      }
     }
    },
    "a398ad15-bb22-4960-b221-4a68210b8c8b": {
     "id": "a398ad15-bb22-4960-b221-4a68210b8c8b",
     "prev": "e197302c-608f-4c57-bfec-84ff5c08946a",
     "regions": {
      "2e908e3f-eee4-4529-8b23-dd2d12d83934": {
       "attrs": {
        "height": 0.8,
        "width": 0.8,
        "x": 0.1,
        "y": 0.1
       },
       "content": {
        "cell": "27e07b0d-b61b-46f4-9058-5e4c9852c4e2",
        "part": "whole"
       },
       "id": "2e908e3f-eee4-4529-8b23-dd2d12d83934"
      }
     }
    },
    "a5c7e658-348d-4f3b-adc0-f7c27192bdf4": {
     "id": "a5c7e658-348d-4f3b-adc0-f7c27192bdf4",
     "prev": "b41e3c3c-326a-4d8c-8755-16e4df4ef5a8",
     "regions": {
      "3658b9c1-0dd2-436a-bf40-137aad5d2113": {
       "attrs": {
        "height": 0.8,
        "width": 0.8,
        "x": 0.1,
        "y": 0.1
       },
       "content": {
        "cell": "109baf0c-f777-40b5-83d5-0bff63e4ceea",
        "part": "whole"
       },
       "id": "3658b9c1-0dd2-436a-bf40-137aad5d2113"
      }
     }
    },
    "a9d32189-7b93-4cf6-9c43-2802da8886b1": {
     "id": "a9d32189-7b93-4cf6-9c43-2802da8886b1",
     "prev": "19ad1885-aaba-4995-bea8-2d0d73c64417",
     "regions": {
      "e3ef73cb-f104-4263-b689-ece27676e3c0": {
       "attrs": {
        "height": 0.8,
        "width": 0.8,
        "x": 0.1,
        "y": 0.1
       },
       "content": {
        "cell": "fc34f5a0-c0ca-4034-bf57-8c34420b992f",
        "part": "whole"
       },
       "id": "e3ef73cb-f104-4263-b689-ece27676e3c0"
      }
     }
    },
    "ab1c0b2d-3fb4-430c-9c29-875e2821f5ce": {
     "id": "ab1c0b2d-3fb4-430c-9c29-875e2821f5ce",
     "prev": "32520177-ffe6-42ce-9354-78c86afd2cf1",
     "regions": {
      "0d11537b-92a8-4ceb-9fb9-4e62e506b314": {
       "attrs": {
        "height": 0.8,
        "width": 0.8,
        "x": 0.1,
        "y": 0.1
       },
       "content": {
        "cell": "cfb55823-4cd4-4da3-b64b-9c616303de4f",
        "part": "whole"
       },
       "id": "0d11537b-92a8-4ceb-9fb9-4e62e506b314"
      }
     }
    },
    "b3cb478f-24cd-4254-bba3-4d9cfc9304d6": {
     "id": "b3cb478f-24cd-4254-bba3-4d9cfc9304d6",
     "prev": "3d7c8c6b-9687-4e00-93b0-7f8d9d2d94f6",
     "regions": {
      "9085a8b5-29c3-4e36-b668-09f105926954": {
       "attrs": {
        "height": 0.8,
        "width": 0.8,
        "x": 0.1,
        "y": 0.1
       },
       "content": {
        "cell": "b5e5aba9-f9d1-4b40-b4ca-4ba7f33aa777",
        "part": "whole"
       },
       "id": "9085a8b5-29c3-4e36-b668-09f105926954"
      }
     }
    },
    "b41e3c3c-326a-4d8c-8755-16e4df4ef5a8": {
     "id": "b41e3c3c-326a-4d8c-8755-16e4df4ef5a8",
     "prev": "3447b5f9-6fb1-4487-963f-bd0d10e69e0d",
     "regions": {
      "7d17dc47-511a-4266-aed1-e2d6139dcc28": {
       "attrs": {
        "height": 0.8,
        "width": 0.8,
        "x": 0.1,
        "y": 0.1
       },
       "content": {
        "cell": "4a70ff30-6e89-4904-ae2e-095e4eca4bb7",
        "part": "whole"
       },
       "id": "7d17dc47-511a-4266-aed1-e2d6139dcc28"
      }
     }
    },
    "b92da0c2-e062-4de0-a4c1-c85029133317": {
     "id": "b92da0c2-e062-4de0-a4c1-c85029133317",
     "prev": "84575557-9eb9-4e13-a68d-afa4dfba526f",
     "regions": {
      "2de813c3-b8c1-4531-81b2-de23fffc1638": {
       "attrs": {
        "height": 0.8,
        "width": 0.8,
        "x": 0.1,
        "y": 0.1
       },
       "content": {
        "cell": "13471527-77e8-41e7-b07f-4eb8a7e4c8f6",
        "part": "whole"
       },
       "id": "2de813c3-b8c1-4531-81b2-de23fffc1638"
      }
     }
    },
    "b95fffd5-901d-4600-b8ae-9ec80d4ca098": {
     "id": "b95fffd5-901d-4600-b8ae-9ec80d4ca098",
     "prev": "56bdbe49-72a0-4b00-91b0-f7b51c367bef",
     "regions": {
      "30526c28-581d-42eb-9f1c-0b972f3dad4e": {
       "attrs": {
        "height": 0.8,
        "width": 0.8,
        "x": 0.1,
        "y": 0.1
       },
       "content": {
        "cell": "b46e2a01-66d4-4a01-ba82-dc709174deb8",
        "part": "whole"
       },
       "id": "30526c28-581d-42eb-9f1c-0b972f3dad4e"
      }
     }
    },
    "bb04d04f-a51d-4e68-9698-1bb5c79d10d7": {
     "id": "bb04d04f-a51d-4e68-9698-1bb5c79d10d7",
     "prev": "b3cb478f-24cd-4254-bba3-4d9cfc9304d6",
     "regions": {
      "208f5437-e137-4600-a721-8c37a3cc4c6c": {
       "attrs": {
        "height": 0.8,
        "width": 0.8,
        "x": 0.1,
        "y": 0.1
       },
       "content": {
        "cell": "ac2448f3-3b45-401e-9f0a-edca07bb2853",
        "part": "whole"
       },
       "id": "208f5437-e137-4600-a721-8c37a3cc4c6c"
      }
     }
    },
    "c7bec15f-a52f-4856-823f-1a79454bfa41": {
     "id": "c7bec15f-a52f-4856-823f-1a79454bfa41",
     "prev": "fc0b779c-a516-4dbf-84a3-f88991fc1e29",
     "regions": {
      "dfa9c6ae-8b1d-46cb-8fb3-fb11c40a48e3": {
       "attrs": {
        "height": 0.8,
        "width": 0.8,
        "x": 0.1,
        "y": 0.1
       },
       "content": {
        "cell": "ad462836-6191-48ea-9667-8992e2bed1f9",
        "part": "whole"
       },
       "id": "dfa9c6ae-8b1d-46cb-8fb3-fb11c40a48e3"
      }
     }
    },
    "cb0892ff-8fd2-42e2-bd8a-8f569e344366": {
     "id": "cb0892ff-8fd2-42e2-bd8a-8f569e344366",
     "prev": "6575958e-b093-47b0-87d9-25983297b0c1",
     "regions": {
      "0cb8b85e-7f6c-4838-994a-d6e2295f6940": {
       "attrs": {
        "height": 0.8,
        "width": 0.8,
        "x": 0.1,
        "y": 0.1
       },
       "content": {
        "cell": "69d8d40f-cb1e-4d5b-8a83-079c17acf00a",
        "part": "whole"
       },
       "id": "0cb8b85e-7f6c-4838-994a-d6e2295f6940"
      }
     }
    },
    "ce0703ec-2de9-45a8-b2b8-65b3f6e82808": {
     "id": "ce0703ec-2de9-45a8-b2b8-65b3f6e82808",
     "prev": "6a4917db-1a07-4899-8a7e-7e9730f35dcd",
     "regions": {
      "03eded33-f9bd-4dc6-a028-90c848393f0e": {
       "attrs": {
        "height": 0.8,
        "width": 0.8,
        "x": 0.1,
        "y": 0.1
       },
       "content": {
        "cell": "37441025-446c-4a80-b18f-0aaaa8af2bea",
        "part": "whole"
       },
       "id": "03eded33-f9bd-4dc6-a028-90c848393f0e"
      }
     }
    },
    "d0d5986d-76e8-4af7-bf8c-791e3d7f0742": {
     "id": "d0d5986d-76e8-4af7-bf8c-791e3d7f0742",
     "prev": "f89ced82-1c9a-4a0d-a212-caad9ceda062",
     "regions": {
      "f5a8b77b-8d03-4793-9e05-42125d93d1a8": {
       "attrs": {
        "height": 0.8,
        "width": 0.8,
        "x": 0.1,
        "y": 0.1
       },
       "content": {
        "cell": "abb218cc-23de-4df2-9a89-332ac9b61e1d",
        "part": "whole"
       },
       "id": "f5a8b77b-8d03-4793-9e05-42125d93d1a8"
      }
     }
    },
    "d40237c7-3f9a-4fc8-9aee-64715d10605a": {
     "id": "d40237c7-3f9a-4fc8-9aee-64715d10605a",
     "prev": "956b9522-c2bb-48b9-b7dc-f491de9c1407",
     "regions": {
      "dcbbd264-932a-4a24-ba58-45ca7630f70a": {
       "attrs": {
        "height": 0.8,
        "width": 0.8,
        "x": 0.1,
        "y": 0.1
       },
       "content": {
        "cell": "0d6f3903-6031-4e19-9cae-fe44eecddee1",
        "part": "whole"
       },
       "id": "dcbbd264-932a-4a24-ba58-45ca7630f70a"
      }
     }
    },
    "d576e681-630c-47d0-990b-13a906c6e81b": {
     "id": "d576e681-630c-47d0-990b-13a906c6e81b",
     "prev": "de79f57c-c075-4d4c-9fd8-e5fc55192d95",
     "regions": {
      "7b8149fa-52cf-4dcf-98c7-a315fecddb93": {
       "attrs": {
        "height": 0.8,
        "width": 0.8,
        "x": 0.1,
        "y": 0.1
       },
       "content": {
        "cell": "19899997-fd57-4c06-91a2-7061ecb86b02",
        "part": "whole"
       },
       "id": "7b8149fa-52cf-4dcf-98c7-a315fecddb93"
      }
     }
    },
    "db310bf7-04a2-4d5c-b250-ce9fb0ac5b17": {
     "id": "db310bf7-04a2-4d5c-b250-ce9fb0ac5b17",
     "prev": "25ae68f7-e652-45de-857c-999257f5cb3f",
     "regions": {
      "cde8deb3-2ccf-4167-8c87-53410048dbb0": {
       "attrs": {
        "height": 0.8,
        "width": 0.8,
        "x": 0.1,
        "y": 0.1
       },
       "content": {
        "cell": "f99309f9-88c2-4401-944b-9dc4f7b9228d",
        "part": "whole"
       },
       "id": "cde8deb3-2ccf-4167-8c87-53410048dbb0"
      }
     }
    },
    "de79f57c-c075-4d4c-9fd8-e5fc55192d95": {
     "id": "de79f57c-c075-4d4c-9fd8-e5fc55192d95",
     "prev": "db310bf7-04a2-4d5c-b250-ce9fb0ac5b17",
     "regions": {
      "daaef973-8076-47fd-a158-719436aefd7f": {
       "attrs": {
        "height": 0.8,
        "width": 0.8,
        "x": 0.1,
        "y": 0.1
       },
       "content": {
        "cell": "355b264f-6241-456e-8c74-5baffce6b930",
        "part": "whole"
       },
       "id": "daaef973-8076-47fd-a158-719436aefd7f"
      }
     }
    },
    "e197302c-608f-4c57-bfec-84ff5c08946a": {
     "id": "e197302c-608f-4c57-bfec-84ff5c08946a",
     "prev": "356dad10-e188-4aa3-a3b6-8d8ca4a6f17b",
     "regions": {
      "d9bf46eb-d2a1-41d0-a19c-26be725ba319": {
       "attrs": {
        "height": 0.8,
        "width": 0.8,
        "x": 0.1,
        "y": 0.1
       },
       "content": {
        "cell": "b6d8d392-ed29-440e-9f93-553fffbda5c7",
        "part": "whole"
       },
       "id": "d9bf46eb-d2a1-41d0-a19c-26be725ba319"
      }
     }
    },
    "e367cdc1-e0ec-42a8-a986-f15dd5bdbc34": {
     "id": "e367cdc1-e0ec-42a8-a986-f15dd5bdbc34",
     "prev": "f4de1ec4-07e2-4eb0-a9b7-db79bae7340b",
     "regions": {
      "a12bd280-9392-4c25-8631-e479ad493fd3": {
       "attrs": {
        "height": 0.8,
        "width": 0.8,
        "x": 0.1,
        "y": 0.1
       },
       "content": {
        "cell": "ab1cd253-6255-4351-bb66-bdd29647b721",
        "part": "whole"
       },
       "id": "a12bd280-9392-4c25-8631-e479ad493fd3"
      }
     }
    },
    "e41609fa-fe40-480f-b9da-6b98d2111645": {
     "id": "e41609fa-fe40-480f-b9da-6b98d2111645",
     "prev": "2e61438b-6ec0-4a92-8c48-f2518a9add6c",
     "regions": {
      "dd0dad95-24e4-4128-bac6-cabb3e223c04": {
       "attrs": {
        "height": 0.8,
        "width": 0.8,
        "x": 0.1,
        "y": 0.1
       },
       "content": {
        "cell": "9863c141-121d-4f38-a42b-3a208239ae0b",
        "part": "whole"
       },
       "id": "dd0dad95-24e4-4128-bac6-cabb3e223c04"
      }
     }
    },
    "e6d65ef7-28e3-4cef-8c70-1d5c1e8b8607": {
     "id": "e6d65ef7-28e3-4cef-8c70-1d5c1e8b8607",
     "prev": "25675b26-f9d6-4dbe-bd3e-0a3935a8d383",
     "regions": {
      "cfe16a80-2739-4a88-aa79-0d82bd6f536b": {
       "attrs": {
        "height": 0.8,
        "width": 0.8,
        "x": 0.1,
        "y": 0.1
       },
       "content": {
        "cell": "3bfb8fcd-b620-445c-a077-1f83f486c126",
        "part": "whole"
       },
       "id": "cfe16a80-2739-4a88-aa79-0d82bd6f536b"
      }
     }
    },
    "e78e9844-20ab-4868-ad5c-1a41fabe0994": {
     "id": "e78e9844-20ab-4868-ad5c-1a41fabe0994",
     "prev": "4b5799ca-4474-497e-8204-fef59a77b044",
     "regions": {
      "6dd49bf2-4285-4a16-a193-e9a4e819df31": {
       "attrs": {
        "height": 0.8,
        "width": 0.8,
        "x": 0.1,
        "y": 0.1
       },
       "content": {
        "cell": "c5d8ffa3-d3d3-4a27-aa63-20872c46e77e",
        "part": "whole"
       },
       "id": "6dd49bf2-4285-4a16-a193-e9a4e819df31"
      }
     }
    },
    "eb57d246-6e94-482b-bcf2-ab3bce094bd8": {
     "id": "eb57d246-6e94-482b-bcf2-ab3bce094bd8",
     "prev": "18a55b63-4859-4122-be5f-08c9be7f5b8e",
     "regions": {
      "b9a9ccac-8b73-481c-b87f-3cbd602c2982": {
       "attrs": {
        "height": 0.8,
        "width": 0.8,
        "x": 0.1,
        "y": 0.1
       },
       "content": {
        "cell": "9ed11078-fc17-410f-af4c-975952239bc8",
        "part": "whole"
       },
       "id": "b9a9ccac-8b73-481c-b87f-3cbd602c2982"
      }
     }
    },
    "f4de1ec4-07e2-4eb0-a9b7-db79bae7340b": {
     "id": "f4de1ec4-07e2-4eb0-a9b7-db79bae7340b",
     "prev": "9eae8b9a-e822-43c9-8123-e11e55cb151f",
     "regions": {
      "e3361e36-acd8-4c6c-abff-2db84f692f2e": {
       "attrs": {
        "height": 0.8,
        "width": 0.8,
        "x": 0.1,
        "y": 0.1
       },
       "content": {
        "cell": "e77d138f-9275-4ef8-92a2-ea9c9e6cbecf",
        "part": "whole"
       },
       "id": "e3361e36-acd8-4c6c-abff-2db84f692f2e"
      }
     }
    },
    "f89ced82-1c9a-4a0d-a212-caad9ceda062": {
     "id": "f89ced82-1c9a-4a0d-a212-caad9ceda062",
     "prev": "07c551f2-9873-47d3-aca1-175742881ec5",
     "regions": {
      "22efcc1c-687c-4588-9422-bf2290dd40db": {
       "attrs": {
        "height": 0.8,
        "width": 0.8,
        "x": 0.1,
        "y": 0.1
       },
       "content": {
        "cell": "124d36f3-ea51-4972-88f1-1923aed150f8",
        "part": "whole"
       },
       "id": "22efcc1c-687c-4588-9422-bf2290dd40db"
      }
     }
    },
    "fbebc41d-c7ae-44bf-bdeb-c90d586890bd": {
     "id": "fbebc41d-c7ae-44bf-bdeb-c90d586890bd",
     "prev": "0214bda6-4c68-473d-ad05-c6778eef3096",
     "regions": {
      "1ba58fc2-de2f-40de-af25-8fb9eda242ca": {
       "attrs": {
        "height": 0.8,
        "width": 0.8,
        "x": 0.1,
        "y": 0.1
       },
       "content": {
        "cell": "8aa7a0b7-8efb-48fa-83b7-903db28fcc9a",
        "part": "whole"
       },
       "id": "1ba58fc2-de2f-40de-af25-8fb9eda242ca"
      }
     }
    },
    "fc0b779c-a516-4dbf-84a3-f88991fc1e29": {
     "id": "fc0b779c-a516-4dbf-84a3-f88991fc1e29",
     "prev": "fbebc41d-c7ae-44bf-bdeb-c90d586890bd",
     "regions": {
      "251473e6-a467-45d8-8eb2-672a1d0c0540": {
       "attrs": {
        "height": 0.8,
        "width": 0.8,
        "x": 0.1,
        "y": 0.1
       },
       "content": {
        "cell": "aafbfa23-06d8-4a07-b819-4b8fce5f2066",
        "part": "whole"
       },
       "id": "251473e6-a467-45d8-8eb2-672a1d0c0540"
      }
     }
    }
   },
   "themes": {}
  }
 },
 "nbformat": 4,
 "nbformat_minor": 2
}
