{
 "cells": [
  {
   "cell_type": "markdown",
   "metadata": {
    "nbpresent": {
     "id": "40289586-db4d-4367-a50d-5a742c3772ae"
    }
   },
   "source": [
    "# Ready, Set.... Scatter!"
   ]
  },
  {
   "cell_type": "markdown",
   "metadata": {
    "nbpresent": {
     "id": "19316465-2fba-455f-9b2e-5d41da42ff9c"
    }
   },
   "source": [
    "# Introduction\n",
    "\n",
    "## *Matplotlib is a powerful library for data visualization. It has a huge number of plot types (histograms, scatter, pie, heatmap…), is very customizable and is integrated with Pandas and Numpy.  However, the default settings are not great, and the customization process can be frustrating.  The following notebook will give a little background information and a lot of examples on how to create great figures using matplotlib.  *"
   ]
  },
  {
   "cell_type": "markdown",
   "metadata": {
    "nbpresent": {
     "id": "980f5d65-fe43-4306-b22a-c40fd56d7606"
    }
   },
   "source": [
    "## Background and Basics:\n",
    "\n",
    "#### Matplotlib figures are composed of three layers:\n",
    "1. the Backend: the layer that interacts with the environment to render the image\n",
    "   (I will talk about this at the end)\n",
    "2. Artist layer: primatives(basic shapes like circle and square) and sets of containers with figures, subplots and axis objects (the documentation for this layer http://matplotlib.org/api/artist_api.html# )\n",
    "3. Scripting layer: how we(the programmer) interact with the artist and backend layers"
   ]
  },
  {
   "cell_type": "markdown",
   "metadata": {
    "nbpresent": {
     "id": "f8d909b8-0f21-484d-9f26-5d84308cfbcf"
    }
   },
   "source": [
    "### Imports"
   ]
  },
  {
   "cell_type": "code",
   "execution_count": 1,
   "metadata": {
    "collapsed": false,
    "nbpresent": {
     "id": "8eb1f8e3-52ba-4854-a9cc-d8d3dd4ce0d7"
    }
   },
   "outputs": [],
   "source": [
    "import matplotlib as mpl\n",
    "import matplotlib.pyplot as plt\n",
    "import numpy as np\n",
    "import pandas as pd"
   ]
  },
  {
   "cell_type": "markdown",
   "metadata": {
    "nbpresent": {
     "id": "507b85d4-747b-40ae-bb90-2b9711f1ec34"
    }
   },
   "source": [
    "### Jupyter notebook and matplotlib\n",
    "### * Jupyter notebook has a few magic commands that allow figures to be automatically rendered in a notebook *\n",
    "\n",
    "#### Creates a new figure  \n",
    "%matplotlib inline\n",
    "\n",
    "#### Creates interactive figures that are updated\n",
    "%matplotlib notebook\n",
    "\n",
    "#### Using something other than Jupyter notebook\n",
    "plt.show()"
   ]
  },
  {
   "cell_type": "markdown",
   "metadata": {
    "nbpresent": {
     "id": "705d2d1d-71c5-44c5-b22c-ee9015a93b2b"
    }
   },
   "source": [
    "## Anatomy of a Figure"
   ]
  },
  {
   "cell_type": "markdown",
   "metadata": {
    "nbpresent": {
     "id": "fb748526-0178-4caf-8114-6d74ea8b66e2"
    }
   },
   "source": [
    "There are three basic components to every figure:\n",
    "1. The Canvas: the blank square everything goes into\n",
    "2. The Subplot: data layer (e.g. scatter or histogram)\n",
    "3. The Axis: anything and everything to do with the axes"
   ]
  },
  {
   "cell_type": "markdown",
   "metadata": {
    "collapsed": false,
    "nbpresent": {
     "id": "f38a998c-500c-4b3d-9b0e-6112cbf63414"
    }
   },
   "source": [
    "#### Calling the figure method will create the Canvas"
   ]
  },
  {
   "cell_type": "code",
   "execution_count": 2,
   "metadata": {
    "collapsed": false,
    "nbpresent": {
     "id": "b9b3f48f-6764-40c4-a2aa-4276f9171675"
    }
   },
   "outputs": [],
   "source": [
    "%matplotlib notebook"
   ]
  },
  {
   "cell_type": "code",
   "execution_count": 3,
   "metadata": {
    "collapsed": false,
    "nbpresent": {
     "id": "166ea2f0-4073-4b1d-aff6-692a020ff3c6"
    },
    "scrolled": true
   },
   "outputs": [
    {
     "data": {
      "application/javascript": [
       "/* Put everything inside the global mpl namespace */\n",
       "window.mpl = {};\n",
       "\n",
       "\n",
       "mpl.get_websocket_type = function() {\n",
       "    if (typeof(WebSocket) !== 'undefined') {\n",
       "        return WebSocket;\n",
       "    } else if (typeof(MozWebSocket) !== 'undefined') {\n",
       "        return MozWebSocket;\n",
       "    } else {\n",
       "        alert('Your browser does not have WebSocket support.' +\n",
       "              'Please try Chrome, Safari or Firefox ≥ 6. ' +\n",
       "              'Firefox 4 and 5 are also supported but you ' +\n",
       "              'have to enable WebSockets in about:config.');\n",
       "    };\n",
       "}\n",
       "\n",
       "mpl.figure = function(figure_id, websocket, ondownload, parent_element) {\n",
       "    this.id = figure_id;\n",
       "\n",
       "    this.ws = websocket;\n",
       "\n",
       "    this.supports_binary = (this.ws.binaryType != undefined);\n",
       "\n",
       "    if (!this.supports_binary) {\n",
       "        var warnings = document.getElementById(\"mpl-warnings\");\n",
       "        if (warnings) {\n",
       "            warnings.style.display = 'block';\n",
       "            warnings.textContent = (\n",
       "                \"This browser does not support binary websocket messages. \" +\n",
       "                    \"Performance may be slow.\");\n",
       "        }\n",
       "    }\n",
       "\n",
       "    this.imageObj = new Image();\n",
       "\n",
       "    this.context = undefined;\n",
       "    this.message = undefined;\n",
       "    this.canvas = undefined;\n",
       "    this.rubberband_canvas = undefined;\n",
       "    this.rubberband_context = undefined;\n",
       "    this.format_dropdown = undefined;\n",
       "\n",
       "    this.image_mode = 'full';\n",
       "\n",
       "    this.root = $('<div/>');\n",
       "    this._root_extra_style(this.root)\n",
       "    this.root.attr('style', 'display: inline-block');\n",
       "\n",
       "    $(parent_element).append(this.root);\n",
       "\n",
       "    this._init_header(this);\n",
       "    this._init_canvas(this);\n",
       "    this._init_toolbar(this);\n",
       "\n",
       "    var fig = this;\n",
       "\n",
       "    this.waiting = false;\n",
       "\n",
       "    this.ws.onopen =  function () {\n",
       "            fig.send_message(\"supports_binary\", {value: fig.supports_binary});\n",
       "            fig.send_message(\"send_image_mode\", {});\n",
       "            if (mpl.ratio != 1) {\n",
       "                fig.send_message(\"set_dpi_ratio\", {'dpi_ratio': mpl.ratio});\n",
       "            }\n",
       "            fig.send_message(\"refresh\", {});\n",
       "        }\n",
       "\n",
       "    this.imageObj.onload = function() {\n",
       "            if (fig.image_mode == 'full') {\n",
       "                // Full images could contain transparency (where diff images\n",
       "                // almost always do), so we need to clear the canvas so that\n",
       "                // there is no ghosting.\n",
       "                fig.context.clearRect(0, 0, fig.canvas.width, fig.canvas.height);\n",
       "            }\n",
       "            fig.context.drawImage(fig.imageObj, 0, 0);\n",
       "        };\n",
       "\n",
       "    this.imageObj.onunload = function() {\n",
       "        this.ws.close();\n",
       "    }\n",
       "\n",
       "    this.ws.onmessage = this._make_on_message_function(this);\n",
       "\n",
       "    this.ondownload = ondownload;\n",
       "}\n",
       "\n",
       "mpl.figure.prototype._init_header = function() {\n",
       "    var titlebar = $(\n",
       "        '<div class=\"ui-dialog-titlebar ui-widget-header ui-corner-all ' +\n",
       "        'ui-helper-clearfix\"/>');\n",
       "    var titletext = $(\n",
       "        '<div class=\"ui-dialog-title\" style=\"width: 100%; ' +\n",
       "        'text-align: center; padding: 3px;\"/>');\n",
       "    titlebar.append(titletext)\n",
       "    this.root.append(titlebar);\n",
       "    this.header = titletext[0];\n",
       "}\n",
       "\n",
       "\n",
       "\n",
       "mpl.figure.prototype._canvas_extra_style = function(canvas_div) {\n",
       "\n",
       "}\n",
       "\n",
       "\n",
       "mpl.figure.prototype._root_extra_style = function(canvas_div) {\n",
       "\n",
       "}\n",
       "\n",
       "mpl.figure.prototype._init_canvas = function() {\n",
       "    var fig = this;\n",
       "\n",
       "    var canvas_div = $('<div/>');\n",
       "\n",
       "    canvas_div.attr('style', 'position: relative; clear: both; outline: 0');\n",
       "\n",
       "    function canvas_keyboard_event(event) {\n",
       "        return fig.key_event(event, event['data']);\n",
       "    }\n",
       "\n",
       "    canvas_div.keydown('key_press', canvas_keyboard_event);\n",
       "    canvas_div.keyup('key_release', canvas_keyboard_event);\n",
       "    this.canvas_div = canvas_div\n",
       "    this._canvas_extra_style(canvas_div)\n",
       "    this.root.append(canvas_div);\n",
       "\n",
       "    var canvas = $('<canvas/>');\n",
       "    canvas.addClass('mpl-canvas');\n",
       "    canvas.attr('style', \"left: 0; top: 0; z-index: 0; outline: 0\")\n",
       "\n",
       "    this.canvas = canvas[0];\n",
       "    this.context = canvas[0].getContext(\"2d\");\n",
       "\n",
       "    var backingStore = this.context.backingStorePixelRatio ||\n",
       "\tthis.context.webkitBackingStorePixelRatio ||\n",
       "\tthis.context.mozBackingStorePixelRatio ||\n",
       "\tthis.context.msBackingStorePixelRatio ||\n",
       "\tthis.context.oBackingStorePixelRatio ||\n",
       "\tthis.context.backingStorePixelRatio || 1;\n",
       "\n",
       "    mpl.ratio = (window.devicePixelRatio || 1) / backingStore;\n",
       "\n",
       "    var rubberband = $('<canvas/>');\n",
       "    rubberband.attr('style', \"position: absolute; left: 0; top: 0; z-index: 1;\")\n",
       "\n",
       "    var pass_mouse_events = true;\n",
       "\n",
       "    canvas_div.resizable({\n",
       "        start: function(event, ui) {\n",
       "            pass_mouse_events = false;\n",
       "        },\n",
       "        resize: function(event, ui) {\n",
       "            fig.request_resize(ui.size.width, ui.size.height);\n",
       "        },\n",
       "        stop: function(event, ui) {\n",
       "            pass_mouse_events = true;\n",
       "            fig.request_resize(ui.size.width, ui.size.height);\n",
       "        },\n",
       "    });\n",
       "\n",
       "    function mouse_event_fn(event) {\n",
       "        if (pass_mouse_events)\n",
       "            return fig.mouse_event(event, event['data']);\n",
       "    }\n",
       "\n",
       "    rubberband.mousedown('button_press', mouse_event_fn);\n",
       "    rubberband.mouseup('button_release', mouse_event_fn);\n",
       "    // Throttle sequential mouse events to 1 every 20ms.\n",
       "    rubberband.mousemove('motion_notify', mouse_event_fn);\n",
       "\n",
       "    rubberband.mouseenter('figure_enter', mouse_event_fn);\n",
       "    rubberband.mouseleave('figure_leave', mouse_event_fn);\n",
       "\n",
       "    canvas_div.on(\"wheel\", function (event) {\n",
       "        event = event.originalEvent;\n",
       "        event['data'] = 'scroll'\n",
       "        if (event.deltaY < 0) {\n",
       "            event.step = 1;\n",
       "        } else {\n",
       "            event.step = -1;\n",
       "        }\n",
       "        mouse_event_fn(event);\n",
       "    });\n",
       "\n",
       "    canvas_div.append(canvas);\n",
       "    canvas_div.append(rubberband);\n",
       "\n",
       "    this.rubberband = rubberband;\n",
       "    this.rubberband_canvas = rubberband[0];\n",
       "    this.rubberband_context = rubberband[0].getContext(\"2d\");\n",
       "    this.rubberband_context.strokeStyle = \"#000000\";\n",
       "\n",
       "    this._resize_canvas = function(width, height) {\n",
       "        // Keep the size of the canvas, canvas container, and rubber band\n",
       "        // canvas in synch.\n",
       "        canvas_div.css('width', width)\n",
       "        canvas_div.css('height', height)\n",
       "\n",
       "        canvas.attr('width', width * mpl.ratio);\n",
       "        canvas.attr('height', height * mpl.ratio);\n",
       "        canvas.attr('style', 'width: ' + width + 'px; height: ' + height + 'px;');\n",
       "\n",
       "        rubberband.attr('width', width);\n",
       "        rubberband.attr('height', height);\n",
       "    }\n",
       "\n",
       "    // Set the figure to an initial 600x600px, this will subsequently be updated\n",
       "    // upon first draw.\n",
       "    this._resize_canvas(600, 600);\n",
       "\n",
       "    // Disable right mouse context menu.\n",
       "    $(this.rubberband_canvas).bind(\"contextmenu\",function(e){\n",
       "        return false;\n",
       "    });\n",
       "\n",
       "    function set_focus () {\n",
       "        canvas.focus();\n",
       "        canvas_div.focus();\n",
       "    }\n",
       "\n",
       "    window.setTimeout(set_focus, 100);\n",
       "}\n",
       "\n",
       "mpl.figure.prototype._init_toolbar = function() {\n",
       "    var fig = this;\n",
       "\n",
       "    var nav_element = $('<div/>')\n",
       "    nav_element.attr('style', 'width: 100%');\n",
       "    this.root.append(nav_element);\n",
       "\n",
       "    // Define a callback function for later on.\n",
       "    function toolbar_event(event) {\n",
       "        return fig.toolbar_button_onclick(event['data']);\n",
       "    }\n",
       "    function toolbar_mouse_event(event) {\n",
       "        return fig.toolbar_button_onmouseover(event['data']);\n",
       "    }\n",
       "\n",
       "    for(var toolbar_ind in mpl.toolbar_items) {\n",
       "        var name = mpl.toolbar_items[toolbar_ind][0];\n",
       "        var tooltip = mpl.toolbar_items[toolbar_ind][1];\n",
       "        var image = mpl.toolbar_items[toolbar_ind][2];\n",
       "        var method_name = mpl.toolbar_items[toolbar_ind][3];\n",
       "\n",
       "        if (!name) {\n",
       "            // put a spacer in here.\n",
       "            continue;\n",
       "        }\n",
       "        var button = $('<button/>');\n",
       "        button.addClass('ui-button ui-widget ui-state-default ui-corner-all ' +\n",
       "                        'ui-button-icon-only');\n",
       "        button.attr('role', 'button');\n",
       "        button.attr('aria-disabled', 'false');\n",
       "        button.click(method_name, toolbar_event);\n",
       "        button.mouseover(tooltip, toolbar_mouse_event);\n",
       "\n",
       "        var icon_img = $('<span/>');\n",
       "        icon_img.addClass('ui-button-icon-primary ui-icon');\n",
       "        icon_img.addClass(image);\n",
       "        icon_img.addClass('ui-corner-all');\n",
       "\n",
       "        var tooltip_span = $('<span/>');\n",
       "        tooltip_span.addClass('ui-button-text');\n",
       "        tooltip_span.html(tooltip);\n",
       "\n",
       "        button.append(icon_img);\n",
       "        button.append(tooltip_span);\n",
       "\n",
       "        nav_element.append(button);\n",
       "    }\n",
       "\n",
       "    var fmt_picker_span = $('<span/>');\n",
       "\n",
       "    var fmt_picker = $('<select/>');\n",
       "    fmt_picker.addClass('mpl-toolbar-option ui-widget ui-widget-content');\n",
       "    fmt_picker_span.append(fmt_picker);\n",
       "    nav_element.append(fmt_picker_span);\n",
       "    this.format_dropdown = fmt_picker[0];\n",
       "\n",
       "    for (var ind in mpl.extensions) {\n",
       "        var fmt = mpl.extensions[ind];\n",
       "        var option = $(\n",
       "            '<option/>', {selected: fmt === mpl.default_extension}).html(fmt);\n",
       "        fmt_picker.append(option)\n",
       "    }\n",
       "\n",
       "    // Add hover states to the ui-buttons\n",
       "    $( \".ui-button\" ).hover(\n",
       "        function() { $(this).addClass(\"ui-state-hover\");},\n",
       "        function() { $(this).removeClass(\"ui-state-hover\");}\n",
       "    );\n",
       "\n",
       "    var status_bar = $('<span class=\"mpl-message\"/>');\n",
       "    nav_element.append(status_bar);\n",
       "    this.message = status_bar[0];\n",
       "}\n",
       "\n",
       "mpl.figure.prototype.request_resize = function(x_pixels, y_pixels) {\n",
       "    // Request matplotlib to resize the figure. Matplotlib will then trigger a resize in the client,\n",
       "    // which will in turn request a refresh of the image.\n",
       "    this.send_message('resize', {'width': x_pixels, 'height': y_pixels});\n",
       "}\n",
       "\n",
       "mpl.figure.prototype.send_message = function(type, properties) {\n",
       "    properties['type'] = type;\n",
       "    properties['figure_id'] = this.id;\n",
       "    this.ws.send(JSON.stringify(properties));\n",
       "}\n",
       "\n",
       "mpl.figure.prototype.send_draw_message = function() {\n",
       "    if (!this.waiting) {\n",
       "        this.waiting = true;\n",
       "        this.ws.send(JSON.stringify({type: \"draw\", figure_id: this.id}));\n",
       "    }\n",
       "}\n",
       "\n",
       "\n",
       "mpl.figure.prototype.handle_save = function(fig, msg) {\n",
       "    var format_dropdown = fig.format_dropdown;\n",
       "    var format = format_dropdown.options[format_dropdown.selectedIndex].value;\n",
       "    fig.ondownload(fig, format);\n",
       "}\n",
       "\n",
       "\n",
       "mpl.figure.prototype.handle_resize = function(fig, msg) {\n",
       "    var size = msg['size'];\n",
       "    if (size[0] != fig.canvas.width || size[1] != fig.canvas.height) {\n",
       "        fig._resize_canvas(size[0], size[1]);\n",
       "        fig.send_message(\"refresh\", {});\n",
       "    };\n",
       "}\n",
       "\n",
       "mpl.figure.prototype.handle_rubberband = function(fig, msg) {\n",
       "    var x0 = msg['x0'] / mpl.ratio;\n",
       "    var y0 = (fig.canvas.height - msg['y0']) / mpl.ratio;\n",
       "    var x1 = msg['x1'] / mpl.ratio;\n",
       "    var y1 = (fig.canvas.height - msg['y1']) / mpl.ratio;\n",
       "    x0 = Math.floor(x0) + 0.5;\n",
       "    y0 = Math.floor(y0) + 0.5;\n",
       "    x1 = Math.floor(x1) + 0.5;\n",
       "    y1 = Math.floor(y1) + 0.5;\n",
       "    var min_x = Math.min(x0, x1);\n",
       "    var min_y = Math.min(y0, y1);\n",
       "    var width = Math.abs(x1 - x0);\n",
       "    var height = Math.abs(y1 - y0);\n",
       "\n",
       "    fig.rubberband_context.clearRect(\n",
       "        0, 0, fig.canvas.width, fig.canvas.height);\n",
       "\n",
       "    fig.rubberband_context.strokeRect(min_x, min_y, width, height);\n",
       "}\n",
       "\n",
       "mpl.figure.prototype.handle_figure_label = function(fig, msg) {\n",
       "    // Updates the figure title.\n",
       "    fig.header.textContent = msg['label'];\n",
       "}\n",
       "\n",
       "mpl.figure.prototype.handle_cursor = function(fig, msg) {\n",
       "    var cursor = msg['cursor'];\n",
       "    switch(cursor)\n",
       "    {\n",
       "    case 0:\n",
       "        cursor = 'pointer';\n",
       "        break;\n",
       "    case 1:\n",
       "        cursor = 'default';\n",
       "        break;\n",
       "    case 2:\n",
       "        cursor = 'crosshair';\n",
       "        break;\n",
       "    case 3:\n",
       "        cursor = 'move';\n",
       "        break;\n",
       "    }\n",
       "    fig.rubberband_canvas.style.cursor = cursor;\n",
       "}\n",
       "\n",
       "mpl.figure.prototype.handle_message = function(fig, msg) {\n",
       "    fig.message.textContent = msg['message'];\n",
       "}\n",
       "\n",
       "mpl.figure.prototype.handle_draw = function(fig, msg) {\n",
       "    // Request the server to send over a new figure.\n",
       "    fig.send_draw_message();\n",
       "}\n",
       "\n",
       "mpl.figure.prototype.handle_image_mode = function(fig, msg) {\n",
       "    fig.image_mode = msg['mode'];\n",
       "}\n",
       "\n",
       "mpl.figure.prototype.updated_canvas_event = function() {\n",
       "    // Called whenever the canvas gets updated.\n",
       "    this.send_message(\"ack\", {});\n",
       "}\n",
       "\n",
       "// A function to construct a web socket function for onmessage handling.\n",
       "// Called in the figure constructor.\n",
       "mpl.figure.prototype._make_on_message_function = function(fig) {\n",
       "    return function socket_on_message(evt) {\n",
       "        if (evt.data instanceof Blob) {\n",
       "            /* FIXME: We get \"Resource interpreted as Image but\n",
       "             * transferred with MIME type text/plain:\" errors on\n",
       "             * Chrome.  But how to set the MIME type?  It doesn't seem\n",
       "             * to be part of the websocket stream */\n",
       "            evt.data.type = \"image/png\";\n",
       "\n",
       "            /* Free the memory for the previous frames */\n",
       "            if (fig.imageObj.src) {\n",
       "                (window.URL || window.webkitURL).revokeObjectURL(\n",
       "                    fig.imageObj.src);\n",
       "            }\n",
       "\n",
       "            fig.imageObj.src = (window.URL || window.webkitURL).createObjectURL(\n",
       "                evt.data);\n",
       "            fig.updated_canvas_event();\n",
       "            fig.waiting = false;\n",
       "            return;\n",
       "        }\n",
       "        else if (typeof evt.data === 'string' && evt.data.slice(0, 21) == \"data:image/png;base64\") {\n",
       "            fig.imageObj.src = evt.data;\n",
       "            fig.updated_canvas_event();\n",
       "            fig.waiting = false;\n",
       "            return;\n",
       "        }\n",
       "\n",
       "        var msg = JSON.parse(evt.data);\n",
       "        var msg_type = msg['type'];\n",
       "\n",
       "        // Call the  \"handle_{type}\" callback, which takes\n",
       "        // the figure and JSON message as its only arguments.\n",
       "        try {\n",
       "            var callback = fig[\"handle_\" + msg_type];\n",
       "        } catch (e) {\n",
       "            console.log(\"No handler for the '\" + msg_type + \"' message type: \", msg);\n",
       "            return;\n",
       "        }\n",
       "\n",
       "        if (callback) {\n",
       "            try {\n",
       "                // console.log(\"Handling '\" + msg_type + \"' message: \", msg);\n",
       "                callback(fig, msg);\n",
       "            } catch (e) {\n",
       "                console.log(\"Exception inside the 'handler_\" + msg_type + \"' callback:\", e, e.stack, msg);\n",
       "            }\n",
       "        }\n",
       "    };\n",
       "}\n",
       "\n",
       "// from http://stackoverflow.com/questions/1114465/getting-mouse-location-in-canvas\n",
       "mpl.findpos = function(e) {\n",
       "    //this section is from http://www.quirksmode.org/js/events_properties.html\n",
       "    var targ;\n",
       "    if (!e)\n",
       "        e = window.event;\n",
       "    if (e.target)\n",
       "        targ = e.target;\n",
       "    else if (e.srcElement)\n",
       "        targ = e.srcElement;\n",
       "    if (targ.nodeType == 3) // defeat Safari bug\n",
       "        targ = targ.parentNode;\n",
       "\n",
       "    // jQuery normalizes the pageX and pageY\n",
       "    // pageX,Y are the mouse positions relative to the document\n",
       "    // offset() returns the position of the element relative to the document\n",
       "    var x = e.pageX - $(targ).offset().left;\n",
       "    var y = e.pageY - $(targ).offset().top;\n",
       "\n",
       "    return {\"x\": x, \"y\": y};\n",
       "};\n",
       "\n",
       "/*\n",
       " * return a copy of an object with only non-object keys\n",
       " * we need this to avoid circular references\n",
       " * http://stackoverflow.com/a/24161582/3208463\n",
       " */\n",
       "function simpleKeys (original) {\n",
       "  return Object.keys(original).reduce(function (obj, key) {\n",
       "    if (typeof original[key] !== 'object')\n",
       "        obj[key] = original[key]\n",
       "    return obj;\n",
       "  }, {});\n",
       "}\n",
       "\n",
       "mpl.figure.prototype.mouse_event = function(event, name) {\n",
       "    var canvas_pos = mpl.findpos(event)\n",
       "\n",
       "    if (name === 'button_press')\n",
       "    {\n",
       "        this.canvas.focus();\n",
       "        this.canvas_div.focus();\n",
       "    }\n",
       "\n",
       "    var x = canvas_pos.x * mpl.ratio;\n",
       "    var y = canvas_pos.y * mpl.ratio;\n",
       "\n",
       "    this.send_message(name, {x: x, y: y, button: event.button,\n",
       "                             step: event.step,\n",
       "                             guiEvent: simpleKeys(event)});\n",
       "\n",
       "    /* This prevents the web browser from automatically changing to\n",
       "     * the text insertion cursor when the button is pressed.  We want\n",
       "     * to control all of the cursor setting manually through the\n",
       "     * 'cursor' event from matplotlib */\n",
       "    event.preventDefault();\n",
       "    return false;\n",
       "}\n",
       "\n",
       "mpl.figure.prototype._key_event_extra = function(event, name) {\n",
       "    // Handle any extra behaviour associated with a key event\n",
       "}\n",
       "\n",
       "mpl.figure.prototype.key_event = function(event, name) {\n",
       "\n",
       "    // Prevent repeat events\n",
       "    if (name == 'key_press')\n",
       "    {\n",
       "        if (event.which === this._key)\n",
       "            return;\n",
       "        else\n",
       "            this._key = event.which;\n",
       "    }\n",
       "    if (name == 'key_release')\n",
       "        this._key = null;\n",
       "\n",
       "    var value = '';\n",
       "    if (event.ctrlKey && event.which != 17)\n",
       "        value += \"ctrl+\";\n",
       "    if (event.altKey && event.which != 18)\n",
       "        value += \"alt+\";\n",
       "    if (event.shiftKey && event.which != 16)\n",
       "        value += \"shift+\";\n",
       "\n",
       "    value += 'k';\n",
       "    value += event.which.toString();\n",
       "\n",
       "    this._key_event_extra(event, name);\n",
       "\n",
       "    this.send_message(name, {key: value,\n",
       "                             guiEvent: simpleKeys(event)});\n",
       "    return false;\n",
       "}\n",
       "\n",
       "mpl.figure.prototype.toolbar_button_onclick = function(name) {\n",
       "    if (name == 'download') {\n",
       "        this.handle_save(this, null);\n",
       "    } else {\n",
       "        this.send_message(\"toolbar_button\", {name: name});\n",
       "    }\n",
       "};\n",
       "\n",
       "mpl.figure.prototype.toolbar_button_onmouseover = function(tooltip) {\n",
       "    this.message.textContent = tooltip;\n",
       "};\n",
       "mpl.toolbar_items = [[\"Home\", \"Reset original view\", \"fa fa-home icon-home\", \"home\"], [\"Back\", \"Back to  previous view\", \"fa fa-arrow-left icon-arrow-left\", \"back\"], [\"Forward\", \"Forward to next view\", \"fa fa-arrow-right icon-arrow-right\", \"forward\"], [\"\", \"\", \"\", \"\"], [\"Pan\", \"Pan axes with left mouse, zoom with right\", \"fa fa-arrows icon-move\", \"pan\"], [\"Zoom\", \"Zoom to rectangle\", \"fa fa-square-o icon-check-empty\", \"zoom\"], [\"\", \"\", \"\", \"\"], [\"Download\", \"Download plot\", \"fa fa-floppy-o icon-save\", \"download\"]];\n",
       "\n",
       "mpl.extensions = [\"eps\", \"jpeg\", \"pdf\", \"png\", \"ps\", \"raw\", \"svg\", \"tif\"];\n",
       "\n",
       "mpl.default_extension = \"png\";var comm_websocket_adapter = function(comm) {\n",
       "    // Create a \"websocket\"-like object which calls the given IPython comm\n",
       "    // object with the appropriate methods. Currently this is a non binary\n",
       "    // socket, so there is still some room for performance tuning.\n",
       "    var ws = {};\n",
       "\n",
       "    ws.close = function() {\n",
       "        comm.close()\n",
       "    };\n",
       "    ws.send = function(m) {\n",
       "        //console.log('sending', m);\n",
       "        comm.send(m);\n",
       "    };\n",
       "    // Register the callback with on_msg.\n",
       "    comm.on_msg(function(msg) {\n",
       "        //console.log('receiving', msg['content']['data'], msg);\n",
       "        // Pass the mpl event to the overriden (by mpl) onmessage function.\n",
       "        ws.onmessage(msg['content']['data'])\n",
       "    });\n",
       "    return ws;\n",
       "}\n",
       "\n",
       "mpl.mpl_figure_comm = function(comm, msg) {\n",
       "    // This is the function which gets called when the mpl process\n",
       "    // starts-up an IPython Comm through the \"matplotlib\" channel.\n",
       "\n",
       "    var id = msg.content.data.id;\n",
       "    // Get hold of the div created by the display call when the Comm\n",
       "    // socket was opened in Python.\n",
       "    var element = $(\"#\" + id);\n",
       "    var ws_proxy = comm_websocket_adapter(comm)\n",
       "\n",
       "    function ondownload(figure, format) {\n",
       "        window.open(figure.imageObj.src);\n",
       "    }\n",
       "\n",
       "    var fig = new mpl.figure(id, ws_proxy,\n",
       "                           ondownload,\n",
       "                           element.get(0));\n",
       "\n",
       "    // Call onopen now - mpl needs it, as it is assuming we've passed it a real\n",
       "    // web socket which is closed, not our websocket->open comm proxy.\n",
       "    ws_proxy.onopen();\n",
       "\n",
       "    fig.parent_element = element.get(0);\n",
       "    fig.cell_info = mpl.find_output_cell(\"<div id='\" + id + \"'></div>\");\n",
       "    if (!fig.cell_info) {\n",
       "        console.error(\"Failed to find cell for figure\", id, fig);\n",
       "        return;\n",
       "    }\n",
       "\n",
       "    var output_index = fig.cell_info[2]\n",
       "    var cell = fig.cell_info[0];\n",
       "\n",
       "};\n",
       "\n",
       "mpl.figure.prototype.handle_close = function(fig, msg) {\n",
       "    var width = fig.canvas.width/mpl.ratio\n",
       "    fig.root.unbind('remove')\n",
       "\n",
       "    // Update the output cell to use the data from the current canvas.\n",
       "    fig.push_to_output();\n",
       "    var dataURL = fig.canvas.toDataURL();\n",
       "    // Re-enable the keyboard manager in IPython - without this line, in FF,\n",
       "    // the notebook keyboard shortcuts fail.\n",
       "    IPython.keyboard_manager.enable()\n",
       "    $(fig.parent_element).html('<img src=\"' + dataURL + '\" width=\"' + width + '\">');\n",
       "    fig.close_ws(fig, msg);\n",
       "}\n",
       "\n",
       "mpl.figure.prototype.close_ws = function(fig, msg){\n",
       "    fig.send_message('closing', msg);\n",
       "    // fig.ws.close()\n",
       "}\n",
       "\n",
       "mpl.figure.prototype.push_to_output = function(remove_interactive) {\n",
       "    // Turn the data on the canvas into data in the output cell.\n",
       "    var width = this.canvas.width/mpl.ratio\n",
       "    var dataURL = this.canvas.toDataURL();\n",
       "    this.cell_info[1]['text/html'] = '<img src=\"' + dataURL + '\" width=\"' + width + '\">';\n",
       "}\n",
       "\n",
       "mpl.figure.prototype.updated_canvas_event = function() {\n",
       "    // Tell IPython that the notebook contents must change.\n",
       "    IPython.notebook.set_dirty(true);\n",
       "    this.send_message(\"ack\", {});\n",
       "    var fig = this;\n",
       "    // Wait a second, then push the new image to the DOM so\n",
       "    // that it is saved nicely (might be nice to debounce this).\n",
       "    setTimeout(function () { fig.push_to_output() }, 1000);\n",
       "}\n",
       "\n",
       "mpl.figure.prototype._init_toolbar = function() {\n",
       "    var fig = this;\n",
       "\n",
       "    var nav_element = $('<div/>')\n",
       "    nav_element.attr('style', 'width: 100%');\n",
       "    this.root.append(nav_element);\n",
       "\n",
       "    // Define a callback function for later on.\n",
       "    function toolbar_event(event) {\n",
       "        return fig.toolbar_button_onclick(event['data']);\n",
       "    }\n",
       "    function toolbar_mouse_event(event) {\n",
       "        return fig.toolbar_button_onmouseover(event['data']);\n",
       "    }\n",
       "\n",
       "    for(var toolbar_ind in mpl.toolbar_items){\n",
       "        var name = mpl.toolbar_items[toolbar_ind][0];\n",
       "        var tooltip = mpl.toolbar_items[toolbar_ind][1];\n",
       "        var image = mpl.toolbar_items[toolbar_ind][2];\n",
       "        var method_name = mpl.toolbar_items[toolbar_ind][3];\n",
       "\n",
       "        if (!name) { continue; };\n",
       "\n",
       "        var button = $('<button class=\"btn btn-default\" href=\"#\" title=\"' + name + '\"><i class=\"fa ' + image + ' fa-lg\"></i></button>');\n",
       "        button.click(method_name, toolbar_event);\n",
       "        button.mouseover(tooltip, toolbar_mouse_event);\n",
       "        nav_element.append(button);\n",
       "    }\n",
       "\n",
       "    // Add the status bar.\n",
       "    var status_bar = $('<span class=\"mpl-message\" style=\"text-align:right; float: right;\"/>');\n",
       "    nav_element.append(status_bar);\n",
       "    this.message = status_bar[0];\n",
       "\n",
       "    // Add the close button to the window.\n",
       "    var buttongrp = $('<div class=\"btn-group inline pull-right\"></div>');\n",
       "    var button = $('<button class=\"btn btn-mini btn-primary\" href=\"#\" title=\"Stop Interaction\"><i class=\"fa fa-power-off icon-remove icon-large\"></i></button>');\n",
       "    button.click(function (evt) { fig.handle_close(fig, {}); } );\n",
       "    button.mouseover('Stop Interaction', toolbar_mouse_event);\n",
       "    buttongrp.append(button);\n",
       "    var titlebar = this.root.find($('.ui-dialog-titlebar'));\n",
       "    titlebar.prepend(buttongrp);\n",
       "}\n",
       "\n",
       "mpl.figure.prototype._root_extra_style = function(el){\n",
       "    var fig = this\n",
       "    el.on(\"remove\", function(){\n",
       "\tfig.close_ws(fig, {});\n",
       "    });\n",
       "}\n",
       "\n",
       "mpl.figure.prototype._canvas_extra_style = function(el){\n",
       "    // this is important to make the div 'focusable\n",
       "    el.attr('tabindex', 0)\n",
       "    // reach out to IPython and tell the keyboard manager to turn it's self\n",
       "    // off when our div gets focus\n",
       "\n",
       "    // location in version 3\n",
       "    if (IPython.notebook.keyboard_manager) {\n",
       "        IPython.notebook.keyboard_manager.register_events(el);\n",
       "    }\n",
       "    else {\n",
       "        // location in version 2\n",
       "        IPython.keyboard_manager.register_events(el);\n",
       "    }\n",
       "\n",
       "}\n",
       "\n",
       "mpl.figure.prototype._key_event_extra = function(event, name) {\n",
       "    var manager = IPython.notebook.keyboard_manager;\n",
       "    if (!manager)\n",
       "        manager = IPython.keyboard_manager;\n",
       "\n",
       "    // Check for shift+enter\n",
       "    if (event.shiftKey && event.which == 13) {\n",
       "        this.canvas_div.blur();\n",
       "        // select the cell after this one\n",
       "        var index = IPython.notebook.find_cell_index(this.cell_info[0]);\n",
       "        IPython.notebook.select(index + 1);\n",
       "    }\n",
       "}\n",
       "\n",
       "mpl.figure.prototype.handle_save = function(fig, msg) {\n",
       "    fig.ondownload(fig, null);\n",
       "}\n",
       "\n",
       "\n",
       "mpl.find_output_cell = function(html_output) {\n",
       "    // Return the cell and output element which can be found *uniquely* in the notebook.\n",
       "    // Note - this is a bit hacky, but it is done because the \"notebook_saving.Notebook\"\n",
       "    // IPython event is triggered only after the cells have been serialised, which for\n",
       "    // our purposes (turning an active figure into a static one), is too late.\n",
       "    var cells = IPython.notebook.get_cells();\n",
       "    var ncells = cells.length;\n",
       "    for (var i=0; i<ncells; i++) {\n",
       "        var cell = cells[i];\n",
       "        if (cell.cell_type === 'code'){\n",
       "            for (var j=0; j<cell.output_area.outputs.length; j++) {\n",
       "                var data = cell.output_area.outputs[j];\n",
       "                if (data.data) {\n",
       "                    // IPython >= 3 moved mimebundle to data attribute of output\n",
       "                    data = data.data;\n",
       "                }\n",
       "                if (data['text/html'] == html_output) {\n",
       "                    return [cell, data, j];\n",
       "                }\n",
       "            }\n",
       "        }\n",
       "    }\n",
       "}\n",
       "\n",
       "// Register the function which deals with the matplotlib target/channel.\n",
       "// The kernel may be null if the page has been refreshed.\n",
       "if (IPython.notebook.kernel != null) {\n",
       "    IPython.notebook.kernel.comm_manager.register_target('matplotlib', mpl.mpl_figure_comm);\n",
       "}\n"
      ],
      "text/plain": [
       "<IPython.core.display.Javascript object>"
      ]
     },
     "metadata": {},
     "output_type": "display_data"
    },
    {
     "data": {
      "text/html": [
       "<img src=\"data:image/png;base64,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\" width=\"640\">"
      ],
      "text/plain": [
       "<IPython.core.display.HTML object>"
      ]
     },
     "metadata": {},
     "output_type": "display_data"
    }
   ],
   "source": [
    "# The Canvas\n",
    "\n",
    "fig = plt.figure() # creates an empty canvas"
   ]
  },
  {
   "cell_type": "code",
   "execution_count": 4,
   "metadata": {
    "collapsed": true,
    "nbpresent": {
     "id": "fb419ae5-02ac-4121-b5cd-2278799f4142"
    }
   },
   "outputs": [],
   "source": [
    "%matplotlib inline"
   ]
  },
  {
   "cell_type": "markdown",
   "metadata": {
    "nbpresent": {
     "id": "2967e392-9de5-491f-a71b-5d61b7bd865f"
    }
   },
   "source": [
    "## Subplots"
   ]
  },
  {
   "cell_type": "code",
   "execution_count": 5,
   "metadata": {
    "collapsed": true,
    "nbpresent": {
     "id": "c98cb714-04a8-44c4-97f8-bfbc469ee51d"
    }
   },
   "outputs": [],
   "source": [
    "x = [1,2,3,4]\n",
    "y = [1,4,8,10]"
   ]
  },
  {
   "cell_type": "code",
   "execution_count": 6,
   "metadata": {
    "collapsed": false,
    "nbpresent": {
     "id": "e1e8cd70-6fd9-4835-a94f-3eece9ed33ae"
    }
   },
   "outputs": [
    {
     "data": {
      "text/plain": [
       "<matplotlib.collections.PathCollection at 0x2c7ddccd978>"
      ]
     },
     "execution_count": 6,
     "metadata": {},
     "output_type": "execute_result"
    },
    {
     "data": {
      "image/png": "[encoded data removed]",
      "text/plain": [
       "<matplotlib.figure.Figure at 0x2c7e1e8e588>"
      ]
     },
     "metadata": {},
     "output_type": "display_data"
    }
   ],
   "source": [
    "# Scatter plot\n",
    "plt.scatter(x, y)"
   ]
  },
  {
   "cell_type": "code",
   "execution_count": 7,
   "metadata": {
    "collapsed": false,
    "nbpresent": {
     "id": "1de59ca1-8085-4633-8174-a16b9490ea33"
    }
   },
   "outputs": [
    {
     "data": {
      "text/plain": [
       "(array([ 1.,  0.,  0.,  1.,  0.,  0.,  1.,  0.,  0.,  1.]),\n",
       " array([ 1. ,  1.3,  1.6,  1.9,  2.2,  2.5,  2.8,  3.1,  3.4,  3.7,  4. ]),\n",
       " <a list of 10 Patch objects>)"
      ]
     },
     "execution_count": 7,
     "metadata": {},
     "output_type": "execute_result"
    },
    {
     "data": {
      "image/png": "[encoded data removed]",
      "text/plain": [
       "<matplotlib.figure.Figure at 0x2c7e3183be0>"
      ]
     },
     "metadata": {},
     "output_type": "display_data"
    }
   ],
   "source": [
    "# Histogram\n",
    "plt.hist(x)"
   ]
  },
  {
   "cell_type": "code",
   "execution_count": 8,
   "metadata": {
    "collapsed": false,
    "nbpresent": {
     "id": "73d70058-ac61-469e-9a06-5ab9bf68258f"
    }
   },
   "outputs": [
    {
     "data": {
      "text/plain": [
       "{'boxes': [<matplotlib.lines.Line2D at 0x2c7e3273e48>],\n",
       " 'caps': [<matplotlib.lines.Line2D at 0x2c7e3282e48>,\n",
       "  <matplotlib.lines.Line2D at 0x2c7e3282fd0>],\n",
       " 'fliers': [<matplotlib.lines.Line2D at 0x2c7e328bc50>],\n",
       " 'means': [],\n",
       " 'medians': [<matplotlib.lines.Line2D at 0x2c7e32869e8>],\n",
       " 'whiskers': [<matplotlib.lines.Line2D at 0x2c7e327ca90>,\n",
       "  <matplotlib.lines.Line2D at 0x2c7e327cc18>]}"
      ]
     },
     "execution_count": 8,
     "metadata": {},
     "output_type": "execute_result"
    },
    {
     "data": {
      "image/png": "[encoded data removed]",
      "text/plain": [
       "<matplotlib.figure.Figure at 0x2c7e3183320>"
      ]
     },
     "metadata": {},
     "output_type": "display_data"
    }
   ],
   "source": [
    "plt.boxplot(x)"
   ]
  },
  {
   "cell_type": "markdown",
   "metadata": {},
   "source": [
    "#### * This link takes you to a gallery with a lot of different kinds of subplot types http://matplotlib.org/gallery.html *"
   ]
  },
  {
   "cell_type": "markdown",
   "metadata": {
    "collapsed": true,
    "nbpresent": {
     "id": "8d609aa3-627b-4506-92c7-c3f5f54a3f6b"
    }
   },
   "source": [
    "## Customization"
   ]
  },
  {
   "cell_type": "markdown",
   "metadata": {
    "nbpresent": {
     "id": "7eac9f9e-28c1-496a-9f91-2c0b27a8fa6a"
    }
   },
   "source": [
    "### * Labels*"
   ]
  },
  {
   "cell_type": "code",
   "execution_count": 10,
   "metadata": {
    "collapsed": false,
    "nbpresent": {
     "id": "bd2b8599-886a-4e57-af7f-cb0fc787b140"
    }
   },
   "outputs": [
    {
     "data": {
      "text/plain": [
       "<matplotlib.legend.Legend at 0x279c3ddbf98>"
      ]
     },
     "execution_count": 10,
     "metadata": {},
     "output_type": "execute_result"
    },
    {
     "data": {
      "image/png": "[encoded data removed]",
      "text/plain": [
       "<matplotlib.figure.Figure at 0x279c3d88470>"
      ]
     },
     "metadata": {},
     "output_type": "display_data"
    }
   ],
   "source": [
    "# I'm using a scatter plot as an example, but the label methods will work for any plot type\n",
    "plt.scatter(x, y, label = \"Dots\")\n",
    "plt.xlabel('X_axis Label')\n",
    "plt.ylabel('Y_axis Label')\n",
    "plt.title('Figure Title')\n",
    "plt.legend(loc = 0, frameon= True, title = \"Legend Title\")\n"
   ]
  },
  {
   "cell_type": "markdown",
   "metadata": {
    "nbpresent": {
     "id": "f79b6982-9658-41e2-9251-c15409c18648"
    }
   },
   "source": [
    "### * subplot parameters*\n",
    "\n",
    "The parameters are pretty consistant, c is alway the color parameter, BUT unlike labels not all keyword arguments are valid for EVERY type of subplot. E.G. a pie chart doesn't have markers, so that keyword can't be used for pie plots"
   ]
  },
  {
   "cell_type": "code",
   "execution_count": 31,
   "metadata": {
    "collapsed": false,
    "nbpresent": {
     "id": "cd3b19d2-cf79-45d7-866d-4a989d20b2d2"
    }
   },
   "outputs": [
    {
     "data": {
      "text/plain": [
       "<matplotlib.collections.PathCollection at 0x2092e4ce438>"
      ]
     },
     "execution_count": 31,
     "metadata": {},
     "output_type": "execute_result"
    },
    {
     "data": {
      "image/png": "[encoded data removed]",
      "text/plain": [
       "<matplotlib.figure.Figure at 0x2092e417630>"
      ]
     },
     "metadata": {},
     "output_type": "display_data"
    }
   ],
   "source": [
    "# subplot parameters\n",
    "plt.scatter(x, y, marker = 'H', s=[100,200,300,400], c='lightslategray', label = \"Dots\")\n",
    "# marker types https://matplotlib.org/api/markers_api.html\n",
    "# s = size of marker\n",
    "# c = color , r -> red, b -> blue, g -> green\n",
    "#label = what the legend will label it as"
   ]
  },
  {
   "cell_type": "code",
   "execution_count": 11,
   "metadata": {
    "collapsed": false,
    "nbpresent": {
     "id": "01deeaf4-e933-4cc1-bddc-cad0a422d0fb"
    }
   },
   "outputs": [
    {
     "data": {
      "text/plain": [
       "[<matplotlib.lines.Line2D at 0x279c3e597b8>]"
      ]
     },
     "execution_count": 11,
     "metadata": {},
     "output_type": "execute_result"
    },
    {
     "data": {
      "image/png": "[encoded data removed]",
      "text/plain": [
       "<matplotlib.figure.Figure at 0x279c3d8c0f0>"
      ]
     },
     "metadata": {},
     "output_type": "display_data"
    }
   ],
   "source": [
    "# another example \n",
    "plt.plot(x, y, linestyle='--', linewidth= 10, marker = None, c='R', label = \"lines\")\n",
    "\n",
    "# note: the default plot is the lineplot"
   ]
  },
  {
   "cell_type": "markdown",
   "metadata": {
    "nbpresent": {
     "id": "a891d493-c940-4c43-a62a-6d5c33180eec"
    }
   },
   "source": [
    "### * Axes *\n",
    "\n",
    "Okay, this is where it get a little convoluted"
   ]
  },
  {
   "cell_type": "code",
   "execution_count": 9,
   "metadata": {
    "collapsed": false,
    "nbpresent": {
     "id": "d3af1a32-90ed-4cc4-b26e-482198ae4fda"
    }
   },
   "outputs": [
    {
     "data": {
      "application/javascript": [
       "/* Put everything inside the global mpl namespace */\n",
       "window.mpl = {};\n",
       "\n",
       "\n",
       "mpl.get_websocket_type = function() {\n",
       "    if (typeof(WebSocket) !== 'undefined') {\n",
       "        return WebSocket;\n",
       "    } else if (typeof(MozWebSocket) !== 'undefined') {\n",
       "        return MozWebSocket;\n",
       "    } else {\n",
       "        alert('Your browser does not have WebSocket support.' +\n",
       "              'Please try Chrome, Safari or Firefox ≥ 6. ' +\n",
       "              'Firefox 4 and 5 are also supported but you ' +\n",
       "              'have to enable WebSockets in about:config.');\n",
       "    };\n",
       "}\n",
       "\n",
       "mpl.figure = function(figure_id, websocket, ondownload, parent_element) {\n",
       "    this.id = figure_id;\n",
       "\n",
       "    this.ws = websocket;\n",
       "\n",
       "    this.supports_binary = (this.ws.binaryType != undefined);\n",
       "\n",
       "    if (!this.supports_binary) {\n",
       "        var warnings = document.getElementById(\"mpl-warnings\");\n",
       "        if (warnings) {\n",
       "            warnings.style.display = 'block';\n",
       "            warnings.textContent = (\n",
       "                \"This browser does not support binary websocket messages. \" +\n",
       "                    \"Performance may be slow.\");\n",
       "        }\n",
       "    }\n",
       "\n",
       "    this.imageObj = new Image();\n",
       "\n",
       "    this.context = undefined;\n",
       "    this.message = undefined;\n",
       "    this.canvas = undefined;\n",
       "    this.rubberband_canvas = undefined;\n",
       "    this.rubberband_context = undefined;\n",
       "    this.format_dropdown = undefined;\n",
       "\n",
       "    this.image_mode = 'full';\n",
       "\n",
       "    this.root = $('<div/>');\n",
       "    this._root_extra_style(this.root)\n",
       "    this.root.attr('style', 'display: inline-block');\n",
       "\n",
       "    $(parent_element).append(this.root);\n",
       "\n",
       "    this._init_header(this);\n",
       "    this._init_canvas(this);\n",
       "    this._init_toolbar(this);\n",
       "\n",
       "    var fig = this;\n",
       "\n",
       "    this.waiting = false;\n",
       "\n",
       "    this.ws.onopen =  function () {\n",
       "            fig.send_message(\"supports_binary\", {value: fig.supports_binary});\n",
       "            fig.send_message(\"send_image_mode\", {});\n",
       "            if (mpl.ratio != 1) {\n",
       "                fig.send_message(\"set_dpi_ratio\", {'dpi_ratio': mpl.ratio});\n",
       "            }\n",
       "            fig.send_message(\"refresh\", {});\n",
       "        }\n",
       "\n",
       "    this.imageObj.onload = function() {\n",
       "            if (fig.image_mode == 'full') {\n",
       "                // Full images could contain transparency (where diff images\n",
       "                // almost always do), so we need to clear the canvas so that\n",
       "                // there is no ghosting.\n",
       "                fig.context.clearRect(0, 0, fig.canvas.width, fig.canvas.height);\n",
       "            }\n",
       "            fig.context.drawImage(fig.imageObj, 0, 0);\n",
       "        };\n",
       "\n",
       "    this.imageObj.onunload = function() {\n",
       "        this.ws.close();\n",
       "    }\n",
       "\n",
       "    this.ws.onmessage = this._make_on_message_function(this);\n",
       "\n",
       "    this.ondownload = ondownload;\n",
       "}\n",
       "\n",
       "mpl.figure.prototype._init_header = function() {\n",
       "    var titlebar = $(\n",
       "        '<div class=\"ui-dialog-titlebar ui-widget-header ui-corner-all ' +\n",
       "        'ui-helper-clearfix\"/>');\n",
       "    var titletext = $(\n",
       "        '<div class=\"ui-dialog-title\" style=\"width: 100%; ' +\n",
       "        'text-align: center; padding: 3px;\"/>');\n",
       "    titlebar.append(titletext)\n",
       "    this.root.append(titlebar);\n",
       "    this.header = titletext[0];\n",
       "}\n",
       "\n",
       "\n",
       "\n",
       "mpl.figure.prototype._canvas_extra_style = function(canvas_div) {\n",
       "\n",
       "}\n",
       "\n",
       "\n",
       "mpl.figure.prototype._root_extra_style = function(canvas_div) {\n",
       "\n",
       "}\n",
       "\n",
       "mpl.figure.prototype._init_canvas = function() {\n",
       "    var fig = this;\n",
       "\n",
       "    var canvas_div = $('<div/>');\n",
       "\n",
       "    canvas_div.attr('style', 'position: relative; clear: both; outline: 0');\n",
       "\n",
       "    function canvas_keyboard_event(event) {\n",
       "        return fig.key_event(event, event['data']);\n",
       "    }\n",
       "\n",
       "    canvas_div.keydown('key_press', canvas_keyboard_event);\n",
       "    canvas_div.keyup('key_release', canvas_keyboard_event);\n",
       "    this.canvas_div = canvas_div\n",
       "    this._canvas_extra_style(canvas_div)\n",
       "    this.root.append(canvas_div);\n",
       "\n",
       "    var canvas = $('<canvas/>');\n",
       "    canvas.addClass('mpl-canvas');\n",
       "    canvas.attr('style', \"left: 0; top: 0; z-index: 0; outline: 0\")\n",
       "\n",
       "    this.canvas = canvas[0];\n",
       "    this.context = canvas[0].getContext(\"2d\");\n",
       "\n",
       "    var backingStore = this.context.backingStorePixelRatio ||\n",
       "\tthis.context.webkitBackingStorePixelRatio ||\n",
       "\tthis.context.mozBackingStorePixelRatio ||\n",
       "\tthis.context.msBackingStorePixelRatio ||\n",
       "\tthis.context.oBackingStorePixelRatio ||\n",
       "\tthis.context.backingStorePixelRatio || 1;\n",
       "\n",
       "    mpl.ratio = (window.devicePixelRatio || 1) / backingStore;\n",
       "\n",
       "    var rubberband = $('<canvas/>');\n",
       "    rubberband.attr('style', \"position: absolute; left: 0; top: 0; z-index: 1;\")\n",
       "\n",
       "    var pass_mouse_events = true;\n",
       "\n",
       "    canvas_div.resizable({\n",
       "        start: function(event, ui) {\n",
       "            pass_mouse_events = false;\n",
       "        },\n",
       "        resize: function(event, ui) {\n",
       "            fig.request_resize(ui.size.width, ui.size.height);\n",
       "        },\n",
       "        stop: function(event, ui) {\n",
       "            pass_mouse_events = true;\n",
       "            fig.request_resize(ui.size.width, ui.size.height);\n",
       "        },\n",
       "    });\n",
       "\n",
       "    function mouse_event_fn(event) {\n",
       "        if (pass_mouse_events)\n",
       "            return fig.mouse_event(event, event['data']);\n",
       "    }\n",
       "\n",
       "    rubberband.mousedown('button_press', mouse_event_fn);\n",
       "    rubberband.mouseup('button_release', mouse_event_fn);\n",
       "    // Throttle sequential mouse events to 1 every 20ms.\n",
       "    rubberband.mousemove('motion_notify', mouse_event_fn);\n",
       "\n",
       "    rubberband.mouseenter('figure_enter', mouse_event_fn);\n",
       "    rubberband.mouseleave('figure_leave', mouse_event_fn);\n",
       "\n",
       "    canvas_div.on(\"wheel\", function (event) {\n",
       "        event = event.originalEvent;\n",
       "        event['data'] = 'scroll'\n",
       "        if (event.deltaY < 0) {\n",
       "            event.step = 1;\n",
       "        } else {\n",
       "            event.step = -1;\n",
       "        }\n",
       "        mouse_event_fn(event);\n",
       "    });\n",
       "\n",
       "    canvas_div.append(canvas);\n",
       "    canvas_div.append(rubberband);\n",
       "\n",
       "    this.rubberband = rubberband;\n",
       "    this.rubberband_canvas = rubberband[0];\n",
       "    this.rubberband_context = rubberband[0].getContext(\"2d\");\n",
       "    this.rubberband_context.strokeStyle = \"#000000\";\n",
       "\n",
       "    this._resize_canvas = function(width, height) {\n",
       "        // Keep the size of the canvas, canvas container, and rubber band\n",
       "        // canvas in synch.\n",
       "        canvas_div.css('width', width)\n",
       "        canvas_div.css('height', height)\n",
       "\n",
       "        canvas.attr('width', width * mpl.ratio);\n",
       "        canvas.attr('height', height * mpl.ratio);\n",
       "        canvas.attr('style', 'width: ' + width + 'px; height: ' + height + 'px;');\n",
       "\n",
       "        rubberband.attr('width', width);\n",
       "        rubberband.attr('height', height);\n",
       "    }\n",
       "\n",
       "    // Set the figure to an initial 600x600px, this will subsequently be updated\n",
       "    // upon first draw.\n",
       "    this._resize_canvas(600, 600);\n",
       "\n",
       "    // Disable right mouse context menu.\n",
       "    $(this.rubberband_canvas).bind(\"contextmenu\",function(e){\n",
       "        return false;\n",
       "    });\n",
       "\n",
       "    function set_focus () {\n",
       "        canvas.focus();\n",
       "        canvas_div.focus();\n",
       "    }\n",
       "\n",
       "    window.setTimeout(set_focus, 100);\n",
       "}\n",
       "\n",
       "mpl.figure.prototype._init_toolbar = function() {\n",
       "    var fig = this;\n",
       "\n",
       "    var nav_element = $('<div/>')\n",
       "    nav_element.attr('style', 'width: 100%');\n",
       "    this.root.append(nav_element);\n",
       "\n",
       "    // Define a callback function for later on.\n",
       "    function toolbar_event(event) {\n",
       "        return fig.toolbar_button_onclick(event['data']);\n",
       "    }\n",
       "    function toolbar_mouse_event(event) {\n",
       "        return fig.toolbar_button_onmouseover(event['data']);\n",
       "    }\n",
       "\n",
       "    for(var toolbar_ind in mpl.toolbar_items) {\n",
       "        var name = mpl.toolbar_items[toolbar_ind][0];\n",
       "        var tooltip = mpl.toolbar_items[toolbar_ind][1];\n",
       "        var image = mpl.toolbar_items[toolbar_ind][2];\n",
       "        var method_name = mpl.toolbar_items[toolbar_ind][3];\n",
       "\n",
       "        if (!name) {\n",
       "            // put a spacer in here.\n",
       "            continue;\n",
       "        }\n",
       "        var button = $('<button/>');\n",
       "        button.addClass('ui-button ui-widget ui-state-default ui-corner-all ' +\n",
       "                        'ui-button-icon-only');\n",
       "        button.attr('role', 'button');\n",
       "        button.attr('aria-disabled', 'false');\n",
       "        button.click(method_name, toolbar_event);\n",
       "        button.mouseover(tooltip, toolbar_mouse_event);\n",
       "\n",
       "        var icon_img = $('<span/>');\n",
       "        icon_img.addClass('ui-button-icon-primary ui-icon');\n",
       "        icon_img.addClass(image);\n",
       "        icon_img.addClass('ui-corner-all');\n",
       "\n",
       "        var tooltip_span = $('<span/>');\n",
       "        tooltip_span.addClass('ui-button-text');\n",
       "        tooltip_span.html(tooltip);\n",
       "\n",
       "        button.append(icon_img);\n",
       "        button.append(tooltip_span);\n",
       "\n",
       "        nav_element.append(button);\n",
       "    }\n",
       "\n",
       "    var fmt_picker_span = $('<span/>');\n",
       "\n",
       "    var fmt_picker = $('<select/>');\n",
       "    fmt_picker.addClass('mpl-toolbar-option ui-widget ui-widget-content');\n",
       "    fmt_picker_span.append(fmt_picker);\n",
       "    nav_element.append(fmt_picker_span);\n",
       "    this.format_dropdown = fmt_picker[0];\n",
       "\n",
       "    for (var ind in mpl.extensions) {\n",
       "        var fmt = mpl.extensions[ind];\n",
       "        var option = $(\n",
       "            '<option/>', {selected: fmt === mpl.default_extension}).html(fmt);\n",
       "        fmt_picker.append(option)\n",
       "    }\n",
       "\n",
       "    // Add hover states to the ui-buttons\n",
       "    $( \".ui-button\" ).hover(\n",
       "        function() { $(this).addClass(\"ui-state-hover\");},\n",
       "        function() { $(this).removeClass(\"ui-state-hover\");}\n",
       "    );\n",
       "\n",
       "    var status_bar = $('<span class=\"mpl-message\"/>');\n",
       "    nav_element.append(status_bar);\n",
       "    this.message = status_bar[0];\n",
       "}\n",
       "\n",
       "mpl.figure.prototype.request_resize = function(x_pixels, y_pixels) {\n",
       "    // Request matplotlib to resize the figure. Matplotlib will then trigger a resize in the client,\n",
       "    // which will in turn request a refresh of the image.\n",
       "    this.send_message('resize', {'width': x_pixels, 'height': y_pixels});\n",
       "}\n",
       "\n",
       "mpl.figure.prototype.send_message = function(type, properties) {\n",
       "    properties['type'] = type;\n",
       "    properties['figure_id'] = this.id;\n",
       "    this.ws.send(JSON.stringify(properties));\n",
       "}\n",
       "\n",
       "mpl.figure.prototype.send_draw_message = function() {\n",
       "    if (!this.waiting) {\n",
       "        this.waiting = true;\n",
       "        this.ws.send(JSON.stringify({type: \"draw\", figure_id: this.id}));\n",
       "    }\n",
       "}\n",
       "\n",
       "\n",
       "mpl.figure.prototype.handle_save = function(fig, msg) {\n",
       "    var format_dropdown = fig.format_dropdown;\n",
       "    var format = format_dropdown.options[format_dropdown.selectedIndex].value;\n",
       "    fig.ondownload(fig, format);\n",
       "}\n",
       "\n",
       "\n",
       "mpl.figure.prototype.handle_resize = function(fig, msg) {\n",
       "    var size = msg['size'];\n",
       "    if (size[0] != fig.canvas.width || size[1] != fig.canvas.height) {\n",
       "        fig._resize_canvas(size[0], size[1]);\n",
       "        fig.send_message(\"refresh\", {});\n",
       "    };\n",
       "}\n",
       "\n",
       "mpl.figure.prototype.handle_rubberband = function(fig, msg) {\n",
       "    var x0 = msg['x0'] / mpl.ratio;\n",
       "    var y0 = (fig.canvas.height - msg['y0']) / mpl.ratio;\n",
       "    var x1 = msg['x1'] / mpl.ratio;\n",
       "    var y1 = (fig.canvas.height - msg['y1']) / mpl.ratio;\n",
       "    x0 = Math.floor(x0) + 0.5;\n",
       "    y0 = Math.floor(y0) + 0.5;\n",
       "    x1 = Math.floor(x1) + 0.5;\n",
       "    y1 = Math.floor(y1) + 0.5;\n",
       "    var min_x = Math.min(x0, x1);\n",
       "    var min_y = Math.min(y0, y1);\n",
       "    var width = Math.abs(x1 - x0);\n",
       "    var height = Math.abs(y1 - y0);\n",
       "\n",
       "    fig.rubberband_context.clearRect(\n",
       "        0, 0, fig.canvas.width, fig.canvas.height);\n",
       "\n",
       "    fig.rubberband_context.strokeRect(min_x, min_y, width, height);\n",
       "}\n",
       "\n",
       "mpl.figure.prototype.handle_figure_label = function(fig, msg) {\n",
       "    // Updates the figure title.\n",
       "    fig.header.textContent = msg['label'];\n",
       "}\n",
       "\n",
       "mpl.figure.prototype.handle_cursor = function(fig, msg) {\n",
       "    var cursor = msg['cursor'];\n",
       "    switch(cursor)\n",
       "    {\n",
       "    case 0:\n",
       "        cursor = 'pointer';\n",
       "        break;\n",
       "    case 1:\n",
       "        cursor = 'default';\n",
       "        break;\n",
       "    case 2:\n",
       "        cursor = 'crosshair';\n",
       "        break;\n",
       "    case 3:\n",
       "        cursor = 'move';\n",
       "        break;\n",
       "    }\n",
       "    fig.rubberband_canvas.style.cursor = cursor;\n",
       "}\n",
       "\n",
       "mpl.figure.prototype.handle_message = function(fig, msg) {\n",
       "    fig.message.textContent = msg['message'];\n",
       "}\n",
       "\n",
       "mpl.figure.prototype.handle_draw = function(fig, msg) {\n",
       "    // Request the server to send over a new figure.\n",
       "    fig.send_draw_message();\n",
       "}\n",
       "\n",
       "mpl.figure.prototype.handle_image_mode = function(fig, msg) {\n",
       "    fig.image_mode = msg['mode'];\n",
       "}\n",
       "\n",
       "mpl.figure.prototype.updated_canvas_event = function() {\n",
       "    // Called whenever the canvas gets updated.\n",
       "    this.send_message(\"ack\", {});\n",
       "}\n",
       "\n",
       "// A function to construct a web socket function for onmessage handling.\n",
       "// Called in the figure constructor.\n",
       "mpl.figure.prototype._make_on_message_function = function(fig) {\n",
       "    return function socket_on_message(evt) {\n",
       "        if (evt.data instanceof Blob) {\n",
       "            /* FIXME: We get \"Resource interpreted as Image but\n",
       "             * transferred with MIME type text/plain:\" errors on\n",
       "             * Chrome.  But how to set the MIME type?  It doesn't seem\n",
       "             * to be part of the websocket stream */\n",
       "            evt.data.type = \"image/png\";\n",
       "\n",
       "            /* Free the memory for the previous frames */\n",
       "            if (fig.imageObj.src) {\n",
       "                (window.URL || window.webkitURL).revokeObjectURL(\n",
       "                    fig.imageObj.src);\n",
       "            }\n",
       "\n",
       "            fig.imageObj.src = (window.URL || window.webkitURL).createObjectURL(\n",
       "                evt.data);\n",
       "            fig.updated_canvas_event();\n",
       "            fig.waiting = false;\n",
       "            return;\n",
       "        }\n",
       "        else if (typeof evt.data === 'string' && evt.data.slice(0, 21) == \"data:image/png;base64\") {\n",
       "            fig.imageObj.src = evt.data;\n",
       "            fig.updated_canvas_event();\n",
       "            fig.waiting = false;\n",
       "            return;\n",
       "        }\n",
       "\n",
       "        var msg = JSON.parse(evt.data);\n",
       "        var msg_type = msg['type'];\n",
       "\n",
       "        // Call the  \"handle_{type}\" callback, which takes\n",
       "        // the figure and JSON message as its only arguments.\n",
       "        try {\n",
       "            var callback = fig[\"handle_\" + msg_type];\n",
       "        } catch (e) {\n",
       "            console.log(\"No handler for the '\" + msg_type + \"' message type: \", msg);\n",
       "            return;\n",
       "        }\n",
       "\n",
       "        if (callback) {\n",
       "            try {\n",
       "                // console.log(\"Handling '\" + msg_type + \"' message: \", msg);\n",
       "                callback(fig, msg);\n",
       "            } catch (e) {\n",
       "                console.log(\"Exception inside the 'handler_\" + msg_type + \"' callback:\", e, e.stack, msg);\n",
       "            }\n",
       "        }\n",
       "    };\n",
       "}\n",
       "\n",
       "// from http://stackoverflow.com/questions/1114465/getting-mouse-location-in-canvas\n",
       "mpl.findpos = function(e) {\n",
       "    //this section is from http://www.quirksmode.org/js/events_properties.html\n",
       "    var targ;\n",
       "    if (!e)\n",
       "        e = window.event;\n",
       "    if (e.target)\n",
       "        targ = e.target;\n",
       "    else if (e.srcElement)\n",
       "        targ = e.srcElement;\n",
       "    if (targ.nodeType == 3) // defeat Safari bug\n",
       "        targ = targ.parentNode;\n",
       "\n",
       "    // jQuery normalizes the pageX and pageY\n",
       "    // pageX,Y are the mouse positions relative to the document\n",
       "    // offset() returns the position of the element relative to the document\n",
       "    var x = e.pageX - $(targ).offset().left;\n",
       "    var y = e.pageY - $(targ).offset().top;\n",
       "\n",
       "    return {\"x\": x, \"y\": y};\n",
       "};\n",
       "\n",
       "/*\n",
       " * return a copy of an object with only non-object keys\n",
       " * we need this to avoid circular references\n",
       " * http://stackoverflow.com/a/24161582/3208463\n",
       " */\n",
       "function simpleKeys (original) {\n",
       "  return Object.keys(original).reduce(function (obj, key) {\n",
       "    if (typeof original[key] !== 'object')\n",
       "        obj[key] = original[key]\n",
       "    return obj;\n",
       "  }, {});\n",
       "}\n",
       "\n",
       "mpl.figure.prototype.mouse_event = function(event, name) {\n",
       "    var canvas_pos = mpl.findpos(event)\n",
       "\n",
       "    if (name === 'button_press')\n",
       "    {\n",
       "        this.canvas.focus();\n",
       "        this.canvas_div.focus();\n",
       "    }\n",
       "\n",
       "    var x = canvas_pos.x * mpl.ratio;\n",
       "    var y = canvas_pos.y * mpl.ratio;\n",
       "\n",
       "    this.send_message(name, {x: x, y: y, button: event.button,\n",
       "                             step: event.step,\n",
       "                             guiEvent: simpleKeys(event)});\n",
       "\n",
       "    /* This prevents the web browser from automatically changing to\n",
       "     * the text insertion cursor when the button is pressed.  We want\n",
       "     * to control all of the cursor setting manually through the\n",
       "     * 'cursor' event from matplotlib */\n",
       "    event.preventDefault();\n",
       "    return false;\n",
       "}\n",
       "\n",
       "mpl.figure.prototype._key_event_extra = function(event, name) {\n",
       "    // Handle any extra behaviour associated with a key event\n",
       "}\n",
       "\n",
       "mpl.figure.prototype.key_event = function(event, name) {\n",
       "\n",
       "    // Prevent repeat events\n",
       "    if (name == 'key_press')\n",
       "    {\n",
       "        if (event.which === this._key)\n",
       "            return;\n",
       "        else\n",
       "            this._key = event.which;\n",
       "    }\n",
       "    if (name == 'key_release')\n",
       "        this._key = null;\n",
       "\n",
       "    var value = '';\n",
       "    if (event.ctrlKey && event.which != 17)\n",
       "        value += \"ctrl+\";\n",
       "    if (event.altKey && event.which != 18)\n",
       "        value += \"alt+\";\n",
       "    if (event.shiftKey && event.which != 16)\n",
       "        value += \"shift+\";\n",
       "\n",
       "    value += 'k';\n",
       "    value += event.which.toString();\n",
       "\n",
       "    this._key_event_extra(event, name);\n",
       "\n",
       "    this.send_message(name, {key: value,\n",
       "                             guiEvent: simpleKeys(event)});\n",
       "    return false;\n",
       "}\n",
       "\n",
       "mpl.figure.prototype.toolbar_button_onclick = function(name) {\n",
       "    if (name == 'download') {\n",
       "        this.handle_save(this, null);\n",
       "    } else {\n",
       "        this.send_message(\"toolbar_button\", {name: name});\n",
       "    }\n",
       "};\n",
       "\n",
       "mpl.figure.prototype.toolbar_button_onmouseover = function(tooltip) {\n",
       "    this.message.textContent = tooltip;\n",
       "};\n",
       "mpl.toolbar_items = [[\"Home\", \"Reset original view\", \"fa fa-home icon-home\", \"home\"], [\"Back\", \"Back to  previous view\", \"fa fa-arrow-left icon-arrow-left\", \"back\"], [\"Forward\", \"Forward to next view\", \"fa fa-arrow-right icon-arrow-right\", \"forward\"], [\"\", \"\", \"\", \"\"], [\"Pan\", \"Pan axes with left mouse, zoom with right\", \"fa fa-arrows icon-move\", \"pan\"], [\"Zoom\", \"Zoom to rectangle\", \"fa fa-square-o icon-check-empty\", \"zoom\"], [\"\", \"\", \"\", \"\"], [\"Download\", \"Download plot\", \"fa fa-floppy-o icon-save\", \"download\"]];\n",
       "\n",
       "mpl.extensions = [\"eps\", \"jpeg\", \"pdf\", \"png\", \"ps\", \"raw\", \"svg\", \"tif\"];\n",
       "\n",
       "mpl.default_extension = \"png\";var comm_websocket_adapter = function(comm) {\n",
       "    // Create a \"websocket\"-like object which calls the given IPython comm\n",
       "    // object with the appropriate methods. Currently this is a non binary\n",
       "    // socket, so there is still some room for performance tuning.\n",
       "    var ws = {};\n",
       "\n",
       "    ws.close = function() {\n",
       "        comm.close()\n",
       "    };\n",
       "    ws.send = function(m) {\n",
       "        //console.log('sending', m);\n",
       "        comm.send(m);\n",
       "    };\n",
       "    // Register the callback with on_msg.\n",
       "    comm.on_msg(function(msg) {\n",
       "        //console.log('receiving', msg['content']['data'], msg);\n",
       "        // Pass the mpl event to the overriden (by mpl) onmessage function.\n",
       "        ws.onmessage(msg['content']['data'])\n",
       "    });\n",
       "    return ws;\n",
       "}\n",
       "\n",
       "mpl.mpl_figure_comm = function(comm, msg) {\n",
       "    // This is the function which gets called when the mpl process\n",
       "    // starts-up an IPython Comm through the \"matplotlib\" channel.\n",
       "\n",
       "    var id = msg.content.data.id;\n",
       "    // Get hold of the div created by the display call when the Comm\n",
       "    // socket was opened in Python.\n",
       "    var element = $(\"#\" + id);\n",
       "    var ws_proxy = comm_websocket_adapter(comm)\n",
       "\n",
       "    function ondownload(figure, format) {\n",
       "        window.open(figure.imageObj.src);\n",
       "    }\n",
       "\n",
       "    var fig = new mpl.figure(id, ws_proxy,\n",
       "                           ondownload,\n",
       "                           element.get(0));\n",
       "\n",
       "    // Call onopen now - mpl needs it, as it is assuming we've passed it a real\n",
       "    // web socket which is closed, not our websocket->open comm proxy.\n",
       "    ws_proxy.onopen();\n",
       "\n",
       "    fig.parent_element = element.get(0);\n",
       "    fig.cell_info = mpl.find_output_cell(\"<div id='\" + id + \"'></div>\");\n",
       "    if (!fig.cell_info) {\n",
       "        console.error(\"Failed to find cell for figure\", id, fig);\n",
       "        return;\n",
       "    }\n",
       "\n",
       "    var output_index = fig.cell_info[2]\n",
       "    var cell = fig.cell_info[0];\n",
       "\n",
       "};\n",
       "\n",
       "mpl.figure.prototype.handle_close = function(fig, msg) {\n",
       "    var width = fig.canvas.width/mpl.ratio\n",
       "    fig.root.unbind('remove')\n",
       "\n",
       "    // Update the output cell to use the data from the current canvas.\n",
       "    fig.push_to_output();\n",
       "    var dataURL = fig.canvas.toDataURL();\n",
       "    // Re-enable the keyboard manager in IPython - without this line, in FF,\n",
       "    // the notebook keyboard shortcuts fail.\n",
       "    IPython.keyboard_manager.enable()\n",
       "    $(fig.parent_element).html('<img src=\"' + dataURL + '\" width=\"' + width + '\">');\n",
       "    fig.close_ws(fig, msg);\n",
       "}\n",
       "\n",
       "mpl.figure.prototype.close_ws = function(fig, msg){\n",
       "    fig.send_message('closing', msg);\n",
       "    // fig.ws.close()\n",
       "}\n",
       "\n",
       "mpl.figure.prototype.push_to_output = function(remove_interactive) {\n",
       "    // Turn the data on the canvas into data in the output cell.\n",
       "    var width = this.canvas.width/mpl.ratio\n",
       "    var dataURL = this.canvas.toDataURL();\n",
       "    this.cell_info[1]['text/html'] = '<img src=\"' + dataURL + '\" width=\"' + width + '\">';\n",
       "}\n",
       "\n",
       "mpl.figure.prototype.updated_canvas_event = function() {\n",
       "    // Tell IPython that the notebook contents must change.\n",
       "    IPython.notebook.set_dirty(true);\n",
       "    this.send_message(\"ack\", {});\n",
       "    var fig = this;\n",
       "    // Wait a second, then push the new image to the DOM so\n",
       "    // that it is saved nicely (might be nice to debounce this).\n",
       "    setTimeout(function () { fig.push_to_output() }, 1000);\n",
       "}\n",
       "\n",
       "mpl.figure.prototype._init_toolbar = function() {\n",
       "    var fig = this;\n",
       "\n",
       "    var nav_element = $('<div/>')\n",
       "    nav_element.attr('style', 'width: 100%');\n",
       "    this.root.append(nav_element);\n",
       "\n",
       "    // Define a callback function for later on.\n",
       "    function toolbar_event(event) {\n",
       "        return fig.toolbar_button_onclick(event['data']);\n",
       "    }\n",
       "    function toolbar_mouse_event(event) {\n",
       "        return fig.toolbar_button_onmouseover(event['data']);\n",
       "    }\n",
       "\n",
       "    for(var toolbar_ind in mpl.toolbar_items){\n",
       "        var name = mpl.toolbar_items[toolbar_ind][0];\n",
       "        var tooltip = mpl.toolbar_items[toolbar_ind][1];\n",
       "        var image = mpl.toolbar_items[toolbar_ind][2];\n",
       "        var method_name = mpl.toolbar_items[toolbar_ind][3];\n",
       "\n",
       "        if (!name) { continue; };\n",
       "\n",
       "        var button = $('<button class=\"btn btn-default\" href=\"#\" title=\"' + name + '\"><i class=\"fa ' + image + ' fa-lg\"></i></button>');\n",
       "        button.click(method_name, toolbar_event);\n",
       "        button.mouseover(tooltip, toolbar_mouse_event);\n",
       "        nav_element.append(button);\n",
       "    }\n",
       "\n",
       "    // Add the status bar.\n",
       "    var status_bar = $('<span class=\"mpl-message\" style=\"text-align:right; float: right;\"/>');\n",
       "    nav_element.append(status_bar);\n",
       "    this.message = status_bar[0];\n",
       "\n",
       "    // Add the close button to the window.\n",
       "    var buttongrp = $('<div class=\"btn-group inline pull-right\"></div>');\n",
       "    var button = $('<button class=\"btn btn-mini btn-primary\" href=\"#\" title=\"Stop Interaction\"><i class=\"fa fa-power-off icon-remove icon-large\"></i></button>');\n",
       "    button.click(function (evt) { fig.handle_close(fig, {}); } );\n",
       "    button.mouseover('Stop Interaction', toolbar_mouse_event);\n",
       "    buttongrp.append(button);\n",
       "    var titlebar = this.root.find($('.ui-dialog-titlebar'));\n",
       "    titlebar.prepend(buttongrp);\n",
       "}\n",
       "\n",
       "mpl.figure.prototype._root_extra_style = function(el){\n",
       "    var fig = this\n",
       "    el.on(\"remove\", function(){\n",
       "\tfig.close_ws(fig, {});\n",
       "    });\n",
       "}\n",
       "\n",
       "mpl.figure.prototype._canvas_extra_style = function(el){\n",
       "    // this is important to make the div 'focusable\n",
       "    el.attr('tabindex', 0)\n",
       "    // reach out to IPython and tell the keyboard manager to turn it's self\n",
       "    // off when our div gets focus\n",
       "\n",
       "    // location in version 3\n",
       "    if (IPython.notebook.keyboard_manager) {\n",
       "        IPython.notebook.keyboard_manager.register_events(el);\n",
       "    }\n",
       "    else {\n",
       "        // location in version 2\n",
       "        IPython.keyboard_manager.register_events(el);\n",
       "    }\n",
       "\n",
       "}\n",
       "\n",
       "mpl.figure.prototype._key_event_extra = function(event, name) {\n",
       "    var manager = IPython.notebook.keyboard_manager;\n",
       "    if (!manager)\n",
       "        manager = IPython.keyboard_manager;\n",
       "\n",
       "    // Check for shift+enter\n",
       "    if (event.shiftKey && event.which == 13) {\n",
       "        this.canvas_div.blur();\n",
       "        // select the cell after this one\n",
       "        var index = IPython.notebook.find_cell_index(this.cell_info[0]);\n",
       "        IPython.notebook.select(index + 1);\n",
       "    }\n",
       "}\n",
       "\n",
       "mpl.figure.prototype.handle_save = function(fig, msg) {\n",
       "    fig.ondownload(fig, null);\n",
       "}\n",
       "\n",
       "\n",
       "mpl.find_output_cell = function(html_output) {\n",
       "    // Return the cell and output element which can be found *uniquely* in the notebook.\n",
       "    // Note - this is a bit hacky, but it is done because the \"notebook_saving.Notebook\"\n",
       "    // IPython event is triggered only after the cells have been serialised, which for\n",
       "    // our purposes (turning an active figure into a static one), is too late.\n",
       "    var cells = IPython.notebook.get_cells();\n",
       "    var ncells = cells.length;\n",
       "    for (var i=0; i<ncells; i++) {\n",
       "        var cell = cells[i];\n",
       "        if (cell.cell_type === 'code'){\n",
       "            for (var j=0; j<cell.output_area.outputs.length; j++) {\n",
       "                var data = cell.output_area.outputs[j];\n",
       "                if (data.data) {\n",
       "                    // IPython >= 3 moved mimebundle to data attribute of output\n",
       "                    data = data.data;\n",
       "                }\n",
       "                if (data['text/html'] == html_output) {\n",
       "                    return [cell, data, j];\n",
       "                }\n",
       "            }\n",
       "        }\n",
       "    }\n",
       "}\n",
       "\n",
       "// Register the function which deals with the matplotlib target/channel.\n",
       "// The kernel may be null if the page has been refreshed.\n",
       "if (IPython.notebook.kernel != null) {\n",
       "    IPython.notebook.kernel.comm_manager.register_target('matplotlib', mpl.mpl_figure_comm);\n",
       "}\n"
      ],
      "text/plain": [
       "<IPython.core.display.Javascript object>"
      ]
     },
     "metadata": {},
     "output_type": "display_data"
    },
    {
     "data": {
      "text/html": [
       "<img src=\"data:image/png;base64,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\" width=\"640\">"
      ],
      "text/plain": [
       "<IPython.core.display.HTML object>"
      ]
     },
     "metadata": {},
     "output_type": "display_data"
    },
    {
     "data": {
      "text/plain": [
       "<matplotlib.legend.Legend at 0x2c7e32f9a20>"
      ]
     },
     "execution_count": 9,
     "metadata": {},
     "output_type": "execute_result"
    }
   ],
   "source": [
    "# scatter plot example\n",
    "%matplotlib notebook \n",
    "\n",
    "plt.scatter(x, y, label = \"Dots\")\n",
    "plt.xlabel('X_axis Label')\n",
    "plt.ylabel('Y_axis Label')\n",
    "plt.title('Figure Title')\n",
    "plt.legend(loc = 0, frameon= True, title = \"Legend Title\")"
   ]
  },
  {
   "cell_type": "code",
   "execution_count": 10,
   "metadata": {
    "collapsed": false,
    "nbpresent": {
     "id": "a8fdd73c-fd79-49e6-85e1-2e29c65e3e5a"
    }
   },
   "outputs": [
    {
     "data": {
      "text/plain": [
       "[<matplotlib.collections.PathCollection at 0x2c7e32f3b70>,\n",
       " <matplotlib.spines.Spine at 0x2c7e32329b0>,\n",
       " <matplotlib.spines.Spine at 0x2c7e322eef0>,\n",
       " <matplotlib.spines.Spine at 0x2c7e322e6a0>,\n",
       " <matplotlib.spines.Spine at 0x2c7e322e048>,\n",
       " <matplotlib.axis.XAxis at 0x2c7e32259e8>,\n",
       " <matplotlib.axis.YAxis at 0x2c7e32915f8>,\n",
       " <matplotlib.text.Text at 0x2c7e32ce518>,\n",
       " <matplotlib.text.Text at 0x2c7e32ce588>,\n",
       " <matplotlib.text.Text at 0x2c7e32ce5f8>,\n",
       " <matplotlib.legend.Legend at 0x2c7e32f9a20>,\n",
       " <matplotlib.patches.Rectangle at 0x2c7e32ce630>]"
      ]
     },
     "execution_count": 10,
     "metadata": {},
     "output_type": "execute_result"
    }
   ],
   "source": [
    "# Axis object\n",
    "ax = plt.gca() # gets current axis object\n",
    "ax.get_children() # returns all of the information about current axis"
   ]
  },
  {
   "cell_type": "markdown",
   "metadata": {
    "collapsed": true
   },
   "source": [
    "#### * From the get_children method you can see that the axis object has quite a few components*\n",
    "** Spines are the borders"
   ]
  },
  {
   "cell_type": "code",
   "execution_count": 11,
   "metadata": {
    "collapsed": false,
    "nbpresent": {
     "id": "2fd082e6-3e46-42dd-8b84-cdf440f41c08"
    }
   },
   "outputs": [],
   "source": [
    "# remove the border\n",
    "for spine in ax.spines.values():\n",
    "    spine.set_visible(False)"
   ]
  },
  {
   "cell_type": "code",
   "execution_count": 12,
   "metadata": {
    "collapsed": true,
    "nbpresent": {
     "id": "4e3ed928-3098-44c2-9227-67d280dac899"
    }
   },
   "outputs": [],
   "source": [
    "# change tick markes\n",
    "plt.tick_params(top='off', bottom = 'on', left = 'off', right = 'off', labelleft = 'off', labelbottom = 'on')"
   ]
  },
  {
   "cell_type": "code",
   "execution_count": 13,
   "metadata": {
    "collapsed": false
   },
   "outputs": [
    {
     "data": {
      "text/plain": [
       "(array([ 0. ,  0.5,  1. ,  1.5,  2. ,  2.5,  3. ,  3.5]),\n",
       " <a list of 8 Text xticklabel objects>)"
      ]
     },
     "execution_count": 13,
     "metadata": {},
     "output_type": "execute_result"
    }
   ],
   "source": [
    "# not just off or on\n",
    "plt.xticks(rotation=45)"
   ]
  },
  {
   "cell_type": "markdown",
   "metadata": {},
   "source": [
    "#### *A little fancier data"
   ]
  },
  {
   "cell_type": "code",
   "execution_count": 14,
   "metadata": {
    "collapsed": true
   },
   "outputs": [],
   "source": [
    "%matplotlib inline\n",
    "import numpy as np\n",
    "x = np.linspace(0, 5, 10)\n",
    "y = x**2"
   ]
  },
  {
   "cell_type": "markdown",
   "metadata": {},
   "source": [
    "#### * LaTeX formatting is supported but you need to use raw strings *"
   ]
  },
  {
   "cell_type": "code",
   "execution_count": 18,
   "metadata": {
    "collapsed": false
   },
   "outputs": [
    {
     "data": {
      "text/plain": [
       "[<matplotlib.axis.YTick at 0x279c463fe10>,\n",
       " <matplotlib.axis.YTick at 0x279c3da7128>,\n",
       " <matplotlib.axis.YTick at 0x279c3df4e10>,\n",
       " <matplotlib.axis.YTick at 0x279c46cde48>]"
      ]
     },
     "execution_count": 18,
     "metadata": {},
     "output_type": "execute_result"
    },
    {
     "data": {
      "image/png": "[encoded data removed]",
      "text/plain": [
       "<matplotlib.figure.Figure at 0x279c462bef0>"
      ]
     },
     "metadata": {},
     "output_type": "display_data"
    }
   ],
   "source": [
    "plt.plot(x, y, label='y = x**2', c = 'purple')\n",
    "plt.plot(x, 2 * x, label= 'y = 2x')\n",
    "plt.plot(x, 3 * x, label= 'y= 3x')\n",
    "plt.plot(x, 4 * x, label= 'y= 4x')\n",
    "plt.legend()\n",
    "\n",
    "# change x and y labels with LaTex\n",
    "ax = plt.gca()\n",
    "ax.set_xticks([1, 2, 3, 4, 5])\n",
    "ax.set_xticklabels([r'$\\alpha$', r'$\\beta$', r'$\\gamma$', r'$\\delta$', r'$\\epsilon$'], fontsize=18)\n",
    "yticks = [0, 10, 20, 25]\n",
    "ax.set_yticks(yticks)"
   ]
  },
  {
   "cell_type": "code",
   "execution_count": 19,
   "metadata": {
    "collapsed": false
   },
   "outputs": [
    {
     "data": {
      "text/plain": [
       "<matplotlib.text.Text at 0x279c477c7f0>"
      ]
     },
     "execution_count": 19,
     "metadata": {},
     "output_type": "execute_result"
    },
    {
     "data": {
      "image/png": "[encoded data removed]",
      "text/plain": [
       "<matplotlib.figure.Figure at 0x279c46395f8>"
      ]
     },
     "metadata": {},
     "output_type": "display_data"
    }
   ],
   "source": [
    "# Creates a figure and one subplot\n",
    "fig, ax = plt.subplots()\n",
    "\n",
    "# both lines share x axis\n",
    "ax.plot(x, x**2, x, x**3)\n",
    "\n",
    "# direct label lines with text\n",
    "ax.text(4, 8, r\"$y=x^2$\", fontsize=20, color=\"blue\")\n",
    "ax.text(3, 80, r\"$y=x^3$\", fontsize=20, color=\"green\")"
   ]
  },
  {
   "cell_type": "code",
   "execution_count": 16,
   "metadata": {
    "collapsed": false
   },
   "outputs": [
    {
     "data": {
      "text/plain": [
       "<Container object of 3 artists>"
      ]
     },
     "execution_count": 16,
     "metadata": {},
     "output_type": "execute_result"
    },
    {
     "data": {
      "image/png": "[encoded data removed]",
      "text/plain": [
       "<matplotlib.figure.Figure at 0x2c7e4261f98>"
      ]
     },
     "metadata": {},
     "output_type": "display_data"
    }
   ],
   "source": [
    "# errorbars\n",
    "dy = 2\n",
    "plt.bar(x,y)\n",
    "plt.errorbar(x, y, yerr = dy, fmt = 'none', c= 'k') # this plots ONLY error bars"
   ]
  },
  {
   "cell_type": "markdown",
   "metadata": {},
   "source": [
    "### * Multiple subplots *"
   ]
  },
  {
   "cell_type": "code",
   "execution_count": 19,
   "metadata": {
    "collapsed": false
   },
   "outputs": [
    {
     "data": {
      "image/png": "[encoded data removed]",
      "text/plain": [
       "<matplotlib.figure.Figure at 0x2c7e238b278>"
      ]
     },
     "metadata": {},
     "output_type": "display_data"
    }
   ],
   "source": [
    "# figures in a gridF\n",
    "fig, ax = plt.subplots(2, 3)\n",
    "fig.tight_layout() # adjusts the spacing beween subplots so there is no overlap"
   ]
  },
  {
   "cell_type": "code",
   "execution_count": 24,
   "metadata": {
    "collapsed": false
   },
   "outputs": [
    {
     "data": {
      "image/png": "[encoded data removed]",
      "text/plain": [
       "<matplotlib.figure.Figure at 0x279c34ddeb8>"
      ]
     },
     "metadata": {},
     "output_type": "display_data"
    }
   ],
   "source": [
    "# create multiple subplots in one figure\n",
    "fig = plt.figure()\n",
    "sub1 = plt.subplot2grid((3,3), (0,0), colspan=3)\n",
    "sub2 = plt.subplot2grid((3,3), (1,0), colspan=2)\n",
    "sub3 = plt.subplot2grid((3,3), (1,2), rowspan=2)\n",
    "sub4 = plt.subplot2grid((3,3), (2,0))\n",
    "sub5 = plt.subplot2grid((3,3), (2,1))\n",
    "fig.tight_layout()"
   ]
  },
  {
   "cell_type": "markdown",
   "metadata": {},
   "source": [
    "#### Gridspec\n",
    "This is so common there is a module that will help you"
   ]
  },
  {
   "cell_type": "code",
   "execution_count": 20,
   "metadata": {
    "collapsed": true
   },
   "outputs": [],
   "source": [
    "import matplotlib.gridspec as gridspec"
   ]
  },
  {
   "cell_type": "code",
   "execution_count": 21,
   "metadata": {
    "collapsed": false
   },
   "outputs": [
    {
     "data": {
      "image/png": "[encoded data removed]",
      "text/plain": [
       "<matplotlib.figure.Figure at 0x2c7e4310eb8>"
      ]
     },
     "metadata": {},
     "output_type": "display_data"
    }
   ],
   "source": [
    "fig = plt.figure()\n",
    "gs = gridspec.GridSpec(2, 3, height_ratios=[2,1], width_ratios=[1,2,1])\n",
    "\n",
    "for g in gs:\n",
    "    fig.add_subplot(g)\n",
    "    \n",
    "    \n",
    "fig.tight_layout()   \n"
   ]
  },
  {
   "cell_type": "markdown",
   "metadata": {},
   "source": [
    "#### Inset plots"
   ]
  },
  {
   "cell_type": "code",
   "execution_count": 22,
   "metadata": {
    "collapsed": false
   },
   "outputs": [
    {
     "data": {
      "text/plain": [
       "<matplotlib.text.Text at 0x2c7e454cbe0>"
      ]
     },
     "execution_count": 22,
     "metadata": {},
     "output_type": "execute_result"
    },
    {
     "data": {
      "image/png": "[encoded data removed]",
      "text/plain": [
       "<matplotlib.figure.Figure at 0x2c7e44f1320>"
      ]
     },
     "metadata": {},
     "output_type": "display_data"
    }
   ],
   "source": [
    "# make one figure\n",
    "fig = plt.figure()\n",
    "\n",
    "# create axis for two plots using fig.add_axes\n",
    "# fig.add_axes([x_coordinate, y_coordinate, y_axis size, x_axis size])\n",
    "rect1 = [0.1, 0.1, 0.8, 0.8] # [left,bottom,width,height] fraction of figure size\n",
    "rect2 = [0.2, 0.4, 0.2, 0.4]\n",
    "axes1 = fig.add_axes(rect1) # main axes\n",
    "axes2 = fig.add_axes(rect2) # inset axes\n",
    "\n",
    "# main figure\n",
    "axes1.plot(x, y, color = 'r')\n",
    "axes1.set_xlabel('x')\n",
    "axes1.set_ylabel('y')\n",
    "axes1.set_title('title')\n",
    "\n",
    "# insert\n",
    "axes2.plot(y, x, color = 'g')\n",
    "axes2.set_xlabel('y')\n",
    "axes2.set_ylabel('x')\n",
    "axes2.set_title('insert title')"
   ]
  },
  {
   "cell_type": "markdown",
   "metadata": {},
   "source": [
    "## Pandas Plotting Tools"
   ]
  },
  {
   "cell_type": "code",
   "execution_count": 23,
   "metadata": {
    "collapsed": false
   },
   "outputs": [
    {
     "data": {
      "text/html": [
       "<div>\n",
       "<style>\n",
       "    .dataframe thead tr:only-child th {\n",
       "        text-align: right;\n",
       "    }\n",
       "\n",
       "    .dataframe thead th {\n",
       "        text-align: left;\n",
       "    }\n",
       "\n",
       "    .dataframe tbody tr th {\n",
       "        vertical-align: top;\n",
       "    }\n",
       "</style>\n",
       "<table border=\"1\" class=\"dataframe\">\n",
       "  <thead>\n",
       "    <tr style=\"text-align: right;\">\n",
       "      <th></th>\n",
       "      <th>sepal_length</th>\n",
       "      <th>sepal_width</th>\n",
       "      <th>petal_length</th>\n",
       "      <th>petal_width</th>\n",
       "      <th>species</th>\n",
       "    </tr>\n",
       "  </thead>\n",
       "  <tbody>\n",
       "    <tr>\n",
       "      <th>0</th>\n",
       "      <td>5.1</td>\n",
       "      <td>3.5</td>\n",
       "      <td>1.4</td>\n",
       "      <td>0.2</td>\n",
       "      <td>setosa</td>\n",
       "    </tr>\n",
       "    <tr>\n",
       "      <th>1</th>\n",
       "      <td>4.9</td>\n",
       "      <td>3.0</td>\n",
       "      <td>1.4</td>\n",
       "      <td>0.2</td>\n",
       "      <td>setosa</td>\n",
       "    </tr>\n",
       "    <tr>\n",
       "      <th>2</th>\n",
       "      <td>4.7</td>\n",
       "      <td>3.2</td>\n",
       "      <td>1.3</td>\n",
       "      <td>0.2</td>\n",
       "      <td>setosa</td>\n",
       "    </tr>\n",
       "    <tr>\n",
       "      <th>3</th>\n",
       "      <td>4.6</td>\n",
       "      <td>3.1</td>\n",
       "      <td>1.5</td>\n",
       "      <td>0.2</td>\n",
       "      <td>setosa</td>\n",
       "    </tr>\n",
       "    <tr>\n",
       "      <th>4</th>\n",
       "      <td>5.0</td>\n",
       "      <td>3.6</td>\n",
       "      <td>1.4</td>\n",
       "      <td>0.2</td>\n",
       "      <td>setosa</td>\n",
       "    </tr>\n",
       "  </tbody>\n",
       "</table>\n",
       "</div>"
      ],
      "text/plain": [
       "   sepal_length  sepal_width  petal_length  petal_width species\n",
       "0           5.1          3.5           1.4          0.2  setosa\n",
       "1           4.9          3.0           1.4          0.2  setosa\n",
       "2           4.7          3.2           1.3          0.2  setosa\n",
       "3           4.6          3.1           1.5          0.2  setosa\n",
       "4           5.0          3.6           1.4          0.2  setosa"
      ]
     },
     "execution_count": 23,
     "metadata": {},
     "output_type": "execute_result"
    }
   ],
   "source": [
    "# I'm going to import the iris dataset to show off how matplotlib works with Pandas\n",
    "%matplotlib inline\n",
    "import seaborn as sns\n",
    "iris = sns.load_dataset('iris')\n",
    "iris.head()"
   ]
  },
  {
   "cell_type": "code",
   "execution_count": 24,
   "metadata": {
    "collapsed": false
   },
   "outputs": [
    {
     "data": {
      "text/plain": [
       "array([[<matplotlib.axes._subplots.AxesSubplot object at 0x000002C7E233BBE0>,\n",
       "        <matplotlib.axes._subplots.AxesSubplot object at 0x000002C7E2288A58>,\n",
       "        <matplotlib.axes._subplots.AxesSubplot object at 0x000002C7E228CB38>,\n",
       "        <matplotlib.axes._subplots.AxesSubplot object at 0x000002C7E430C1D0>],\n",
       "       [<matplotlib.axes._subplots.AxesSubplot object at 0x000002C7E4334358>,\n",
       "        <matplotlib.axes._subplots.AxesSubplot object at 0x000002C7E23524A8>,\n",
       "        <matplotlib.axes._subplots.AxesSubplot object at 0x000002C7E2F022E8>,\n",
       "        <matplotlib.axes._subplots.AxesSubplot object at 0x000002C7E2F46C88>],\n",
       "       [<matplotlib.axes._subplots.AxesSubplot object at 0x000002C7E2F9F0B8>,\n",
       "        <matplotlib.axes._subplots.AxesSubplot object at 0x000002C7E2FE6908>,\n",
       "        <matplotlib.axes._subplots.AxesSubplot object at 0x000002C7E3041860>,\n",
       "        <matplotlib.axes._subplots.AxesSubplot object at 0x000002C7E308E828>],\n",
       "       [<matplotlib.axes._subplots.AxesSubplot object at 0x000002C7E5549BE0>,\n",
       "        <matplotlib.axes._subplots.AxesSubplot object at 0x000002C7E55B5DA0>,\n",
       "        <matplotlib.axes._subplots.AxesSubplot object at 0x000002C7E55C5080>,\n",
       "        <matplotlib.axes._subplots.AxesSubplot object at 0x000002C7E5651CC0>]], dtype=object)"
      ]
     },
     "execution_count": 24,
     "metadata": {},
     "output_type": "execute_result"
    },
    {
     "data": {
      "image/png": "[encoded data removed]",
      "text/plain": [
       "<matplotlib.figure.Figure at 0x2c7e2387c88>"
      ]
     },
     "metadata": {},
     "output_type": "display_data"
    }
   ],
   "source": [
    "# scatter_matirx will plot every column against each other for a great look at trends\n",
    "pd.plotting.scatter_matrix(iris)"
   ]
  },
  {
   "cell_type": "code",
   "execution_count": 50,
   "metadata": {
    "collapsed": false
   },
   "outputs": [
    {
     "data": {
      "text/plain": [
       "<matplotlib.axes._subplots.AxesSubplot at 0x2092feb44a8>"
      ]
     },
     "execution_count": 50,
     "metadata": {},
     "output_type": "execute_result"
    },
    {
     "data": {
      "image/png": "[encoded data removed]",
      "text/plain": [
       "<matplotlib.figure.Figure at 0x2092f848898>"
      ]
     },
     "metadata": {},
     "output_type": "display_data"
    }
   ],
   "source": [
    "# parrallel coordinate plot, each row is represented as one line, with the 'species' column a different color\n",
    "pd.plotting.parallel_coordinates(iris, 'species')"
   ]
  },
  {
   "cell_type": "markdown",
   "metadata": {},
   "source": [
    "## Seaborn\n",
    "Built on top of matplotlib so most mpl methods can be used\n",
    "The documentation is great: http://seaborn.pydata.org , these examples are all in the documentation!"
   ]
  },
  {
   "cell_type": "code",
   "execution_count": 25,
   "metadata": {
    "collapsed": true
   },
   "outputs": [],
   "source": [
    "import seaborn as sns"
   ]
  },
  {
   "cell_type": "code",
   "execution_count": 52,
   "metadata": {
    "collapsed": false
   },
   "outputs": [
    {
     "data": {
      "text/plain": [
       "<matplotlib.axes._subplots.AxesSubplot at 0x2092e801ac8>"
      ]
     },
     "execution_count": 52,
     "metadata": {},
     "output_type": "execute_result"
    },
    {
     "data": {
      "image/png": "[encoded data removed]",
      "text/plain": [
       "<matplotlib.figure.Figure at 0x209304666d8>"
      ]
     },
     "metadata": {},
     "output_type": "display_data"
    }
   ],
   "source": [
    "# kernal density estimate plot\n",
    "sns.kdeplot(iris.petal_width)"
   ]
  },
  {
   "cell_type": "code",
   "execution_count": 53,
   "metadata": {
    "collapsed": false
   },
   "outputs": [
    {
     "data": {
      "text/plain": [
       "<matplotlib.axes._subplots.AxesSubplot at 0x209304c46a0>"
      ]
     },
     "execution_count": 53,
     "metadata": {},
     "output_type": "execute_result"
    },
    {
     "data": {
      "image/png": "[encoded data removed]",
      "text/plain": [
       "<matplotlib.figure.Figure at 0x209304d4208>"
      ]
     },
     "metadata": {},
     "output_type": "display_data"
    }
   ],
   "source": [
    "# distribution with KDE\n",
    "sns.distplot(iris['petal_width'], hist_kws = {'color':'Teal'}, kde_kws = {'color':'Purple'})"
   ]
  },
  {
   "cell_type": "markdown",
   "metadata": {},
   "source": [
    "#### Joint Plots\n",
    "One figure that shows multiple types of plots"
   ]
  },
  {
   "cell_type": "code",
   "execution_count": 26,
   "metadata": {
    "collapsed": false
   },
   "outputs": [
    {
     "ename": "AttributeError",
     "evalue": "module 'matplotlib.pyplot' has no attribute 'heatmap'",
     "output_type": "error",
     "traceback": [
      "\u001b[1;31m---------------------------------------------------------------------------\u001b[0m",
      "\u001b[1;31mAttributeError\u001b[0m                            Traceback (most recent call last)",
      "\u001b[1;32m<ipython-input-26-12913078bd91>\u001b[0m in \u001b[0;36m<module>\u001b[1;34m()\u001b[0m\n\u001b[0;32m      1\u001b[0m \u001b[1;31m# Default: scatterplot and distributions\u001b[0m\u001b[1;33m\u001b[0m\u001b[1;33m\u001b[0m\u001b[0m\n\u001b[0;32m      2\u001b[0m \u001b[1;31m#sns.jointplot(x, x**2, alpha = 0.8).set_axis_labels(\"x\", \"y\")\u001b[0m\u001b[1;33m\u001b[0m\u001b[1;33m\u001b[0m\u001b[0m\n\u001b[1;32m----> 3\u001b[1;33m \u001b[0mplt\u001b[0m\u001b[1;33m.\u001b[0m\u001b[0mheatmap\u001b[0m\u001b[1;33m(\u001b[0m\u001b[0mx\u001b[0m\u001b[1;33m,\u001b[0m\u001b[0my\u001b[0m\u001b[1;33m)\u001b[0m\u001b[1;33m\u001b[0m\u001b[0m\n\u001b[0m",
      "\u001b[1;31mAttributeError\u001b[0m: module 'matplotlib.pyplot' has no attribute 'heatmap'"
     ]
    }
   ],
   "source": [
    "# Default: scatterplot and distributions\n",
    "sns.jointplot(x, x**2, alpha = 0.8).set_axis_labels(\"x\", \"y\")\n"
   ]
  },
  {
   "cell_type": "code",
   "execution_count": 65,
   "metadata": {
    "collapsed": false
   },
   "outputs": [
    {
     "data": {
      "text/plain": [
       "<seaborn.axisgrid.JointGrid at 0x20931f84fd0>"
      ]
     },
     "execution_count": 65,
     "metadata": {},
     "output_type": "execute_result"
    },
    {
     "data": {
      "image/png": "[encoded data removed]",
      "text/plain": [
       "<matplotlib.figure.Figure at 0x20931f84f98>"
      ]
     },
     "metadata": {},
     "output_type": "display_data"
    }
   ],
   "source": [
    "# works great with pandas dataframes\n",
    "sns.jointplot(\"petal_width\", \"sepal_width\", data=iris, size=5, ratio=4, color=\"purple\")"
   ]
  },
  {
   "cell_type": "code",
   "execution_count": 32,
   "metadata": {
    "collapsed": false
   },
   "outputs": [
    {
     "data": {
      "text/plain": [
       "<seaborn.axisgrid.JointGrid at 0x279c75d4358>"
      ]
     },
     "execution_count": 32,
     "metadata": {},
     "output_type": "execute_result"
    },
    {
     "data": {
      "image/png": "[encoded data removed]",
      "text/plain": [
       "<matplotlib.figure.Figure at 0x279c7705ef0>"
      ]
     },
     "metadata": {},
     "output_type": "display_data"
    }
   ],
   "source": [
    "sns.jointplot(\"sepal_width\", \"petal_length\", data=iris, kind=\"kde\", space=0, color=\"g\")"
   ]
  },
  {
   "cell_type": "markdown",
   "metadata": {
    "nbpresent": {
     "id": "0ea3c836-3fcd-470d-a1c2-ebfea217d7b3"
    }
   },
   "source": [
    "## Creating Publishable Figures\n",
    "\n",
    "Thus far all figures have been created with the default backend Qt4Agg, but the backend can be changed for different output types"
   ]
  },
  {
   "cell_type": "code",
   "execution_count": 33,
   "metadata": {
    "collapsed": false,
    "nbpresent": {
     "id": "72de5404-ab88-45a8-8e4e-1f83eeeec200"
    }
   },
   "outputs": [
    {
     "name": "stdout",
     "output_type": "stream",
     "text": [
      "['GTK', 'GTKAgg', 'GTKCairo', 'MacOSX', 'Qt4Agg', 'Qt5Agg', 'TkAgg', 'WX', 'WXAgg', 'GTK3Cairo', 'GTK3Agg', 'WebAgg', 'nbAgg', 'agg', 'cairo', 'gdk', 'pdf', 'pgf', 'ps', 'svg', 'template']\n"
     ]
    }
   ],
   "source": [
    "# This command will give you a list of all possible backends you can use\n",
    "print(mpl.rcsetup.all_backends)"
   ]
  },
  {
   "cell_type": "markdown",
   "metadata": {
    "nbpresent": {
     "id": "4b9eeb36-10cb-4961-9b60-1ba2302cbb8d"
    }
   },
   "source": [
    "Supported formats:\n",
    "PNG, JPG, EPS, SVG, PGF and PDF"
   ]
  },
  {
   "cell_type": "code",
   "execution_count": 13,
   "metadata": {
    "collapsed": false
   },
   "outputs": [],
   "source": [
    "# Generating SVG with the svg backend\n",
    "#\n",
    "# RESTART THE NOTEBOOK: the matplotlib backend can only be selected before pyplot is imported\n",
    "import matplotlib\n",
    "matplotlib.use('svg')\n",
    "#import matplotlib.pyplot as plt\n",
    "#import numpy as np\n",
    "from IPython.display import Image, SVG"
   ]
  },
  {
   "cell_type": "code",
   "execution_count": 9,
   "metadata": {
    "collapsed": true
   },
   "outputs": [],
   "source": [
    "import matplotlib.pyplot as plt\n",
    "import numpy"
   ]
  },
  {
   "cell_type": "code",
   "execution_count": 2,
   "metadata": {
    "collapsed": true
   },
   "outputs": [],
   "source": [
    "#switch to SVG figure rendering\n",
    "%config InlineBackend.figure_format='svg'"
   ]
  },
  {
   "cell_type": "code",
   "execution_count": 3,
   "metadata": {
    "collapsed": true
   },
   "outputs": [],
   "source": [
    "# switch to higher resolution figures\n",
    "%config InlineBackend.figure_format='retina'"
   ]
  },
  {
   "cell_type": "code",
   "execution_count": 10,
   "metadata": {
    "collapsed": false
   },
   "outputs": [
    {
     "data": {
      "text/plain": [
       "[<matplotlib.lines.Line2D at 0x17512f465c0>]"
      ]
     },
     "execution_count": 10,
     "metadata": {},
     "output_type": "execute_result"
    }
   ],
   "source": [
    "fig, ax = plt.subplots()\n",
    "t = numpy.linspace(0, 10, 100)\n",
    "ax.plot(t, numpy.cos(t)*numpy.sin(t))\n"
   ]
  },
  {
   "cell_type": "code",
   "execution_count": 11,
   "metadata": {
    "collapsed": false
   },
   "outputs": [],
   "source": [
    "plt.savefig(\"test.svg\", dpi = 300)"
   ]
  },
  {
   "cell_type": "code",
   "execution_count": 14,
   "metadata": {
    "collapsed": false
   },
   "outputs": [
    {
     "data": {
      "image/svg+xml": [
       "<svg height=\"345pt\" version=\"1.1\" viewBox=\"0 0 460 345\" width=\"460pt\" xmlns=\"http://www.w3.org/2000/svg\" xmlns:xlink=\"http://www.w3.org/1999/xlink\">\n",
       " <defs>\n",
       "  <style type=\"text/css\">\n",
       "*{stroke-linecap:butt;stroke-linejoin:round;}\n",
       "  </style>\n",
       " </defs>\n",
       " <g id=\"figure_1\">\n",
       "  <g id=\"patch_1\">\n",
       "   <path d=\"M 0 345.6  L 460.8 345.6  L 460.8 0  L 0 0  z \" style=\"fill:#ffffff;\"/>\n",
       "  </g>\n",
       "  <g id=\"axes_1\">\n",
       "   <g id=\"patch_2\">\n",
       "    <path d=\"M 57.6 307.584  L 414.72 307.584  L 414.72 41.472  L 57.6 41.472  z \" style=\"fill:#ffffff;\"/>\n",
       "   </g>\n",
       "   <g id=\"matplotlib.axis_1\">\n",
       "    <g id=\"xtick_1\">\n",
       "     <g id=\"line2d_1\">\n",
       "      <defs>\n",
       "       <path d=\"M 0 0  L 0 3.5  \" id=\"mde40b01521\" style=\"stroke:#000000;stroke-width:0.8;\"/>\n",
       "      </defs>\n",
       "      <g>\n",
       "       <use style=\"stroke:#000000;stroke-width:0.8;\" x=\"73.832727\" xlink:href=\"#mde40b01521\" y=\"307.584\"/>\n",
       "      </g>\n",
       "     </g>\n",
       "     <g id=\"text_1\">\n",
       "      <!-- 0 -->\n",
       "      <defs>\n",
       "       <path d=\"M 31.78125 66.40625  Q 24.171875 66.40625 20.328125 58.90625  Q 16.5 51.421875 16.5 36.375  Q 16.5 21.390625 20.328125 13.890625  Q 24.171875 6.390625 31.78125 6.390625  Q 39.453125 6.390625 43.28125 13.890625  Q 47.125 21.390625 47.125 36.375  Q 47.125 51.421875 43.28125 58.90625  Q 39.453125 66.40625 31.78125 66.40625  z M 31.78125 74.21875  Q 44.046875 74.21875 50.515625 64.515625  Q 56.984375 54.828125 56.984375 36.375  Q 56.984375 17.96875 50.515625 8.265625  Q 44.046875 -1.421875 31.78125 -1.421875  Q 19.53125 -1.421875 13.0625 8.265625  Q 6.59375 17.96875 6.59375 36.375  Q 6.59375 54.828125 13.0625 64.515625  Q 19.53125 74.21875 31.78125 74.21875  z \" id=\"DejaVuSans-30\"/>\n",
       "      </defs>\n",
       "      <g transform=\"translate(70.651477 322.182437)scale(0.1 -0.1)\">\n",
       "       <use xlink:href=\"#DejaVuSans-30\"/>\n",
       "      </g>\n",
       "     </g>\n",
       "    </g>\n",
       "    <g id=\"xtick_2\">\n",
       "     <g id=\"line2d_2\">\n",
       "      <g>\n",
       "       <use style=\"stroke:#000000;stroke-width:0.8;\" x=\"138.763636\" xlink:href=\"#mde40b01521\" y=\"307.584\"/>\n",
       "      </g>\n",
       "     </g>\n",
       "     <g id=\"text_2\">\n",
       "      <!-- 2 -->\n",
       "      <defs>\n",
       "       <path d=\"M 19.1875 8.296875  L 53.609375 8.296875  L 53.609375 0  L 7.328125 0  L 7.328125 8.296875  Q 12.9375 14.109375 22.625 23.890625  Q 32.328125 33.6875 34.8125 36.53125  Q 39.546875 41.84375 41.421875 45.53125  Q 43.3125 49.21875 43.3125 52.78125  Q 43.3125 58.59375 39.234375 62.25  Q 35.15625 65.921875 28.609375 65.921875  Q 23.96875 65.921875 18.8125 64.3125  Q 13.671875 62.703125 7.8125 59.421875  L 7.8125 69.390625  Q 13.765625 71.78125 18.9375 73  Q 24.125 74.21875 28.421875 74.21875  Q 39.75 74.21875 46.484375 68.546875  Q 53.21875 62.890625 53.21875 53.421875  Q 53.21875 48.921875 51.53125 44.890625  Q 49.859375 40.875 45.40625 35.40625  Q 44.1875 33.984375 37.640625 27.21875  Q 31.109375 20.453125 19.1875 8.296875  z \" id=\"DejaVuSans-32\"/>\n",
       "      </defs>\n",
       "      <g transform=\"translate(135.582386 322.182437)scale(0.1 -0.1)\">\n",
       "       <use xlink:href=\"#DejaVuSans-32\"/>\n",
       "      </g>\n",
       "     </g>\n",
       "    </g>\n",
       "    <g id=\"xtick_3\">\n",
       "     <g id=\"line2d_3\">\n",
       "      <g>\n",
       "       <use style=\"stroke:#000000;stroke-width:0.8;\" x=\"203.694545\" xlink:href=\"#mde40b01521\" y=\"307.584\"/>\n",
       "      </g>\n",
       "     </g>\n",
       "     <g id=\"text_3\">\n",
       "      <!-- 4 -->\n",
       "      <defs>\n",
       "       <path d=\"M 37.796875 64.3125  L 12.890625 25.390625  L 37.796875 25.390625  z M 35.203125 72.90625  L 47.609375 72.90625  L 47.609375 25.390625  L 58.015625 25.390625  L 58.015625 17.1875  L 47.609375 17.1875  L 47.609375 0  L 37.796875 0  L 37.796875 17.1875  L 4.890625 17.1875  L 4.890625 26.703125  z \" id=\"DejaVuSans-34\"/>\n",
       "      </defs>\n",
       "      <g transform=\"translate(200.513295 322.182437)scale(0.1 -0.1)\">\n",
       "       <use xlink:href=\"#DejaVuSans-34\"/>\n",
       "      </g>\n",
       "     </g>\n",
       "    </g>\n",
       "    <g id=\"xtick_4\">\n",
       "     <g id=\"line2d_4\">\n",
       "      <g>\n",
       "       <use style=\"stroke:#000000;stroke-width:0.8;\" x=\"268.625455\" xlink:href=\"#mde40b01521\" y=\"307.584\"/>\n",
       "      </g>\n",
       "     </g>\n",
       "     <g id=\"text_4\">\n",
       "      <!-- 6 -->\n",
       "      <defs>\n",
       "       <path d=\"M 33.015625 40.375  Q 26.375 40.375 22.484375 35.828125  Q 18.609375 31.296875 18.609375 23.390625  Q 18.609375 15.53125 22.484375 10.953125  Q 26.375 6.390625 33.015625 6.390625  Q 39.65625 6.390625 43.53125 10.953125  Q 47.40625 15.53125 47.40625 23.390625  Q 47.40625 31.296875 43.53125 35.828125  Q 39.65625 40.375 33.015625 40.375  z M 52.59375 71.296875  L 52.59375 62.3125  Q 48.875 64.0625 45.09375 64.984375  Q 41.3125 65.921875 37.59375 65.921875  Q 27.828125 65.921875 22.671875 59.328125  Q 17.53125 52.734375 16.796875 39.40625  Q 19.671875 43.65625 24.015625 45.921875  Q 28.375 48.1875 33.59375 48.1875  Q 44.578125 48.1875 50.953125 41.515625  Q 57.328125 34.859375 57.328125 23.390625  Q 57.328125 12.15625 50.6875 5.359375  Q 44.046875 -1.421875 33.015625 -1.421875  Q 20.359375 -1.421875 13.671875 8.265625  Q 6.984375 17.96875 6.984375 36.375  Q 6.984375 53.65625 15.1875 63.9375  Q 23.390625 74.21875 37.203125 74.21875  Q 40.921875 74.21875 44.703125 73.484375  Q 48.484375 72.75 52.59375 71.296875  z \" id=\"DejaVuSans-36\"/>\n",
       "      </defs>\n",
       "      <g transform=\"translate(265.444205 322.182437)scale(0.1 -0.1)\">\n",
       "       <use xlink:href=\"#DejaVuSans-36\"/>\n",
       "      </g>\n",
       "     </g>\n",
       "    </g>\n",
       "    <g id=\"xtick_5\">\n",
       "     <g id=\"line2d_5\">\n",
       "      <g>\n",
       "       <use style=\"stroke:#000000;stroke-width:0.8;\" x=\"333.556364\" xlink:href=\"#mde40b01521\" y=\"307.584\"/>\n",
       "      </g>\n",
       "     </g>\n",
       "     <g id=\"text_5\">\n",
       "      <!-- 8 -->\n",
       "      <defs>\n",
       "       <path d=\"M 31.78125 34.625  Q 24.75 34.625 20.71875 30.859375  Q 16.703125 27.09375 16.703125 20.515625  Q 16.703125 13.921875 20.71875 10.15625  Q 24.75 6.390625 31.78125 6.390625  Q 38.8125 6.390625 42.859375 10.171875  Q 46.921875 13.96875 46.921875 20.515625  Q 46.921875 27.09375 42.890625 30.859375  Q 38.875 34.625 31.78125 34.625  z M 21.921875 38.8125  Q 15.578125 40.375 12.03125 44.71875  Q 8.5 49.078125 8.5 55.328125  Q 8.5 64.0625 14.71875 69.140625  Q 20.953125 74.21875 31.78125 74.21875  Q 42.671875 74.21875 48.875 69.140625  Q 55.078125 64.0625 55.078125 55.328125  Q 55.078125 49.078125 51.53125 44.71875  Q 48 40.375 41.703125 38.8125  Q 48.828125 37.15625 52.796875 32.3125  Q 56.78125 27.484375 56.78125 20.515625  Q 56.78125 9.90625 50.3125 4.234375  Q 43.84375 -1.421875 31.78125 -1.421875  Q 19.734375 -1.421875 13.25 4.234375  Q 6.78125 9.90625 6.78125 20.515625  Q 6.78125 27.484375 10.78125 32.3125  Q 14.796875 37.15625 21.921875 38.8125  z M 18.3125 54.390625  Q 18.3125 48.734375 21.84375 45.5625  Q 25.390625 42.390625 31.78125 42.390625  Q 38.140625 42.390625 41.71875 45.5625  Q 45.3125 48.734375 45.3125 54.390625  Q 45.3125 60.0625 41.71875 63.234375  Q 38.140625 66.40625 31.78125 66.40625  Q 25.390625 66.40625 21.84375 63.234375  Q 18.3125 60.0625 18.3125 54.390625  z \" id=\"DejaVuSans-38\"/>\n",
       "      </defs>\n",
       "      <g transform=\"translate(330.375114 322.182437)scale(0.1 -0.1)\">\n",
       "       <use xlink:href=\"#DejaVuSans-38\"/>\n",
       "      </g>\n",
       "     </g>\n",
       "    </g>\n",
       "    <g id=\"xtick_6\">\n",
       "     <g id=\"line2d_6\">\n",
       "      <g>\n",
       "       <use style=\"stroke:#000000;stroke-width:0.8;\" x=\"398.487273\" xlink:href=\"#mde40b01521\" y=\"307.584\"/>\n",
       "      </g>\n",
       "     </g>\n",
       "     <g id=\"text_6\">\n",
       "      <!-- 10 -->\n",
       "      <defs>\n",
       "       <path d=\"M 12.40625 8.296875  L 28.515625 8.296875  L 28.515625 63.921875  L 10.984375 60.40625  L 10.984375 69.390625  L 28.421875 72.90625  L 38.28125 72.90625  L 38.28125 8.296875  L 54.390625 8.296875  L 54.390625 0  L 12.40625 0  z \" id=\"DejaVuSans-31\"/>\n",
       "      </defs>\n",
       "      <g transform=\"translate(392.124773 322.182437)scale(0.1 -0.1)\">\n",
       "       <use xlink:href=\"#DejaVuSans-31\"/>\n",
       "       <use x=\"63.623047\" xlink:href=\"#DejaVuSans-30\"/>\n",
       "      </g>\n",
       "     </g>\n",
       "    </g>\n",
       "   </g>\n",
       "   <g id=\"matplotlib.axis_2\">\n",
       "    <g id=\"ytick_1\">\n",
       "     <g id=\"line2d_7\">\n",
       "      <defs>\n",
       "       <path d=\"M 0 0  L -3.5 0  \" id=\"mfb74d8a1d4\" style=\"stroke:#000000;stroke-width:0.8;\"/>\n",
       "      </defs>\n",
       "      <g>\n",
       "       <use style=\"stroke:#000000;stroke-width:0.8;\" x=\"57.6\" xlink:href=\"#mfb74d8a1d4\" y=\"271.532626\"/>\n",
       "      </g>\n",
       "     </g>\n",
       "     <g id=\"text_7\">\n",
       "      <!-- −0.4 -->\n",
       "      <defs>\n",
       "       <path d=\"M 10.59375 35.5  L 73.1875 35.5  L 73.1875 27.203125  L 10.59375 27.203125  z \" id=\"DejaVuSans-2212\"/>\n",
       "       <path d=\"M 10.6875 12.40625  L 21 12.40625  L 21 0  L 10.6875 0  z \" id=\"DejaVuSans-2e\"/>\n",
       "      </defs>\n",
       "      <g transform=\"translate(26.317187 275.331844)scale(0.1 -0.1)\">\n",
       "       <use xlink:href=\"#DejaVuSans-2212\"/>\n",
       "       <use x=\"83.789062\" xlink:href=\"#DejaVuSans-30\"/>\n",
       "       <use x=\"147.412109\" xlink:href=\"#DejaVuSans-2e\"/>\n",
       "       <use x=\"179.199219\" xlink:href=\"#DejaVuSans-34\"/>\n",
       "      </g>\n",
       "     </g>\n",
       "    </g>\n",
       "    <g id=\"ytick_2\">\n",
       "     <g id=\"line2d_8\">\n",
       "      <g>\n",
       "       <use style=\"stroke:#000000;stroke-width:0.8;\" x=\"57.6\" xlink:href=\"#mfb74d8a1d4\" y=\"223.0958\"/>\n",
       "      </g>\n",
       "     </g>\n",
       "     <g id=\"text_8\">\n",
       "      <!-- −0.2 -->\n",
       "      <g transform=\"translate(26.317187 226.895018)scale(0.1 -0.1)\">\n",
       "       <use xlink:href=\"#DejaVuSans-2212\"/>\n",
       "       <use x=\"83.789062\" xlink:href=\"#DejaVuSans-30\"/>\n",
       "       <use x=\"147.412109\" xlink:href=\"#DejaVuSans-2e\"/>\n",
       "       <use x=\"179.199219\" xlink:href=\"#DejaVuSans-32\"/>\n",
       "      </g>\n",
       "     </g>\n",
       "    </g>\n",
       "    <g id=\"ytick_3\">\n",
       "     <g id=\"line2d_9\">\n",
       "      <g>\n",
       "       <use style=\"stroke:#000000;stroke-width:0.8;\" x=\"57.6\" xlink:href=\"#mfb74d8a1d4\" y=\"174.658973\"/>\n",
       "      </g>\n",
       "     </g>\n",
       "     <g id=\"text_9\">\n",
       "      <!-- 0.0 -->\n",
       "      <g transform=\"translate(34.696875 178.458192)scale(0.1 -0.1)\">\n",
       "       <use xlink:href=\"#DejaVuSans-30\"/>\n",
       "       <use x=\"63.623047\" xlink:href=\"#DejaVuSans-2e\"/>\n",
       "       <use x=\"95.410156\" xlink:href=\"#DejaVuSans-30\"/>\n",
       "      </g>\n",
       "     </g>\n",
       "    </g>\n",
       "    <g id=\"ytick_4\">\n",
       "     <g id=\"line2d_10\">\n",
       "      <g>\n",
       "       <use style=\"stroke:#000000;stroke-width:0.8;\" x=\"57.6\" xlink:href=\"#mfb74d8a1d4\" y=\"126.222147\"/>\n",
       "      </g>\n",
       "     </g>\n",
       "     <g id=\"text_10\">\n",
       "      <!-- 0.2 -->\n",
       "      <g transform=\"translate(34.696875 130.021366)scale(0.1 -0.1)\">\n",
       "       <use xlink:href=\"#DejaVuSans-30\"/>\n",
       "       <use x=\"63.623047\" xlink:href=\"#DejaVuSans-2e\"/>\n",
       "       <use x=\"95.410156\" xlink:href=\"#DejaVuSans-32\"/>\n",
       "      </g>\n",
       "     </g>\n",
       "    </g>\n",
       "    <g id=\"ytick_5\">\n",
       "     <g id=\"line2d_11\">\n",
       "      <g>\n",
       "       <use style=\"stroke:#000000;stroke-width:0.8;\" x=\"57.6\" xlink:href=\"#mfb74d8a1d4\" y=\"77.785321\"/>\n",
       "      </g>\n",
       "     </g>\n",
       "     <g id=\"text_11\">\n",
       "      <!-- 0.4 -->\n",
       "      <g transform=\"translate(34.696875 81.58454)scale(0.1 -0.1)\">\n",
       "       <use xlink:href=\"#DejaVuSans-30\"/>\n",
       "       <use x=\"63.623047\" xlink:href=\"#DejaVuSans-2e\"/>\n",
       "       <use x=\"95.410156\" xlink:href=\"#DejaVuSans-34\"/>\n",
       "      </g>\n",
       "     </g>\n",
       "    </g>\n",
       "   </g>\n",
       "   <g id=\"line2d_12\">\n",
       "    <path clip-path=\"url(#p982066426d)\" d=\"M 73.832727 174.658973  L 77.112066 150.361989  L 80.391405 127.053249  L 83.670744 105.680803  L 86.950083 87.113943  L 90.229421 72.107851  L 93.50876 61.272877  L 96.788099 55.049717  L 100.067438 53.691491  L 103.346777 57.253441  L 106.626116 65.59069  L 109.905455 78.364134  L 113.184793 95.054231  L 116.464132 114.982134  L 119.743471 137.337307  L 123.02281 161.210484  L 126.302149 185.630659  L 129.581488 209.604576  L 132.860826 232.157132  L 136.140165 252.371034  L 139.419504 269.42411  L 142.698843 282.622753  L 145.978182 291.430125  L 149.257521 295.488  L 152.53686 294.63133  L 155.816198 288.894958  L 159.095537 278.512204  L 162.374876 263.905371  L 165.654215 245.668569  L 168.933554 224.543556  L 172.212893 201.389559  L 175.492231 177.148335  L 178.77157 152.80586  L 182.050909 129.352228  L 185.330248 107.741382  L 188.609587 88.852313  L 191.888926 73.453304  L 195.168264 62.170689  L 198.447603 55.463372  L 201.726942 53.604163  L 205.006281 56.668682  L 208.28562 64.532286  L 211.564959 76.875132  L 214.844298 93.195194  L 218.123636 112.828677  L 221.402975 134.977018  L 224.682314 158.739364  L 227.961653 183.149218  L 231.240992 207.213743  L 234.520331 229.95415  L 237.799669 250.445506  L 241.079008 267.854355  L 244.358347 281.472617  L 247.637686 290.746389  L 250.917025 295.298475  L 254.196364 294.943723  L 257.475702 289.696564  L 260.755041 279.770418  L 264.03438 265.569017  L 267.313719 247.669982  L 270.593058 226.80133  L 273.872397 203.811863  L 277.151736 179.636645  L 280.431074 155.258967  L 283.710413 131.670356  L 286.989752 109.830245  L 290.269091 90.626949  L 293.54843 74.841533  L 296.827769 63.116046  L 300.107107 55.927406  L 303.386446 53.568  L 306.665785 56.133794  L 309.945124 63.520427  L 313.224463 75.427459  L 316.503802 91.370589  L 319.78314 110.701353  L 323.062479 132.6335  L 326.341818 156.274973  L 329.621157 180.664188  L 332.900496 204.80915  L 336.179835 227.727797  L 339.459174 248.487946  L 342.738512 266.24521  L 346.017851 280.277336  L 349.29719 290.013589  L 352.576529 295.05796  L 355.855868 295.205277  L 359.135207 290.449548  L 362.414545 280.984206  L 365.693884 267.19424  L 368.973223 249.640535  L 372.252562 229.037065  L 375.531901 206.221845  L 378.81124 182.122851  L 382.090579 157.720274  L 385.369917 134.006654  L 388.649256 111.946509  L 391.928595 92.437102  L 395.207934 76.27195  L 398.487273 64.108547  \" style=\"fill:none;stroke:#1f77b4;stroke-linecap:square;stroke-width:1.5;\"/>\n",
       "   </g>\n",
       "   <g id=\"patch_3\">\n",
       "    <path d=\"M 57.6 307.584  L 57.6 41.472  \" style=\"fill:none;stroke:#000000;stroke-linecap:square;stroke-linejoin:miter;stroke-width:0.8;\"/>\n",
       "   </g>\n",
       "   <g id=\"patch_4\">\n",
       "    <path d=\"M 414.72 307.584  L 414.72 41.472  \" style=\"fill:none;stroke:#000000;stroke-linecap:square;stroke-linejoin:miter;stroke-width:0.8;\"/>\n",
       "   </g>\n",
       "   <g id=\"patch_5\">\n",
       "    <path d=\"M 57.6 307.584  L 414.72 307.584  \" style=\"fill:none;stroke:#000000;stroke-linecap:square;stroke-linejoin:miter;stroke-width:0.8;\"/>\n",
       "   </g>\n",
       "   <g id=\"patch_6\">\n",
       "    <path d=\"M 57.6 41.472  L 414.72 41.472  \" style=\"fill:none;stroke:#000000;stroke-linecap:square;stroke-linejoin:miter;stroke-width:0.8;\"/>\n",
       "   </g>\n",
       "  </g>\n",
       " </g>\n",
       " <defs>\n",
       "  <clipPath id=\"p982066426d\">\n",
       "   <rect height=\"266.112\" width=\"357.12\" x=\"57.6\" y=\"41.472\"/>\n",
       "  </clipPath>\n",
       " </defs>\n",
       "</svg>"
      ],
      "text/plain": [
       "<IPython.core.display.SVG object>"
      ]
     },
     "execution_count": 14,
     "metadata": {},
     "output_type": "execute_result"
    }
   ],
   "source": [
    "# Show the produced SVG file. \n",
    "SVG(filename=\"test.svg\")"
   ]
  },
  {
   "cell_type": "code",
   "execution_count": null,
   "metadata": {
    "collapsed": true,
    "nbpresent": {
     "id": "5d23ae02-adbb-46fb-8c80-cd90f88dee81"
    }
   },
   "outputs": [],
   "source": [
    "# To go back to default Remember: you need to restart the notebook\n",
    "import matplotlib\n",
    "matplotlib.use('agg')\n",
    "\n",
    "mtchem "
   ]
  },
  {
   "cell_type": "markdown",
   "metadata": {
    "collapsed": true
   },
   "source": [
    "# This is just a taste of what is possible.  Go forth and Plot!"
   ]
  }
 ],
 "metadata": {
  "anaconda-cloud": {},
  "kernelspec": {
   "display_name": "Python [conda env:py35]",
   "language": "python",
   "name": "conda-env-py35-py"
  },
  "language_info": {
   "codemirror_mode": {
    "name": "ipython",
    "version": 3
   },
   "file_extension": ".py",
   "mimetype": "text/x-python",
   "name": "python",
   "nbconvert_exporter": "python",
   "pygments_lexer": "ipython3",
   "version": "3.5.3"
  },
  "nbpresent": {
   "slides": {
    "4b2a3daf-b0a1-4725-a0d9-8b476c44df1e": {
     "id": "4b2a3daf-b0a1-4725-a0d9-8b476c44df1e",
     "prev": null,
     "regions": {
      "e0293f39-5c67-4014-a72a-4b99810d03a2": {
       "attrs": {
        "height": 1,
        "width": 1,
        "x": 0,
        "y": 0
       },
       "id": "e0293f39-5c67-4014-a72a-4b99810d03a2"
      }
     }
    }
   },
   "themes": {}
  }
 },
 "nbformat": 4,
 "nbformat_minor": 2
}
